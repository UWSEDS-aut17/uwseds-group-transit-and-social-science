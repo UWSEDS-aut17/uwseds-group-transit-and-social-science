{
 "cells": [
  {
   "cell_type": "code",
   "execution_count": 1,
   "metadata": {
    "collapsed": true
   },
   "outputs": [],
   "source": [
    "import pandas as pd"
   ]
  },
  {
   "cell_type": "code",
   "execution_count": 79,
   "metadata": {},
   "outputs": [],
   "source": [
    "trips_df = pd.read_csv('trips.txt')\n",
    "trips_df.head()\n",
    "route_id_num = '100215'\n",
    "shapes_df = pd.read_csv('shapes.txt')"
   ]
  },
  {
   "cell_type": "code",
   "execution_count": 80,
   "metadata": {},
   "outputs": [
    {
     "data": {
      "text/html": [
       "<div>\n",
       "<style>\n",
       "    .dataframe thead tr:only-child th {\n",
       "        text-align: right;\n",
       "    }\n",
       "\n",
       "    .dataframe thead th {\n",
       "        text-align: left;\n",
       "    }\n",
       "\n",
       "    .dataframe tbody tr th {\n",
       "        vertical-align: top;\n",
       "    }\n",
       "</style>\n",
       "<table border=\"1\" class=\"dataframe\">\n",
       "  <thead>\n",
       "    <tr style=\"text-align: right;\">\n",
       "      <th></th>\n",
       "      <th>route_id</th>\n",
       "      <th>trip_id</th>\n",
       "      <th>service_id</th>\n",
       "      <th>trip_short_name</th>\n",
       "      <th>trip_headsign</th>\n",
       "      <th>route_short_name</th>\n",
       "      <th>direction_id</th>\n",
       "      <th>block_id</th>\n",
       "      <th>shape_id</th>\n",
       "      <th>fare_id</th>\n",
       "    </tr>\n",
       "  </thead>\n",
       "  <tbody>\n",
       "    <tr>\n",
       "      <th>0</th>\n",
       "      <td>100215</td>\n",
       "      <td>30767311</td>\n",
       "      <td>5251</td>\n",
       "      <td>EXPRESS</td>\n",
       "      <td>University District Jackson Park</td>\n",
       "      <td>373E</td>\n",
       "      <td>1</td>\n",
       "      <td>4512627</td>\n",
       "      <td>24373019</td>\n",
       "      <td>112.0</td>\n",
       "    </tr>\n",
       "    <tr>\n",
       "      <th>1</th>\n",
       "      <td>100215</td>\n",
       "      <td>30767312</td>\n",
       "      <td>5251</td>\n",
       "      <td>EXPRESS</td>\n",
       "      <td>University District Jackson Park</td>\n",
       "      <td>373E</td>\n",
       "      <td>1</td>\n",
       "      <td>4512470</td>\n",
       "      <td>24373019</td>\n",
       "      <td>112.0</td>\n",
       "    </tr>\n",
       "    <tr>\n",
       "      <th>2</th>\n",
       "      <td>100059</td>\n",
       "      <td>30767342</td>\n",
       "      <td>5251</td>\n",
       "      <td>LOCAL</td>\n",
       "      <td>University District Via SR-520</td>\n",
       "      <td>NaN</td>\n",
       "      <td>1</td>\n",
       "      <td>4512593</td>\n",
       "      <td>14167334</td>\n",
       "      <td>112.0</td>\n",
       "    </tr>\n",
       "    <tr>\n",
       "      <th>3</th>\n",
       "      <td>100059</td>\n",
       "      <td>30767344</td>\n",
       "      <td>5251</td>\n",
       "      <td>LOCAL</td>\n",
       "      <td>University District Via SR-520</td>\n",
       "      <td>NaN</td>\n",
       "      <td>1</td>\n",
       "      <td>4512533</td>\n",
       "      <td>14167334</td>\n",
       "      <td>112.0</td>\n",
       "    </tr>\n",
       "    <tr>\n",
       "      <th>4</th>\n",
       "      <td>100059</td>\n",
       "      <td>30767346</td>\n",
       "      <td>5251</td>\n",
       "      <td>LOCAL</td>\n",
       "      <td>University District Via SR-520</td>\n",
       "      <td>NaN</td>\n",
       "      <td>1</td>\n",
       "      <td>4512615</td>\n",
       "      <td>14167334</td>\n",
       "      <td>112.0</td>\n",
       "    </tr>\n",
       "  </tbody>\n",
       "</table>\n",
       "</div>"
      ],
      "text/plain": [
       "   route_id   trip_id  service_id trip_short_name  \\\n",
       "0    100215  30767311        5251         EXPRESS   \n",
       "1    100215  30767312        5251         EXPRESS   \n",
       "2    100059  30767342        5251           LOCAL   \n",
       "3    100059  30767344        5251           LOCAL   \n",
       "4    100059  30767346        5251           LOCAL   \n",
       "\n",
       "                      trip_headsign route_short_name  direction_id  block_id  \\\n",
       "0  University District Jackson Park             373E             1   4512627   \n",
       "1  University District Jackson Park             373E             1   4512470   \n",
       "2    University District Via SR-520              NaN             1   4512593   \n",
       "3    University District Via SR-520              NaN             1   4512533   \n",
       "4    University District Via SR-520              NaN             1   4512615   \n",
       "\n",
       "   shape_id  fare_id  \n",
       "0  24373019    112.0  \n",
       "1  24373019    112.0  \n",
       "2  14167334    112.0  \n",
       "3  14167334    112.0  \n",
       "4  14167334    112.0  "
      ]
     },
     "execution_count": 80,
     "metadata": {},
     "output_type": "execute_result"
    }
   ],
   "source": [
    "trips_df.head()"
   ]
  },
  {
   "cell_type": "code",
   "execution_count": 76,
   "metadata": {},
   "outputs": [
    {
     "data": {
      "text/plain": [
       "24373019"
      ]
     },
     "execution_count": 76,
     "metadata": {},
     "output_type": "execute_result"
    }
   ],
   "source": [
    "index = trips_df.index[trips_df['route_id'] == 100215].values\n",
    "trips_df.get_value(index[0], 'shape_id' )"
   ]
  },
  {
   "cell_type": "code",
   "execution_count": 104,
   "metadata": {},
   "outputs": [],
   "source": [
    "shape_info = shapes_df.query('shape_id ==' + str(10002011) )"
   ]
  },
  {
   "cell_type": "code",
   "execution_count": 105,
   "metadata": {},
   "outputs": [],
   "source": [
    "route_shape = shape_info.groupby('shape_id')['shape_pt_lat', 'shape_pt_lon']"
   ]
  },
  {
   "cell_type": "code",
   "execution_count": 106,
   "metadata": {},
   "outputs": [
    {
     "data": {
      "text/html": [
       "<div>\n",
       "<style>\n",
       "    .dataframe thead tr:only-child th {\n",
       "        text-align: right;\n",
       "    }\n",
       "\n",
       "    .dataframe thead th {\n",
       "        text-align: left;\n",
       "    }\n",
       "\n",
       "    .dataframe tbody tr th {\n",
       "        vertical-align: top;\n",
       "    }\n",
       "</style>\n",
       "<table border=\"1\" class=\"dataframe\">\n",
       "  <thead>\n",
       "    <tr style=\"text-align: right;\">\n",
       "      <th></th>\n",
       "      <th>shape_pt_lat</th>\n",
       "      <th>shape_pt_lon</th>\n",
       "    </tr>\n",
       "  </thead>\n",
       "  <tbody>\n",
       "    <tr>\n",
       "      <th>0</th>\n",
       "      <td>47.612160</td>\n",
       "      <td>-122.281761</td>\n",
       "    </tr>\n",
       "    <tr>\n",
       "      <th>1</th>\n",
       "      <td>47.612164</td>\n",
       "      <td>-122.281830</td>\n",
       "    </tr>\n",
       "    <tr>\n",
       "      <th>2</th>\n",
       "      <td>47.612122</td>\n",
       "      <td>-122.281921</td>\n",
       "    </tr>\n",
       "    <tr>\n",
       "      <th>3</th>\n",
       "      <td>47.612202</td>\n",
       "      <td>-122.282005</td>\n",
       "    </tr>\n",
       "    <tr>\n",
       "      <th>4</th>\n",
       "      <td>47.612278</td>\n",
       "      <td>-122.282074</td>\n",
       "    </tr>\n",
       "  </tbody>\n",
       "</table>\n",
       "</div>"
      ],
      "text/plain": [
       "   shape_pt_lat  shape_pt_lon\n",
       "0     47.612160   -122.281761\n",
       "1     47.612164   -122.281830\n",
       "2     47.612122   -122.281921\n",
       "3     47.612202   -122.282005\n",
       "4     47.612278   -122.282074"
      ]
     },
     "execution_count": 106,
     "metadata": {},
     "output_type": "execute_result"
    }
   ],
   "source": [
    "route_shape.head()"
   ]
  },
  {
   "cell_type": "code",
   "execution_count": 100,
   "metadata": {},
   "outputs": [
    {
     "ename": "AttributeError",
     "evalue": "'DataFrameGroupBy' object has no attribute 'tolist'",
     "output_type": "error",
     "traceback": [
      "\u001b[1;31m---------------------------------------------------------------------------\u001b[0m",
      "\u001b[1;31mAttributeError\u001b[0m                            Traceback (most recent call last)",
      "\u001b[1;32m<ipython-input-100-9205955d9700>\u001b[0m in \u001b[0;36m<module>\u001b[1;34m()\u001b[0m\n\u001b[1;32m----> 1\u001b[1;33m \u001b[0mroute_shape\u001b[0m\u001b[1;33m.\u001b[0m\u001b[0mtolist\u001b[0m\u001b[1;33m(\u001b[0m\u001b[1;33m)\u001b[0m\u001b[1;33m\u001b[0m\u001b[0m\n\u001b[0m",
      "\u001b[1;32m~\\Miniconda3\\lib\\site-packages\\pandas\\core\\groupby.py\u001b[0m in \u001b[0;36m__getattr__\u001b[1;34m(self, attr)\u001b[0m\n\u001b[0;32m    549\u001b[0m \u001b[1;33m\u001b[0m\u001b[0m\n\u001b[0;32m    550\u001b[0m         raise AttributeError(\"%r object has no attribute %r\" %\n\u001b[1;32m--> 551\u001b[1;33m                              (type(self).__name__, attr))\n\u001b[0m\u001b[0;32m    552\u001b[0m \u001b[1;33m\u001b[0m\u001b[0m\n\u001b[0;32m    553\u001b[0m     \u001b[0mplot\u001b[0m \u001b[1;33m=\u001b[0m \u001b[0mproperty\u001b[0m\u001b[1;33m(\u001b[0m\u001b[0mGroupByPlot\u001b[0m\u001b[1;33m)\u001b[0m\u001b[1;33m\u001b[0m\u001b[0m\n",
      "\u001b[1;31mAttributeError\u001b[0m: 'DataFrameGroupBy' object has no attribute 'tolist'"
     ]
    }
   ],
   "source": [
    "route_shape."
   ]
  },
  {
   "cell_type": "code",
   "execution_count": null,
   "metadata": {
    "collapsed": true
   },
   "outputs": [],
   "source": []
  }
 ],
 "metadata": {
  "kernelspec": {
   "display_name": "Python 3",
   "language": "python",
   "name": "python3"
  },
  "language_info": {
   "codemirror_mode": {
    "name": "ipython",
    "version": 3
   },
   "file_extension": ".py",
   "mimetype": "text/x-python",
   "name": "python",
   "nbconvert_exporter": "python",
   "pygments_lexer": "ipython3",
   "version": "3.6.2"
  }
 },
 "nbformat": 4,
 "nbformat_minor": 2
}
