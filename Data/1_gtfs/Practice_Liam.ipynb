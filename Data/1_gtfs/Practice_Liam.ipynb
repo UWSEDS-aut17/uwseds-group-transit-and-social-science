{
 "cells": [
  {
   "cell_type": "code",
   "execution_count": 28,
   "metadata": {
    "collapsed": true
   },
   "outputs": [],
   "source": [
    "from bokeh.models import ColumnDataSource\n",
    "import pandas as pd\n",
    "import geopandas as gpd\n",
    "from bokeh.plotting import figure,save"
   ]
  },
  {
   "cell_type": "code",
   "execution_count": 21,
   "metadata": {
    "collapsed": true
   },
   "outputs": [],
   "source": [
    "shapes_df = pd.read_csv('shapes.txt')"
   ]
  },
  {
   "cell_type": "code",
   "execution_count": 22,
   "metadata": {},
   "outputs": [
    {
     "data": {
      "text/html": [
       "<div>\n",
       "<style>\n",
       "    .dataframe thead tr:only-child th {\n",
       "        text-align: right;\n",
       "    }\n",
       "\n",
       "    .dataframe thead th {\n",
       "        text-align: left;\n",
       "    }\n",
       "\n",
       "    .dataframe tbody tr th {\n",
       "        vertical-align: top;\n",
       "    }\n",
       "</style>\n",
       "<table border=\"1\" class=\"dataframe\">\n",
       "  <thead>\n",
       "    <tr style=\"text-align: right;\">\n",
       "      <th></th>\n",
       "      <th>shape_id</th>\n",
       "      <th>shape_pt_sequence</th>\n",
       "      <th>shape_pt_lat</th>\n",
       "      <th>shape_pt_lon</th>\n",
       "      <th>shape_dist_traveled</th>\n",
       "    </tr>\n",
       "  </thead>\n",
       "  <tbody>\n",
       "    <tr>\n",
       "      <th>0</th>\n",
       "      <td>10002011</td>\n",
       "      <td>1</td>\n",
       "      <td>47.612160</td>\n",
       "      <td>-122.281761</td>\n",
       "      <td>0.0</td>\n",
       "    </tr>\n",
       "    <tr>\n",
       "      <th>1</th>\n",
       "      <td>10002011</td>\n",
       "      <td>2</td>\n",
       "      <td>47.612164</td>\n",
       "      <td>-122.281830</td>\n",
       "      <td>16.4</td>\n",
       "    </tr>\n",
       "    <tr>\n",
       "      <th>2</th>\n",
       "      <td>10002011</td>\n",
       "      <td>3</td>\n",
       "      <td>47.612122</td>\n",
       "      <td>-122.281921</td>\n",
       "      <td>45.0</td>\n",
       "    </tr>\n",
       "    <tr>\n",
       "      <th>3</th>\n",
       "      <td>10002011</td>\n",
       "      <td>4</td>\n",
       "      <td>47.612202</td>\n",
       "      <td>-122.282005</td>\n",
       "      <td>80.3</td>\n",
       "    </tr>\n",
       "    <tr>\n",
       "      <th>4</th>\n",
       "      <td>10002011</td>\n",
       "      <td>5</td>\n",
       "      <td>47.612278</td>\n",
       "      <td>-122.282074</td>\n",
       "      <td>113.3</td>\n",
       "    </tr>\n",
       "  </tbody>\n",
       "</table>\n",
       "</div>"
      ],
      "text/plain": [
       "   shape_id  shape_pt_sequence  shape_pt_lat  shape_pt_lon  \\\n",
       "0  10002011                  1     47.612160   -122.281761   \n",
       "1  10002011                  2     47.612164   -122.281830   \n",
       "2  10002011                  3     47.612122   -122.281921   \n",
       "3  10002011                  4     47.612202   -122.282005   \n",
       "4  10002011                  5     47.612278   -122.282074   \n",
       "\n",
       "   shape_dist_traveled  \n",
       "0                  0.0  \n",
       "1                 16.4  \n",
       "2                 45.0  \n",
       "3                 80.3  \n",
       "4                113.3  "
      ]
     },
     "execution_count": 22,
     "metadata": {},
     "output_type": "execute_result"
    }
   ],
   "source": [
    "shapes_df.head()"
   ]
  },
  {
   "cell_type": "code",
   "execution_count": 23,
   "metadata": {
    "collapsed": true
   },
   "outputs": [],
   "source": [
    "shape_info = shapes_df.query('shape_id ==' + str(10002011) )"
   ]
  },
  {
   "cell_type": "code",
   "execution_count": 24,
   "metadata": {
    "collapsed": true
   },
   "outputs": [],
   "source": [
    "route_shape = shape_info.groupby('shape_id')['shape_pt_lat', 'shape_pt_lon']"
   ]
  },
  {
   "cell_type": "code",
   "execution_count": 25,
   "metadata": {},
   "outputs": [
    {
     "data": {
      "text/html": [
       "<div>\n",
       "<style>\n",
       "    .dataframe thead tr:only-child th {\n",
       "        text-align: right;\n",
       "    }\n",
       "\n",
       "    .dataframe thead th {\n",
       "        text-align: left;\n",
       "    }\n",
       "\n",
       "    .dataframe tbody tr th {\n",
       "        vertical-align: top;\n",
       "    }\n",
       "</style>\n",
       "<table border=\"1\" class=\"dataframe\">\n",
       "  <thead>\n",
       "    <tr style=\"text-align: right;\">\n",
       "      <th></th>\n",
       "      <th>shape_pt_lat</th>\n",
       "      <th>shape_pt_lon</th>\n",
       "    </tr>\n",
       "  </thead>\n",
       "  <tbody>\n",
       "    <tr>\n",
       "      <th>0</th>\n",
       "      <td>47.612160</td>\n",
       "      <td>-122.281761</td>\n",
       "    </tr>\n",
       "    <tr>\n",
       "      <th>1</th>\n",
       "      <td>47.612164</td>\n",
       "      <td>-122.281830</td>\n",
       "    </tr>\n",
       "    <tr>\n",
       "      <th>2</th>\n",
       "      <td>47.612122</td>\n",
       "      <td>-122.281921</td>\n",
       "    </tr>\n",
       "    <tr>\n",
       "      <th>3</th>\n",
       "      <td>47.612202</td>\n",
       "      <td>-122.282005</td>\n",
       "    </tr>\n",
       "    <tr>\n",
       "      <th>4</th>\n",
       "      <td>47.612278</td>\n",
       "      <td>-122.282074</td>\n",
       "    </tr>\n",
       "  </tbody>\n",
       "</table>\n",
       "</div>"
      ],
      "text/plain": [
       "   shape_pt_lat  shape_pt_lon\n",
       "0     47.612160   -122.281761\n",
       "1     47.612164   -122.281830\n",
       "2     47.612122   -122.281921\n",
       "3     47.612202   -122.282005\n",
       "4     47.612278   -122.282074"
      ]
     },
     "execution_count": 25,
     "metadata": {},
     "output_type": "execute_result"
    }
   ],
   "source": [
    "route_shape.head()"
   ]
  },
  {
   "cell_type": "code",
   "execution_count": 26,
   "metadata": {
    "collapsed": true
   },
   "outputs": [],
   "source": [
    "psource = ColumnDataSource(route_shape)"
   ]
  },
  {
   "cell_type": "code",
   "execution_count": 14,
   "metadata": {},
   "outputs": [
    {
     "data": {
      "text/html": [
       "<div style=\"display: table;\"><div style=\"display: table-row;\"><div style=\"display: table-cell;\"><b title=\"bokeh.models.sources.ColumnDataSource\">ColumnDataSource</b>(</div><div style=\"display: table-cell;\">id&nbsp;=&nbsp;'186805f2-9488-4abb-9484-3a7eeee13039', <span id=\"6c00704a-b686-449d-bc68-5cafe3430ad3\" style=\"cursor: pointer;\">&hellip;)</span></div></div><div class=\"8e2845ad-87f9-43cc-a324-f198f46b6341\" style=\"display: none;\"><div style=\"display: table-cell;\"></div><div style=\"display: table-cell;\">callback&nbsp;=&nbsp;None,</div></div><div class=\"8e2845ad-87f9-43cc-a324-f198f46b6341\" style=\"display: none;\"><div style=\"display: table-cell;\"></div><div style=\"display: table-cell;\">column_names&nbsp;=&nbsp;['shape_pt_lat_count', 'shape_pt_lat_mean', 'shape_pt_lat_std', 'shape_pt_lat_min', 'shape_pt_lat_25%', 'shape_pt_lat_50%', 'shape_pt_lat_75%', 'shape_pt_lat_max', 'shape_pt_lon_count', 'shape_pt_lon_mean', 'shape_pt_lon_std', 'shape_pt_lon_min', 'shape_pt_lon_25%', 'shape_pt_lon_50%', 'shape_pt_lon_75%', 'shape_pt_lon_max', 'shape_id'],</div></div><div class=\"8e2845ad-87f9-43cc-a324-f198f46b6341\" style=\"display: none;\"><div style=\"display: table-cell;\"></div><div style=\"display: table-cell;\">data&nbsp;=&nbsp;{'shape_pt_lat_count': {'__ndarray__': 'AAAAAADAX0A=', 'shape': (1,), 'dtype': 'float64'}, 'shape_pt_lat_mean': {'__ndarray__': 'F3IvdZbOR0A=', 'shape': (1,), 'dtype': 'float64'}, 'shape_pt_lat_std': {'__ndarray__': 'nY7NO2VEZD8=', 'shape': (1,), 'dtype': 'float64'}, 'shape_pt_lat_min': {'__ndarray__': 'u+8YHvvNR0A=', 'shape': (1,), 'dtype': 'float64'}, 'shape_pt_lat_25%': {'__ndarray__': 'VOQQcXPOR0A=', 'shape': (1,), 'dtype': 'float64'}, 'shape_pt_lat_50%': {'__ndarray__': 'Iywq4nTOR0A=', 'shape': (1,), 'dtype': 'float64'}, 'shape_pt_lat_75%': {'__ndarray__': 'MEROX8/OR0A=', 'shape': (1,), 'dtype': 'float64'}, 'shape_pt_lat_max': {'__ndarray__': '7GmHvybPR0A=', 'shape': (1,), 'dtype': 'float64'}, 'shape_pt_lon_count': {'__ndarray__': 'AAAAAADAX0A=', 'shape': (1,), 'dtype': 'float64'}, 'shape_pt_lon_mean': {'__ndarray__': 'Gquwp2STXsA=', 'shape': (1,), 'dtype': 'float64'}, 'shape_pt_lon_std': {'__ndarray__': '/1xhGnxnkD8=', 'shape': (1,), 'dtype': 'float64'}, 'shape_pt_lon_min': {'__ndarray__': 'Pdf34SCVXsA=', 'shape': (1,), 'dtype': 'float64'}, 'shape_pt_lon_25%': {'__ndarray__': 'cqd0sH6UXsA=', 'shape': (1,), 'dtype': 'float64'}, 'shape_pt_lon_50%': {'__ndarray__': 'Ti7GwDqTXsA=', 'shape': (1,), 'dtype': 'float64'}, 'shape_pt_lon_75%': {'__ndarray__': 'BB4YQHiSXsA=', 'shape': (1,), 'dtype': 'float64'}, 'shape_pt_lon_max': {'__ndarray__': 'dBJKXwiSXsA=', 'shape': (1,), 'dtype': 'float64'}, 'shape_id': [10002011]},</div></div><div class=\"8e2845ad-87f9-43cc-a324-f198f46b6341\" style=\"display: none;\"><div style=\"display: table-cell;\"></div><div style=\"display: table-cell;\">js_event_callbacks&nbsp;=&nbsp;{},</div></div><div class=\"8e2845ad-87f9-43cc-a324-f198f46b6341\" style=\"display: none;\"><div style=\"display: table-cell;\"></div><div style=\"display: table-cell;\">js_property_callbacks&nbsp;=&nbsp;{},</div></div><div class=\"8e2845ad-87f9-43cc-a324-f198f46b6341\" style=\"display: none;\"><div style=\"display: table-cell;\"></div><div style=\"display: table-cell;\">name&nbsp;=&nbsp;None,</div></div><div class=\"8e2845ad-87f9-43cc-a324-f198f46b6341\" style=\"display: none;\"><div style=\"display: table-cell;\"></div><div style=\"display: table-cell;\">selected&nbsp;=&nbsp;{'0d': {'glyph': None, 'indices': []}, '1d': {'indices': []}, '2d': {'indices': {}}},</div></div><div class=\"8e2845ad-87f9-43cc-a324-f198f46b6341\" style=\"display: none;\"><div style=\"display: table-cell;\"></div><div style=\"display: table-cell;\">subscribed_events&nbsp;=&nbsp;[],</div></div><div class=\"8e2845ad-87f9-43cc-a324-f198f46b6341\" style=\"display: none;\"><div style=\"display: table-cell;\"></div><div style=\"display: table-cell;\">tags&nbsp;=&nbsp;[])</div></div></div>\n",
       "<script>\n",
       "(function() {\n",
       "  var expanded = false;\n",
       "  var ellipsis = document.getElementById(\"6c00704a-b686-449d-bc68-5cafe3430ad3\");\n",
       "  ellipsis.addEventListener(\"click\", function() {\n",
       "    var rows = document.getElementsByClassName(\"8e2845ad-87f9-43cc-a324-f198f46b6341\");\n",
       "    for (var i = 0; i < rows.length; i++) {\n",
       "      var el = rows[i];\n",
       "      el.style.display = expanded ? \"none\" : \"table-row\";\n",
       "    }\n",
       "    ellipsis.innerHTML = expanded ? \"&hellip;)\" : \"&lsaquo;&lsaquo;&lsaquo;\";\n",
       "    expanded = !expanded;\n",
       "  });\n",
       "})();\n",
       "</script>\n"
      ],
      "text/plain": [
       "ColumnDataSource(id='186805f2-9488-4abb-9484-3a7eeee13039', ...)"
      ]
     },
     "execution_count": 14,
     "metadata": {},
     "output_type": "execute_result"
    }
   ],
   "source": [
    "psource"
   ]
  },
  {
   "cell_type": "code",
   "execution_count": 30,
   "metadata": {},
   "outputs": [],
   "source": [
    "p=figure(title=\"Mapping\")"
   ]
  },
  {
   "cell_type": "code",
   "execution_count": 31,
   "metadata": {},
   "outputs": [
    {
     "data": {
      "text/html": [
       "<div style=\"display: table;\"><div style=\"display: table-row;\"><div style=\"display: table-cell;\"><b title=\"bokeh.models.renderers.GlyphRenderer\">GlyphRenderer</b>(</div><div style=\"display: table-cell;\">id&nbsp;=&nbsp;'3d6770d4-bd75-4c3d-b5ca-82e82b67849d', <span id=\"a404fd7e-d399-4205-9c06-c4c6669e28bf\" style=\"cursor: pointer;\">&hellip;)</span></div></div><div class=\"00c8fbee-04ae-4400-84c5-d601be4c3915\" style=\"display: none;\"><div style=\"display: table-cell;\"></div><div style=\"display: table-cell;\">data_source&nbsp;=&nbsp;ColumnDataSource(id='9f8a1959-a7a4-46f5-8c4c-12acd7387e1a', ...),</div></div><div class=\"00c8fbee-04ae-4400-84c5-d601be4c3915\" style=\"display: none;\"><div style=\"display: table-cell;\"></div><div style=\"display: table-cell;\">glyph&nbsp;=&nbsp;Circle(id='26c320c2-73f0-4e59-9bdf-ddda9bf32aaf', ...),</div></div><div class=\"00c8fbee-04ae-4400-84c5-d601be4c3915\" style=\"display: none;\"><div style=\"display: table-cell;\"></div><div style=\"display: table-cell;\">hover_glyph&nbsp;=&nbsp;None,</div></div><div class=\"00c8fbee-04ae-4400-84c5-d601be4c3915\" style=\"display: none;\"><div style=\"display: table-cell;\"></div><div style=\"display: table-cell;\">js_event_callbacks&nbsp;=&nbsp;{},</div></div><div class=\"00c8fbee-04ae-4400-84c5-d601be4c3915\" style=\"display: none;\"><div style=\"display: table-cell;\"></div><div style=\"display: table-cell;\">js_property_callbacks&nbsp;=&nbsp;{},</div></div><div class=\"00c8fbee-04ae-4400-84c5-d601be4c3915\" style=\"display: none;\"><div style=\"display: table-cell;\"></div><div style=\"display: table-cell;\">level&nbsp;=&nbsp;'glyph',</div></div><div class=\"00c8fbee-04ae-4400-84c5-d601be4c3915\" style=\"display: none;\"><div style=\"display: table-cell;\"></div><div style=\"display: table-cell;\">muted&nbsp;=&nbsp;False,</div></div><div class=\"00c8fbee-04ae-4400-84c5-d601be4c3915\" style=\"display: none;\"><div style=\"display: table-cell;\"></div><div style=\"display: table-cell;\">muted_glyph&nbsp;=&nbsp;None,</div></div><div class=\"00c8fbee-04ae-4400-84c5-d601be4c3915\" style=\"display: none;\"><div style=\"display: table-cell;\"></div><div style=\"display: table-cell;\">name&nbsp;=&nbsp;None,</div></div><div class=\"00c8fbee-04ae-4400-84c5-d601be4c3915\" style=\"display: none;\"><div style=\"display: table-cell;\"></div><div style=\"display: table-cell;\">nonselection_glyph&nbsp;=&nbsp;Circle(id='dd2309b5-3420-4e26-9e60-89821cbc1b20', ...),</div></div><div class=\"00c8fbee-04ae-4400-84c5-d601be4c3915\" style=\"display: none;\"><div style=\"display: table-cell;\"></div><div style=\"display: table-cell;\">selection_glyph&nbsp;=&nbsp;None,</div></div><div class=\"00c8fbee-04ae-4400-84c5-d601be4c3915\" style=\"display: none;\"><div style=\"display: table-cell;\"></div><div style=\"display: table-cell;\">subscribed_events&nbsp;=&nbsp;[],</div></div><div class=\"00c8fbee-04ae-4400-84c5-d601be4c3915\" style=\"display: none;\"><div style=\"display: table-cell;\"></div><div style=\"display: table-cell;\">tags&nbsp;=&nbsp;[],</div></div><div class=\"00c8fbee-04ae-4400-84c5-d601be4c3915\" style=\"display: none;\"><div style=\"display: table-cell;\"></div><div style=\"display: table-cell;\">view&nbsp;=&nbsp;CDSView(id='ccced21b-38a0-41bf-9d77-efe797e58c57', ...),</div></div><div class=\"00c8fbee-04ae-4400-84c5-d601be4c3915\" style=\"display: none;\"><div style=\"display: table-cell;\"></div><div style=\"display: table-cell;\">visible&nbsp;=&nbsp;True,</div></div><div class=\"00c8fbee-04ae-4400-84c5-d601be4c3915\" style=\"display: none;\"><div style=\"display: table-cell;\"></div><div style=\"display: table-cell;\">x_range_name&nbsp;=&nbsp;'default',</div></div><div class=\"00c8fbee-04ae-4400-84c5-d601be4c3915\" style=\"display: none;\"><div style=\"display: table-cell;\"></div><div style=\"display: table-cell;\">y_range_name&nbsp;=&nbsp;'default')</div></div></div>\n",
       "<script>\n",
       "(function() {\n",
       "  var expanded = false;\n",
       "  var ellipsis = document.getElementById(\"a404fd7e-d399-4205-9c06-c4c6669e28bf\");\n",
       "  ellipsis.addEventListener(\"click\", function() {\n",
       "    var rows = document.getElementsByClassName(\"00c8fbee-04ae-4400-84c5-d601be4c3915\");\n",
       "    for (var i = 0; i < rows.length; i++) {\n",
       "      var el = rows[i];\n",
       "      el.style.display = expanded ? \"none\" : \"table-row\";\n",
       "    }\n",
       "    ellipsis.innerHTML = expanded ? \"&hellip;)\" : \"&lsaquo;&lsaquo;&lsaquo;\";\n",
       "    expanded = !expanded;\n",
       "  });\n",
       "})();\n",
       "</script>\n"
      ],
      "text/plain": [
       "GlyphRenderer(id='3d6770d4-bd75-4c3d-b5ca-82e82b67849d', ...)"
      ]
     },
     "execution_count": 31,
     "metadata": {},
     "output_type": "execute_result"
    }
   ],
   "source": [
    "p.circle('shape_pt_lat','shape_pt_lon',source=psource,color='red',size=5)"
   ]
  },
  {
   "cell_type": "code",
   "execution_count": 33,
   "metadata": {},
   "outputs": [
    {
     "name": "stderr",
     "output_type": "stream",
     "text": [
      "/home/liam/anaconda3/lib/python3.6/site-packages/bokeh/io.py:527: UserWarning: save() called but no resources were supplied and output_file(...) was never called, defaulting to resources.CDN\n",
      "  warnings.warn(\"save() called but no resources were supplied and output_file(...) was never called, defaulting to resources.CDN\")\n",
      "/home/liam/anaconda3/lib/python3.6/site-packages/bokeh/io.py:537: UserWarning: save() called but no title was supplied and output_file(...) was never called, using default title 'Bokeh Plot'\n",
      "  warnings.warn(\"save() called but no title was supplied and output_file(...) was never called, using default title 'Bokeh Plot'\")\n",
      "E-1001 (BAD_COLUMN_NAME): Glyph refers to nonexistent column name: shape_pt_lat, shape_pt_lon [renderer: GlyphRenderer(id='3d6770d4-bd75-4c3d-b5ca-82e82b67849d', ...)]\n"
     ]
    },
    {
     "data": {
      "text/plain": [
       "'/home/liam/Desktop/point_map.html'"
      ]
     },
     "execution_count": 33,
     "metadata": {},
     "output_type": "execute_result"
    }
   ],
   "source": [
    "outfp = r\"/home/liam/Desktop/point_map.html\"\n",
    "save(p,outfp)"
   ]
  },
  {
   "cell_type": "code",
   "execution_count": null,
   "metadata": {
    "collapsed": true
   },
   "outputs": [],
   "source": []
  },
  {
   "cell_type": "code",
   "execution_count": null,
   "metadata": {
    "collapsed": true
   },
   "outputs": [],
   "source": []
  },
  {
   "cell_type": "code",
   "execution_count": 34,
   "metadata": {
    "collapsed": true
   },
   "outputs": [],
   "source": [
    "fp = r\"/home/liam/Desktop/tract2010.shp\""
   ]
  },
  {
   "cell_type": "code",
   "execution_count": 35,
   "metadata": {},
   "outputs": [
    {
     "data": {
      "text/plain": [
       "'/home/liam/Desktop/tract2010.shp'"
      ]
     },
     "execution_count": 35,
     "metadata": {},
     "output_type": "execute_result"
    }
   ],
   "source": [
    "f = "
   ]
  },
  {
   "cell_type": "code",
   "execution_count": null,
   "metadata": {
    "collapsed": true
   },
   "outputs": [],
   "source": []
  }
 ],
 "metadata": {
  "kernelspec": {
   "display_name": "Python 3",
   "language": "python",
   "name": "python3"
  },
  "language_info": {
   "codemirror_mode": {
    "name": "ipython",
    "version": 3
   },
   "file_extension": ".py",
   "mimetype": "text/x-python",
   "name": "python",
   "nbconvert_exporter": "python",
   "pygments_lexer": "ipython3",
   "version": "3.6.2"
  }
 },
 "nbformat": 4,
 "nbformat_minor": 2
}
