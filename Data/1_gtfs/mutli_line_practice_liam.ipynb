{
 "cells": [
  {
   "cell_type": "code",
   "execution_count": 1,
   "metadata": {
    "collapsed": true
   },
   "outputs": [],
   "source": [
    "import numpy as np\n",
    "\n",
    "from bokeh.models import ColumnDataSource, DataRange1d, Plot, LinearAxis, Grid\n",
    "from bokeh.models.glyphs import MultiLine\n",
    "from bokeh.io import curdoc, show\n",
    "\n",
    "N = 9\n",
    "x = np.linspace(-2, 2, N)\n",
    "y = x**2\n",
    "\n",
    "xpts = np.array([-.09, -.12, .0, .12,  .09])\n",
    "ypts = np.array([-.1,   .02, .1, .02, -.1])\n",
    "\n",
    "source = ColumnDataSource(dict(\n",
    "        xs=[xpts*(1+i/10.0)+xx for i, xx in enumerate(x)],\n",
    "        ys=[ypts*(1+i/10.0)+yy for i, yy in enumerate(y)],\n",
    "    )\n",
    ")\n",
    "\n",
    "xdr = DataRange1d()\n",
    "ydr = DataRange1d()\n",
    "\n",
    "plot = Plot(\n",
    "    title=None, x_range=xdr, y_range=ydr, plot_width=300, plot_height=300,\n",
    "    h_symmetry=False, v_symmetry=False, min_border=0, toolbar_location=None)\n",
    "\n",
    "glyph = MultiLine(xs=\"xs\", ys=\"ys\", line_color=\"#8073ac\", line_width=2)\n",
    "plot.add_glyph(source, glyph)\n",
    "\n",
    "xaxis = LinearAxis()\n",
    "plot.add_layout(xaxis, 'below')\n",
    "\n",
    "yaxis = LinearAxis()\n",
    "plot.add_layout(yaxis, 'left')\n",
    "\n",
    "plot.add_layout(Grid(dimension=0, ticker=xaxis.ticker))\n",
    "plot.add_layout(Grid(dimension=1, ticker=yaxis.ticker))\n",
    "\n",
    "curdoc().add_root(plot)\n",
    "\n",
    "show(plot)"
   ]
  },
  {
   "cell_type": "code",
   "execution_count": 4,
   "metadata": {},
   "outputs": [
    {
     "data": {
      "text/plain": [
       "{'xs': [array([-2.09, -2.12, -2.  , -1.88, -1.91]),\n",
       "  array([-1.599, -1.632, -1.5  , -1.368, -1.401]),\n",
       "  array([-1.108, -1.144, -1.   , -0.856, -0.892]),\n",
       "  array([-0.617, -0.656, -0.5  , -0.344, -0.383]),\n",
       "  array([-0.126, -0.168,  0.   ,  0.168,  0.126]),\n",
       "  array([ 0.365,  0.32 ,  0.5  ,  0.68 ,  0.635]),\n",
       "  array([ 0.856,  0.808,  1.   ,  1.192,  1.144]),\n",
       "  array([ 1.347,  1.296,  1.5  ,  1.704,  1.653]),\n",
       "  array([ 1.838,  1.784,  2.   ,  2.216,  2.162])],\n",
       " 'ys': [array([ 3.9 ,  4.02,  4.1 ,  4.02,  3.9 ]),\n",
       "  array([ 2.14 ,  2.272,  2.36 ,  2.272,  2.14 ]),\n",
       "  array([ 0.88 ,  1.024,  1.12 ,  1.024,  0.88 ]),\n",
       "  array([ 0.12 ,  0.276,  0.38 ,  0.276,  0.12 ]),\n",
       "  array([-0.14 ,  0.028,  0.14 ,  0.028, -0.14 ]),\n",
       "  array([ 0.1 ,  0.28,  0.4 ,  0.28,  0.1 ]),\n",
       "  array([ 0.84 ,  1.032,  1.16 ,  1.032,  0.84 ]),\n",
       "  array([ 2.08 ,  2.284,  2.42 ,  2.284,  2.08 ]),\n",
       "  array([ 3.82 ,  4.036,  4.18 ,  4.036,  3.82 ])]}"
      ]
     },
     "execution_count": 4,
     "metadata": {},
     "output_type": "execute_result"
    }
   ],
   "source": [
    "source.data"
   ]
  },
  {
   "cell_type": "code",
   "execution_count": null,
   "metadata": {
    "collapsed": true
   },
   "outputs": [],
   "source": []
  }
 ],
 "metadata": {
  "kernelspec": {
   "display_name": "Python 3",
   "language": "python",
   "name": "python3"
  },
  "language_info": {
   "codemirror_mode": {
    "name": "ipython",
    "version": 3
   },
   "file_extension": ".py",
   "mimetype": "text/x-python",
   "name": "python",
   "nbconvert_exporter": "python",
   "pygments_lexer": "ipython3",
   "version": "3.6.2"
  }
 },
 "nbformat": 4,
 "nbformat_minor": 2
}
