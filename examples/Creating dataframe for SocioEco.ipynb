{
 "cells": [
  {
   "cell_type": "code",
   "execution_count": 1,
   "metadata": {
    "collapsed": true
   },
   "outputs": [],
   "source": [
    "import pandas as pd"
   ]
  },
  {
   "cell_type": "code",
   "execution_count": 2,
   "metadata": {},
   "outputs": [],
   "source": [
    "household_df = pd.read_excel('../Data/2014-pr3-hhsurvey-households.xlsx')\n",
    "persons_df = pd.read_excel('../Data/2014-pr3-hhsurvey-persons.xlsx')"
   ]
  },
  {
   "cell_type": "code",
   "execution_count": null,
   "metadata": {},
   "outputs": [],
   "source": []
  },
  {
   "cell_type": "code",
   "execution_count": 9,
   "metadata": {},
   "outputs": [
    {
     "data": {
      "text/plain": [
       "12198"
      ]
     },
     "execution_count": 9,
     "metadata": {},
     "output_type": "execute_result"
    }
   ],
   "source": [
    "hh_zip = []\n",
    "hh_city = []\n",
    "#for i in range(0,len(household_df['hhid'])):\n",
    "for i in range(0,len(persons_df['hhid'])):\n",
    "    hh_zip.extend(household_df.query('hhid ==' + str(persons_df['hhid'][i]))['h_zip'])\n",
    "    hh_city.extend(household_df.query('hhid ==' + str(persons_df['hhid'][i]))['h_city'])"
   ]
  },
  {
   "cell_type": "code",
   "execution_count": 11,
   "metadata": {},
   "outputs": [
    {
     "data": {
      "text/html": [
       "<div>\n",
       "<style>\n",
       "    .dataframe thead tr:only-child th {\n",
       "        text-align: right;\n",
       "    }\n",
       "\n",
       "    .dataframe thead th {\n",
       "        text-align: left;\n",
       "    }\n",
       "\n",
       "    .dataframe tbody tr th {\n",
       "        vertical-align: top;\n",
       "    }\n",
       "</style>\n",
       "<table border=\"1\" class=\"dataframe\">\n",
       "  <thead>\n",
       "    <tr style=\"text-align: right;\">\n",
       "      <th></th>\n",
       "      <th>personid</th>\n",
       "      <th>hhid</th>\n",
       "      <th>pernum</th>\n",
       "      <th>person_should_take_diary</th>\n",
       "      <th>person_diary_status</th>\n",
       "      <th>proxy</th>\n",
       "      <th>resptype</th>\n",
       "      <th>age</th>\n",
       "      <th>relationship</th>\n",
       "      <th>gender</th>\n",
       "      <th>...</th>\n",
       "      <th>carpool_hov</th>\n",
       "      <th>transit_avail</th>\n",
       "      <th>carpool_other</th>\n",
       "      <th>carpool_other_specify</th>\n",
       "      <th>carpool_none</th>\n",
       "      <th>carpool_na</th>\n",
       "      <th>expwt_final</th>\n",
       "      <th>dataset</th>\n",
       "      <th>h_zip</th>\n",
       "      <th>h_city</th>\n",
       "    </tr>\n",
       "  </thead>\n",
       "  <tbody>\n",
       "    <tr>\n",
       "      <th>0</th>\n",
       "      <td>1410000101</td>\n",
       "      <td>14100001</td>\n",
       "      <td>1</td>\n",
       "      <td>1</td>\n",
       "      <td>1</td>\n",
       "      <td>1.0</td>\n",
       "      <td>1</td>\n",
       "      <td>8</td>\n",
       "      <td>0</td>\n",
       "      <td>2</td>\n",
       "      <td>...</td>\n",
       "      <td>-99.0</td>\n",
       "      <td>-99.0</td>\n",
       "      <td>-99.0</td>\n",
       "      <td>-99</td>\n",
       "      <td>-99.0</td>\n",
       "      <td>-99.0</td>\n",
       "      <td>46.4468</td>\n",
       "      <td>pilot</td>\n",
       "      <td>98109</td>\n",
       "      <td>SEATTLE</td>\n",
       "    </tr>\n",
       "    <tr>\n",
       "      <th>1</th>\n",
       "      <td>1410000201</td>\n",
       "      <td>14100002</td>\n",
       "      <td>1</td>\n",
       "      <td>1</td>\n",
       "      <td>1</td>\n",
       "      <td>3.0</td>\n",
       "      <td>1</td>\n",
       "      <td>10</td>\n",
       "      <td>0</td>\n",
       "      <td>1</td>\n",
       "      <td>...</td>\n",
       "      <td>-99.0</td>\n",
       "      <td>-99.0</td>\n",
       "      <td>-99.0</td>\n",
       "      <td>-99</td>\n",
       "      <td>-99.0</td>\n",
       "      <td>-99.0</td>\n",
       "      <td>54.5671</td>\n",
       "      <td>pilot</td>\n",
       "      <td>98109</td>\n",
       "      <td>SEATTLE</td>\n",
       "    </tr>\n",
       "    <tr>\n",
       "      <th>2</th>\n",
       "      <td>1410000202</td>\n",
       "      <td>14100002</td>\n",
       "      <td>2</td>\n",
       "      <td>1</td>\n",
       "      <td>1</td>\n",
       "      <td>1.0</td>\n",
       "      <td>2</td>\n",
       "      <td>10</td>\n",
       "      <td>1</td>\n",
       "      <td>2</td>\n",
       "      <td>...</td>\n",
       "      <td>-99.0</td>\n",
       "      <td>-99.0</td>\n",
       "      <td>-99.0</td>\n",
       "      <td>-99</td>\n",
       "      <td>-99.0</td>\n",
       "      <td>-99.0</td>\n",
       "      <td>54.5671</td>\n",
       "      <td>pilot</td>\n",
       "      <td>98109</td>\n",
       "      <td>SEATTLE</td>\n",
       "    </tr>\n",
       "    <tr>\n",
       "      <th>3</th>\n",
       "      <td>1410000301</td>\n",
       "      <td>14100003</td>\n",
       "      <td>1</td>\n",
       "      <td>1</td>\n",
       "      <td>1</td>\n",
       "      <td>1.0</td>\n",
       "      <td>1</td>\n",
       "      <td>7</td>\n",
       "      <td>0</td>\n",
       "      <td>1</td>\n",
       "      <td>...</td>\n",
       "      <td>-99.0</td>\n",
       "      <td>-99.0</td>\n",
       "      <td>-99.0</td>\n",
       "      <td>-99</td>\n",
       "      <td>-99.0</td>\n",
       "      <td>-99.0</td>\n",
       "      <td>50.7889</td>\n",
       "      <td>pilot</td>\n",
       "      <td>98119</td>\n",
       "      <td>SEATTLE</td>\n",
       "    </tr>\n",
       "    <tr>\n",
       "      <th>4</th>\n",
       "      <td>1410000401</td>\n",
       "      <td>14100004</td>\n",
       "      <td>1</td>\n",
       "      <td>1</td>\n",
       "      <td>1</td>\n",
       "      <td>1.0</td>\n",
       "      <td>1</td>\n",
       "      <td>9</td>\n",
       "      <td>0</td>\n",
       "      <td>2</td>\n",
       "      <td>...</td>\n",
       "      <td>-99.0</td>\n",
       "      <td>-99.0</td>\n",
       "      <td>-99.0</td>\n",
       "      <td>-99</td>\n",
       "      <td>-99.0</td>\n",
       "      <td>-99.0</td>\n",
       "      <td>28.2518</td>\n",
       "      <td>pilot</td>\n",
       "      <td>98119</td>\n",
       "      <td>SEATTLE</td>\n",
       "    </tr>\n",
       "  </tbody>\n",
       "</table>\n",
       "<p>5 rows × 174 columns</p>\n",
       "</div>"
      ],
      "text/plain": [
       "     personid      hhid  pernum  person_should_take_diary  \\\n",
       "0  1410000101  14100001       1                         1   \n",
       "1  1410000201  14100002       1                         1   \n",
       "2  1410000202  14100002       2                         1   \n",
       "3  1410000301  14100003       1                         1   \n",
       "4  1410000401  14100004       1                         1   \n",
       "\n",
       "   person_diary_status  proxy  resptype  age  relationship  gender   ...     \\\n",
       "0                    1    1.0         1    8             0       2   ...      \n",
       "1                    1    3.0         1   10             0       1   ...      \n",
       "2                    1    1.0         2   10             1       2   ...      \n",
       "3                    1    1.0         1    7             0       1   ...      \n",
       "4                    1    1.0         1    9             0       2   ...      \n",
       "\n",
       "   carpool_hov  transit_avail  carpool_other  carpool_other_specify  \\\n",
       "0        -99.0          -99.0          -99.0                    -99   \n",
       "1        -99.0          -99.0          -99.0                    -99   \n",
       "2        -99.0          -99.0          -99.0                    -99   \n",
       "3        -99.0          -99.0          -99.0                    -99   \n",
       "4        -99.0          -99.0          -99.0                    -99   \n",
       "\n",
       "   carpool_none  carpool_na  expwt_final  dataset  h_zip   h_city  \n",
       "0         -99.0       -99.0      46.4468    pilot  98109  SEATTLE  \n",
       "1         -99.0       -99.0      54.5671    pilot  98109  SEATTLE  \n",
       "2         -99.0       -99.0      54.5671    pilot  98109  SEATTLE  \n",
       "3         -99.0       -99.0      50.7889    pilot  98119  SEATTLE  \n",
       "4         -99.0       -99.0      28.2518    pilot  98119  SEATTLE  \n",
       "\n",
       "[5 rows x 174 columns]"
      ]
     },
     "execution_count": 11,
     "metadata": {},
     "output_type": "execute_result"
    }
   ],
   "source": [
    "persons_df['h_zip'] = hh_zip\n",
    "persons_df['h_city'] =hh_city\n",
    "persons_df.head()"
   ]
  },
  {
   "cell_type": "code",
   "execution_count": 12,
   "metadata": {
    "collapsed": true
   },
   "outputs": [],
   "source": [
    "# extracting just Seattle data\n",
    "Sea_df = persons_df[(persons_df['h_city'] == 'SEATTLE')]"
   ]
  },
  {
   "cell_type": "code",
   "execution_count": null,
   "metadata": {
    "collapsed": true
   },
   "outputs": [],
   "source": [
    "# extracting just the columns that are needed\n",
    "ddf = Sea_df[['h_zip', 'h_city', 'age', 'relationship', 'gender',\n",
    "              'employment', 'worker', 'education']]\n",
    "# drop any rows with NAN\n",
    "df = ddf.dropna(how='any')"
   ]
  },
  {
   "cell_type": "code",
   "execution_count": null,
   "metadata": {},
   "outputs": [],
   "source": [
    "# convert float data into string\n",
    "df['h_zip'] = df.h_zip.astype(int)\n",
    "df['employment'] = df.employment.astype(int)\n",
    "df['education'] = df.education.astype(int)"
   ]
  },
  {
   "cell_type": "code",
   "execution_count": null,
   "metadata": {},
   "outputs": [],
   "source": [
    "# adding a new column that has scaled age\n",
    "df['age_scaled'] = df['age']\n",
    "df['edu_scaled'] = df['education']\n",
    "df.loc[df['age'] == 1, 'age_scaled'] = 'Under 5'\n",
    "df.loc[df['age'] == 2, 'age_scaled'] = '5-11'\n",
    "df.loc[df['age'] == 3, 'age_scaled'] = '12-15'\n",
    "df.loc[df['age'] == 4, 'age_scaled'] = '16-17'\n",
    "df.loc[df['age'] == 5, 'age_scaled'] = '18-24'\n",
    "df.loc[df['age'] == 6, 'age_scaled'] = '25-34'\n",
    "df.loc[df['age'] == 7, 'age_scaled'] = '35-44'\n",
    "df.loc[df['age'] == 8, 'age_scaled'] = '45-54'\n",
    "df.loc[df['age'] == 9, 'age_scaled'] = '55-64'\n",
    "df.loc[df['age'] == 10, 'age_scaled'] = '65-74'\n",
    "df.loc[df['age'] == 11, 'age_scaled'] = '75-84'\n",
    "df.loc[df['age'] == 12, 'age_scaled'] = '85 or older'\n",
    "df.loc[df['education'] == 1, 'edu_scaled'] = 'Less than High School'\n",
    "df.loc[df['education'] == 2, 'edu_scaled'] = 'High School'\n",
    "df.loc[df['education'] == 3, 'edu_scaled'] = 'Some College'\n",
    "df.loc[df['education'] == 4, 'edu_scaled'] = 'Vocational/Technical Training'\n",
    "df.loc[df['education'] == 5, 'edu_scaled'] = 'Associates Degree'\n",
    "df.loc[df['education'] == 6, 'edu_scaled'] = 'Bachelor Degree'\n",
    "df.loc[df['education'] == 7, 'edu_scaled'] = 'Graduate/Post-Graduate Degree'"
   ]
  },
  {
   "cell_type": "code",
   "execution_count": null,
   "metadata": {
    "collapsed": true
   },
   "outputs": [],
   "source": [
    "df.to_csv('socio_eco')"
   ]
  },
  {
   "cell_type": "code",
   "execution_count": null,
   "metadata": {
    "collapsed": true
   },
   "outputs": [],
   "source": []
  },
  {
   "cell_type": "code",
   "execution_count": null,
   "metadata": {
    "collapsed": true
   },
   "outputs": [],
   "source": []
  },
  {
   "cell_type": "code",
   "execution_count": null,
   "metadata": {
    "collapsed": true
   },
   "outputs": [],
   "source": []
  },
  {
   "cell_type": "code",
   "execution_count": null,
   "metadata": {
    "collapsed": true
   },
   "outputs": [],
   "source": []
  },
  {
   "cell_type": "code",
   "execution_count": null,
   "metadata": {
    "collapsed": true
   },
   "outputs": [],
   "source": []
  },
  {
   "cell_type": "code",
   "execution_count": null,
   "metadata": {
    "collapsed": true
   },
   "outputs": [],
   "source": []
  },
  {
   "cell_type": "code",
   "execution_count": null,
   "metadata": {
    "collapsed": true
   },
   "outputs": [],
   "source": []
  },
  {
   "cell_type": "code",
   "execution_count": null,
   "metadata": {
    "collapsed": true
   },
   "outputs": [],
   "source": []
  },
  {
   "cell_type": "code",
   "execution_count": null,
   "metadata": {
    "collapsed": true
   },
   "outputs": [],
   "source": []
  },
  {
   "cell_type": "code",
   "execution_count": null,
   "metadata": {
    "collapsed": true
   },
   "outputs": [],
   "source": []
  },
  {
   "cell_type": "code",
   "execution_count": null,
   "metadata": {
    "collapsed": true
   },
   "outputs": [],
   "source": []
  },
  {
   "cell_type": "code",
   "execution_count": null,
   "metadata": {
    "collapsed": true
   },
   "outputs": [],
   "source": []
  }
 ],
 "metadata": {
  "kernelspec": {
   "display_name": "Python 3",
   "language": "python",
   "name": "python3"
  },
  "language_info": {
   "codemirror_mode": {
    "name": "ipython",
    "version": 3
   },
   "file_extension": ".py",
   "mimetype": "text/x-python",
   "name": "python",
   "nbconvert_exporter": "python",
   "pygments_lexer": "ipython3",
   "version": "3.6.3"
  }
 },
 "nbformat": 4,
 "nbformat_minor": 2
}
