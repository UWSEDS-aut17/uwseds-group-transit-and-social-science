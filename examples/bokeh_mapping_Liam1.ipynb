{
 "cells": [
  {
   "cell_type": "code",
   "execution_count": 6,
   "metadata": {
    "collapsed": true
   },
   "outputs": [],
   "source": [
    "from bokeh.plotting import figure, save\n",
    "import pandas as pd"
   ]
  },
  {
   "cell_type": "code",
   "execution_count": 7,
   "metadata": {
    "collapsed": true
   },
   "outputs": [],
   "source": [
    "p = figure(title=\"first map\")"
   ]
  },
  {
   "cell_type": "code",
   "execution_count": 8,
   "metadata": {},
   "outputs": [],
   "source": [
    "df = pd.read_csv('./data/testroute.csv')"
   ]
  },
  {
   "cell_type": "code",
   "execution_count": 9,
   "metadata": {},
   "outputs": [
    {
     "data": {
      "text/html": [
       "<div>\n",
       "<style>\n",
       "    .dataframe thead tr:only-child th {\n",
       "        text-align: right;\n",
       "    }\n",
       "\n",
       "    .dataframe thead th {\n",
       "        text-align: left;\n",
       "    }\n",
       "\n",
       "    .dataframe tbody tr th {\n",
       "        vertical-align: top;\n",
       "    }\n",
       "</style>\n",
       "<table border=\"1\" class=\"dataframe\">\n",
       "  <thead>\n",
       "    <tr style=\"text-align: right;\">\n",
       "      <th></th>\n",
       "      <th>Name</th>\n",
       "      <th>lat</th>\n",
       "      <th>lon</th>\n",
       "    </tr>\n",
       "  </thead>\n",
       "  <tbody>\n",
       "    <tr>\n",
       "      <th>0</th>\n",
       "      <td>1</td>\n",
       "      <td>47.612160</td>\n",
       "      <td>-122.281761</td>\n",
       "    </tr>\n",
       "    <tr>\n",
       "      <th>1</th>\n",
       "      <td>2</td>\n",
       "      <td>47.612164</td>\n",
       "      <td>-122.281830</td>\n",
       "    </tr>\n",
       "    <tr>\n",
       "      <th>2</th>\n",
       "      <td>3</td>\n",
       "      <td>47.612122</td>\n",
       "      <td>-122.281921</td>\n",
       "    </tr>\n",
       "    <tr>\n",
       "      <th>3</th>\n",
       "      <td>4</td>\n",
       "      <td>47.612202</td>\n",
       "      <td>-122.282005</td>\n",
       "    </tr>\n",
       "    <tr>\n",
       "      <th>4</th>\n",
       "      <td>5</td>\n",
       "      <td>47.612278</td>\n",
       "      <td>-122.282074</td>\n",
       "    </tr>\n",
       "  </tbody>\n",
       "</table>\n",
       "</div>"
      ],
      "text/plain": [
       "   Name        lat         lon\n",
       "0     1  47.612160 -122.281761\n",
       "1     2  47.612164 -122.281830\n",
       "2     3  47.612122 -122.281921\n",
       "3     4  47.612202 -122.282005\n",
       "4     5  47.612278 -122.282074"
      ]
     },
     "execution_count": 9,
     "metadata": {},
     "output_type": "execute_result"
    }
   ],
   "source": [
    "df.head()"
   ]
  },
  {
   "cell_type": "code",
   "execution_count": 10,
   "metadata": {},
   "outputs": [
    {
     "data": {
      "text/plain": [
       "0    47.612160\n",
       "1    47.612164\n",
       "2    47.612122\n",
       "3    47.612202\n",
       "4    47.612278\n",
       "Name: lat, dtype: float64"
      ]
     },
     "execution_count": 10,
     "metadata": {},
     "output_type": "execute_result"
    }
   ],
   "source": [
    "df['lat'].head()"
   ]
  },
  {
   "cell_type": "code",
   "execution_count": 11,
   "metadata": {
    "collapsed": true
   },
   "outputs": [],
   "source": [
    "x_ = df['lat']\n",
    "y_ = df['lon']"
   ]
  },
  {
   "cell_type": "code",
   "execution_count": 13,
   "metadata": {},
   "outputs": [
    {
     "ename": "TypeError",
     "evalue": "multiline() missing 2 required positional arguments: 'xs' and 'ys'",
     "output_type": "error",
     "traceback": [
      "\u001b[0;31m---------------------------------------------------------------------------\u001b[0m",
      "\u001b[0;31mTypeError\u001b[0m                                 Traceback (most recent call last)",
      "\u001b[0;32m<ipython-input-13-0227a7ba370c>\u001b[0m in \u001b[0;36m<module>\u001b[0;34m()\u001b[0m\n\u001b[0;32m----> 1\u001b[0;31m \u001b[0mp\u001b[0m\u001b[0;34m.\u001b[0m\u001b[0mmulti_line\u001b[0m\u001b[0;34m(\u001b[0m\u001b[0mx\u001b[0m\u001b[0;34m=\u001b[0m\u001b[0mx_\u001b[0m\u001b[0;34m,\u001b[0m\u001b[0my\u001b[0m\u001b[0;34m=\u001b[0m\u001b[0my_\u001b[0m\u001b[0;34m,\u001b[0m\u001b[0msize\u001b[0m\u001b[0;34m=\u001b[0m\u001b[0;36m10\u001b[0m\u001b[0;34m,\u001b[0m\u001b[0mcolor\u001b[0m\u001b[0;34m=\u001b[0m\u001b[0;34m\"red\"\u001b[0m\u001b[0;34m,\u001b[0m\u001b[0mline_width\u001b[0m\u001b[0;34m=\u001b[0m\u001b[0;36m3\u001b[0m\u001b[0;34m)\u001b[0m\u001b[0;34m\u001b[0m\u001b[0m\n\u001b[0m",
      "\u001b[0;31mTypeError\u001b[0m: multiline() missing 2 required positional arguments: 'xs' and 'ys'"
     ]
    }
   ],
   "source": [
    "p.multi_line(x=x_,y=y_,size=10,color=\"red\",line_width=3)"
   ]
  },
  {
   "cell_type": "code",
   "execution_count": 53,
   "metadata": {},
   "outputs": [
    {
     "data": {
      "text/plain": [
       "'/home/liam/Desktop/points.html'"
      ]
     },
     "execution_count": 53,
     "metadata": {},
     "output_type": "execute_result"
    }
   ],
   "source": [
    "outfp = r\"/home/liam/Desktop/points.html\"\n",
    "save(obj=p,filename=outfp)"
   ]
  },
  {
   "cell_type": "code",
   "execution_count": null,
   "metadata": {
    "collapsed": true
   },
   "outputs": [],
   "source": []
  },
  {
   "cell_type": "code",
   "execution_count": null,
   "metadata": {
    "collapsed": true
   },
   "outputs": [],
   "source": []
  },
  {
   "cell_type": "code",
   "execution_count": null,
   "metadata": {
    "collapsed": true
   },
   "outputs": [],
   "source": []
  },
  {
   "cell_type": "code",
   "execution_count": null,
   "metadata": {
    "collapsed": true
   },
   "outputs": [],
   "source": []
  },
  {
   "cell_type": "code",
   "execution_count": null,
   "metadata": {
    "collapsed": true
   },
   "outputs": [],
   "source": []
  },
  {
   "cell_type": "code",
   "execution_count": null,
   "metadata": {
    "collapsed": true
   },
   "outputs": [],
   "source": []
  },
  {
   "cell_type": "code",
   "execution_count": null,
   "metadata": {
    "collapsed": true
   },
   "outputs": [],
   "source": []
  },
  {
   "cell_type": "code",
   "execution_count": null,
   "metadata": {
    "collapsed": true
   },
   "outputs": [],
   "source": []
  },
  {
   "cell_type": "code",
   "execution_count": null,
   "metadata": {
    "collapsed": true
   },
   "outputs": [],
   "source": []
  },
  {
   "cell_type": "code",
   "execution_count": null,
   "metadata": {
    "collapsed": true
   },
   "outputs": [],
   "source": []
  },
  {
   "cell_type": "code",
   "execution_count": null,
   "metadata": {
    "collapsed": true
   },
   "outputs": [],
   "source": []
  },
  {
   "cell_type": "code",
   "execution_count": null,
   "metadata": {
    "collapsed": true
   },
   "outputs": [],
   "source": []
  },
  {
   "cell_type": "code",
   "execution_count": null,
   "metadata": {
    "collapsed": true
   },
   "outputs": [],
   "source": []
  },
  {
   "cell_type": "code",
   "execution_count": null,
   "metadata": {
    "collapsed": true
   },
   "outputs": [],
   "source": []
  },
  {
   "cell_type": "code",
   "execution_count": null,
   "metadata": {
    "collapsed": true
   },
   "outputs": [],
   "source": []
  },
  {
   "cell_type": "code",
   "execution_count": null,
   "metadata": {
    "collapsed": true
   },
   "outputs": [],
   "source": []
  },
  {
   "cell_type": "code",
   "execution_count": 12,
   "metadata": {
    "collapsed": true
   },
   "outputs": [],
   "source": [
    "from bokeh.models import ColumnDataSource\n",
    "import pandas as pd\n",
    "import matplotlib.pyplot as plt"
   ]
  },
  {
   "cell_type": "code",
   "execution_count": 14,
   "metadata": {
    "collapsed": true
   },
   "outputs": [],
   "source": [
    "source = ColumnDataSource(data)"
   ]
  },
  {
   "cell_type": "code",
   "execution_count": 15,
   "metadata": {},
   "outputs": [
    {
     "data": {
      "text/html": [
       "<div style=\"display: table;\"><div style=\"display: table-row;\"><div style=\"display: table-cell;\"><b title=\"bokeh.models.sources.ColumnDataSource\">ColumnDataSource</b>(</div><div style=\"display: table-cell;\">id&nbsp;=&nbsp;'8e8ee8d3-2c71-4148-bced-e4d0ef8a1072', <span id=\"795870a5-34d6-477a-b828-1aab2be687cd\" style=\"cursor: pointer;\">&hellip;)</span></div></div><div class=\"b535fa5c-10f8-4672-9e5d-fe757dbe66b2\" style=\"display: none;\"><div style=\"display: table-cell;\"></div><div style=\"display: table-cell;\">callback&nbsp;=&nbsp;None,</div></div><div class=\"b535fa5c-10f8-4672-9e5d-fe757dbe66b2\" style=\"display: none;\"><div style=\"display: table-cell;\"></div><div style=\"display: table-cell;\">column_names&nbsp;=&nbsp;['Name', 'lat', 'lon', 'index'],</div></div><div class=\"b535fa5c-10f8-4672-9e5d-fe757dbe66b2\" style=\"display: none;\"><div style=\"display: table-cell;\"></div><div style=\"display: table-cell;\">data&nbsp;=&nbsp;{'Name': [1, 2, 3, 4, 5, 6, 7, 8, 9, 10, 11, 12, 13, 14, 15, 16, 17, 18, 19, 20, 21, 22, 23, 24, 25, 26, 27, 28, 29, 30, 31, 32, 33, 34, 35, 36, 37, 38, 39, 40, 41, 42, 43, 44, 45, 46, 47, 48, 49, 50, 51, 52, 53, 54, 55, 56, 57, 58, 59, 60, 61, 62, 63, 64, 65, 66, 67, 68, 69, 70, 71, 72, 73, 74, 75, 76, 77, 78, 79, 80, 81, 82, 83, 84, 85, 86, 87, 88, 89, 90, 91, 92, 93, 94, 95, 96, 97, 98, 99, 100, 101, 102, 103, 104, 105, 106, 107, 108, 109, 110, 111, 112, 113, 114, 115, 116, 117, 118, 119, 120, 121, 122, 123, 124, 125, 126, 127], 'lat': {'__ndarray__': 'rfVFQlvOR0Dv5NNjW85HQMCUgQNazkdA3UWYolzOR0C4ByEgX85HQF3fh4OEzkdA3iHFAInOR0DXMEPjic5HQMiyYOKPzkdAsP7PYb7OR0DToGgewM5HQI7nM6DezkdAlinmIOjOR0A42nHD785HQLExryMOz0dAAFRx4xbPR0DJdr6fGs9HQJ5Hxf8dz0dAPNf34SDPR0DWqfI9I89HQE3aVN0jz0dAR+nSvyTPR0CI2GDhJM9HQLFre7slz0dA+RdBYybPR0D5F0FjJs9HQPkXQWMmz0dA7GmHvybPR0DsaYe/Js9HQDRKl/4lz0dAsWt7uyXPR0AF+kSeJM9HQFKXjGMkz0dAmnecoiPPR0B+xoUDIc9HQFxYN94dz0dAEVfO3hnPR0CEZte9Fc9HQJz2lJwTz0dAXqPlQA/PR0AC02ndBs9HQIKKql/pzkdADypxHePOR0BpHsAiv85HQLq/ety3zkdACydp/pjOR0ALnGwDd85HQDAOLh1zzkdAs+xJYHPOR0A2y2Wjc85HQGsMOiF0zkdAX16AfXTOR0ChTQ6fdM5HQGUbuAN1zkdAZRu4A3XOR0DWjuIcdc5HQBh+cD51zkdAmlyMgXXOR0AjLCridM5HQKFNDp90zkdAoU0On3TOR0BfXoB9dM5HQKFNDp90zkdAIywq4nTOR0DWjuIcdc5HQCMsKuJ0zkdAIywq4nTOR0BfXoB9dM5HQGsMOiF0zkdApz6QvHPOR0CnPpC8c85HQPXb14FzzkdA9dvXgXPOR0D129eBc85HQDbLZaNzzkdANstlo3POR0A2y2Wjc85HQDbLZaNzzkdApz6QvHPOR0CnPpC8c85HQOgtHt5zzkdA6C0e3nPOR0BrDDohdM5HQGsMOiF0zkdA6C0e3nPOR0CnPpC8c85HQD/dQIF3zkdAdm9FYoLOR0BvLZPheM5HQF9egH10zkdA+8xZn3LOR0DoLR7ec85HQF9egH10zkdAIywq4nTOR0AjLCridM5HQNaO4hx1zkdA1o7iHHXOR0DcSxqjdc5HQJRrCmR2zkdAlGsKZHbOR0COrtLddc5HQNaO4hx1zkdA6C0e3nPOR0B+q3Xics5HQE9bI4JxzkdAIAvRIXDOR0A5m44Abs5HQH1aRX9ozkdAO2u3XWjOR0BauKzCZs5HQKKYvAFmzkdAD7dDw2LOR0Ct9UVCW85HQAtFup9TzkdAaJQu/UvOR0Ack8X9R85HQJZfBmNEzkdA8q56wDzOR0AF/YUeMc5HQK1NY3stzkdA2xg74SXOR0B6Vz1gHs5HQC5W1GAazkdABHKJIw/OR0Bhwf2AB85HQH0h5Lz/zUdAu+8YHvvNR0A=', 'shape': (127,), 'dtype': 'float64'}, 'lon': {'__ndarray__': 'dBJKXwiSXsAHQrKACZJewI/DYP4Kkl7AvhOzXgySXsBSQxuADZJewAw2dR4Vkl7AfnVVoBaSXsAYlj/fFpJewDVHVn4Zkl7AukkMAiuSXsAwem6hK5JewN081SE3kl7A3TzVITeSXsBbXrneNpJewCUd5WA2kl7AAN9t3jiSXsCyDdyBOpJewNWvdD48kl7A/Q5FgT6SXsAawFsgQZJewK7vw0FCkl7AE4HqH0SSXsATgeofRJJewC8yAb9Gkl7AWJHRAUmSXsBXlBKCVZJewJD5gEBnkl7AkszqHW6SXsBnnfF9cZJewI/8wcBzkl7ANn12wHWSXsB1HhX/d5JewJMdG4F4kl7AP49RnnmSXsDAH37+e5JewOl+TkF+kl7Aj/8CQYCSXsA7cTlegZJewFhwP+CBkl7AWHA/4IGSXsDykCkfgpJewDSAt0CCkl7AzqChf4KSXsDsn6cBg5JewOyfpwGDkl7A4PHtXYOSXsCYEd4ehJJewJgR3h6Ekl7AmzV4X5WSXsAh5/1/nJJewF5qhH6mkl7Ard12obmSXsCAYI4ev5JewAkzbf/Kkl7AAvT7/s2SXsDhJw6g35JewO+oMSHmkl7AlSnmIOiSXsAvTRHg9JJewBmT/l4Kk17A+MPPfw+TXsBnuAGfH5NewE/+7h01k17ATi7GwDqTXsCeI/JdSpNewO5I9Z1fk17A8GlOXmSTXsBK7NrebpNewBzw+WGEk17AO8WqQZiTXsBqFf2hmZNewFpMbD6uk17Aj95wH7mTXsCigO1gxJNewDiDv1/Mk17AliNkIM+TXsCKxtrf2ZNewH9pUZ/kk17AdAzIXu+TXsD5vU1/9pNewGivPh76k17AwzHLngSUXsCT5Lm+D5RewD+nID8blF7ADoelgR+UXsBZi08BMJRewAX9hR4xlF7AIvyLoDGUXsCNz2T/PJRewAghIF9ClF7AuQGfH0aUXsAo84++SZRewL9GkiBclF7AqYx/n3GUXsCTHRuBeJRewFIxzt+ElF7AUjHO34SUXsBt4uR+h5RewMqCiT+KlF7AARWOIJWUXsDphNBBl5RewAonaf6YlF7AoFbRH5qUXsCxpx3+mpRewBCWsaGblF7AY9aLoZyUXsDZBu5AnZRewH+HokCflF7Af4eiQJ+UXsCQ2O4eoJRewCQIV0ChlF7Ak/lH36SUXsC+K4L/rZRewKhuLv62lF7A06BoHsCUXsBaoN0hxZRewD/CMGDJlF7A0NOAQdKUXsCZR/5g4JRewORIZ2DklF7Aaaz9ne2UXsCU3je+9pRewNnuHqD7lF7AkBFQ4QiVXsAVdeYeEpVewKWGNgAblV7APdf34SCVXsA=', 'shape': (127,), 'dtype': 'float64'}, 'index': [0, 1, 2, 3, 4, 5, 6, 7, 8, 9, 10, 11, 12, 13, 14, 15, 16, 17, 18, 19, 20, 21, 22, 23, 24, 25, 26, 27, 28, 29, 30, 31, 32, 33, 34, 35, 36, 37, 38, 39, 40, 41, 42, 43, 44, 45, 46, 47, 48, 49, 50, 51, 52, 53, 54, 55, 56, 57, 58, 59, 60, 61, 62, 63, 64, 65, 66, 67, 68, 69, 70, 71, 72, 73, 74, 75, 76, 77, 78, 79, 80, 81, 82, 83, 84, 85, 86, 87, 88, 89, 90, 91, 92, 93, 94, 95, 96, 97, 98, 99, 100, 101, 102, 103, 104, 105, 106, 107, 108, 109, 110, 111, 112, 113, 114, 115, 116, 117, 118, 119, 120, 121, 122, 123, 124, 125, 126]},</div></div><div class=\"b535fa5c-10f8-4672-9e5d-fe757dbe66b2\" style=\"display: none;\"><div style=\"display: table-cell;\"></div><div style=\"display: table-cell;\">js_event_callbacks&nbsp;=&nbsp;{},</div></div><div class=\"b535fa5c-10f8-4672-9e5d-fe757dbe66b2\" style=\"display: none;\"><div style=\"display: table-cell;\"></div><div style=\"display: table-cell;\">js_property_callbacks&nbsp;=&nbsp;{},</div></div><div class=\"b535fa5c-10f8-4672-9e5d-fe757dbe66b2\" style=\"display: none;\"><div style=\"display: table-cell;\"></div><div style=\"display: table-cell;\">name&nbsp;=&nbsp;None,</div></div><div class=\"b535fa5c-10f8-4672-9e5d-fe757dbe66b2\" style=\"display: none;\"><div style=\"display: table-cell;\"></div><div style=\"display: table-cell;\">selected&nbsp;=&nbsp;{'0d': {'glyph': None, 'indices': []}, '1d': {'indices': []}, '2d': {'indices': {}}},</div></div><div class=\"b535fa5c-10f8-4672-9e5d-fe757dbe66b2\" style=\"display: none;\"><div style=\"display: table-cell;\"></div><div style=\"display: table-cell;\">subscribed_events&nbsp;=&nbsp;[],</div></div><div class=\"b535fa5c-10f8-4672-9e5d-fe757dbe66b2\" style=\"display: none;\"><div style=\"display: table-cell;\"></div><div style=\"display: table-cell;\">tags&nbsp;=&nbsp;[])</div></div></div>\n",
       "<script>\n",
       "(function() {\n",
       "  var expanded = false;\n",
       "  var ellipsis = document.getElementById(\"795870a5-34d6-477a-b828-1aab2be687cd\");\n",
       "  ellipsis.addEventListener(\"click\", function() {\n",
       "    var rows = document.getElementsByClassName(\"b535fa5c-10f8-4672-9e5d-fe757dbe66b2\");\n",
       "    for (var i = 0; i < rows.length; i++) {\n",
       "      var el = rows[i];\n",
       "      el.style.display = expanded ? \"none\" : \"table-row\";\n",
       "    }\n",
       "    ellipsis.innerHTML = expanded ? \"&hellip;)\" : \"&lsaquo;&lsaquo;&lsaquo;\";\n",
       "    expanded = !expanded;\n",
       "  });\n",
       "})();\n",
       "</script>\n"
      ],
      "text/plain": [
       "ColumnDataSource(id='8e8ee8d3-2c71-4148-bced-e4d0ef8a1072', ...)"
      ]
     },
     "execution_count": 15,
     "metadata": {},
     "output_type": "execute_result"
    }
   ],
   "source": [
    "source"
   ]
  },
  {
   "cell_type": "code",
   "execution_count": 24,
   "metadata": {},
   "outputs": [
    {
     "ename": "NameError",
     "evalue": "name 'plot' is not defined",
     "output_type": "error",
     "traceback": [
      "\u001b[0;31m---------------------------------------------------------------------------\u001b[0m",
      "\u001b[0;31mNameError\u001b[0m                                 Traceback (most recent call last)",
      "\u001b[0;32m<ipython-input-24-07edf105c14b>\u001b[0m in \u001b[0;36m<module>\u001b[0;34m()\u001b[0m\n\u001b[0;32m----> 1\u001b[0;31m \u001b[0mplot\u001b[0m\u001b[0;34m.\u001b[0m\u001b[0madd_glyph\u001b[0m\u001b[0;34m(\u001b[0m\u001b[0msource\u001b[0m\u001b[0;34m,\u001b[0m\u001b[0mglyph\u001b[0m\u001b[0;34m)\u001b[0m\u001b[0;34m\u001b[0m\u001b[0m\n\u001b[0m",
      "\u001b[0;31mNameError\u001b[0m: name 'plot' is not defined"
     ]
    }
   ],
   "source": [
    "plot.add_glyph(source,glyph)"
   ]
  },
  {
   "cell_type": "code",
   "execution_count": 22,
   "metadata": {},
   "outputs": [
    {
     "data": {
      "text/html": [
       "<div style=\"display: table;\"><div style=\"display: table-row;\"><div style=\"display: table-cell;\"><b title=\"bokeh.models.sources.ColumnDataSource\">ColumnDataSource</b>(</div><div style=\"display: table-cell;\">id&nbsp;=&nbsp;'8e8ee8d3-2c71-4148-bced-e4d0ef8a1072', <span id=\"9018262d-0213-4f3d-9668-9885a4e33a47\" style=\"cursor: pointer;\">&hellip;)</span></div></div><div class=\"b5339fd9-3391-4464-81c9-00f54a6f2dbd\" style=\"display: none;\"><div style=\"display: table-cell;\"></div><div style=\"display: table-cell;\">callback&nbsp;=&nbsp;None,</div></div><div class=\"b5339fd9-3391-4464-81c9-00f54a6f2dbd\" style=\"display: none;\"><div style=\"display: table-cell;\"></div><div style=\"display: table-cell;\">column_names&nbsp;=&nbsp;['Name', 'lat', 'lon', 'index'],</div></div><div class=\"b5339fd9-3391-4464-81c9-00f54a6f2dbd\" style=\"display: none;\"><div style=\"display: table-cell;\"></div><div style=\"display: table-cell;\">data&nbsp;=&nbsp;{'Name': [1, 2, 3, 4, 5, 6, 7, 8, 9, 10, 11, 12, 13, 14, 15, 16, 17, 18, 19, 20, 21, 22, 23, 24, 25, 26, 27, 28, 29, 30, 31, 32, 33, 34, 35, 36, 37, 38, 39, 40, 41, 42, 43, 44, 45, 46, 47, 48, 49, 50, 51, 52, 53, 54, 55, 56, 57, 58, 59, 60, 61, 62, 63, 64, 65, 66, 67, 68, 69, 70, 71, 72, 73, 74, 75, 76, 77, 78, 79, 80, 81, 82, 83, 84, 85, 86, 87, 88, 89, 90, 91, 92, 93, 94, 95, 96, 97, 98, 99, 100, 101, 102, 103, 104, 105, 106, 107, 108, 109, 110, 111, 112, 113, 114, 115, 116, 117, 118, 119, 120, 121, 122, 123, 124, 125, 126, 127], 'lat': {'__ndarray__': 'rfVFQlvOR0Dv5NNjW85HQMCUgQNazkdA3UWYolzOR0C4ByEgX85HQF3fh4OEzkdA3iHFAInOR0DXMEPjic5HQMiyYOKPzkdAsP7PYb7OR0DToGgewM5HQI7nM6DezkdAlinmIOjOR0A42nHD785HQLExryMOz0dAAFRx4xbPR0DJdr6fGs9HQJ5Hxf8dz0dAPNf34SDPR0DWqfI9I89HQE3aVN0jz0dAR+nSvyTPR0CI2GDhJM9HQLFre7slz0dA+RdBYybPR0D5F0FjJs9HQPkXQWMmz0dA7GmHvybPR0DsaYe/Js9HQDRKl/4lz0dAsWt7uyXPR0AF+kSeJM9HQFKXjGMkz0dAmnecoiPPR0B+xoUDIc9HQFxYN94dz0dAEVfO3hnPR0CEZte9Fc9HQJz2lJwTz0dAXqPlQA/PR0AC02ndBs9HQIKKql/pzkdADypxHePOR0BpHsAiv85HQLq/ety3zkdACydp/pjOR0ALnGwDd85HQDAOLh1zzkdAs+xJYHPOR0A2y2Wjc85HQGsMOiF0zkdAX16AfXTOR0ChTQ6fdM5HQGUbuAN1zkdAZRu4A3XOR0DWjuIcdc5HQBh+cD51zkdAmlyMgXXOR0AjLCridM5HQKFNDp90zkdAoU0On3TOR0BfXoB9dM5HQKFNDp90zkdAIywq4nTOR0DWjuIcdc5HQCMsKuJ0zkdAIywq4nTOR0BfXoB9dM5HQGsMOiF0zkdApz6QvHPOR0CnPpC8c85HQPXb14FzzkdA9dvXgXPOR0D129eBc85HQDbLZaNzzkdANstlo3POR0A2y2Wjc85HQDbLZaNzzkdApz6QvHPOR0CnPpC8c85HQOgtHt5zzkdA6C0e3nPOR0BrDDohdM5HQGsMOiF0zkdA6C0e3nPOR0CnPpC8c85HQD/dQIF3zkdAdm9FYoLOR0BvLZPheM5HQF9egH10zkdA+8xZn3LOR0DoLR7ec85HQF9egH10zkdAIywq4nTOR0AjLCridM5HQNaO4hx1zkdA1o7iHHXOR0DcSxqjdc5HQJRrCmR2zkdAlGsKZHbOR0COrtLddc5HQNaO4hx1zkdA6C0e3nPOR0B+q3Xics5HQE9bI4JxzkdAIAvRIXDOR0A5m44Abs5HQH1aRX9ozkdAO2u3XWjOR0BauKzCZs5HQKKYvAFmzkdAD7dDw2LOR0Ct9UVCW85HQAtFup9TzkdAaJQu/UvOR0Ack8X9R85HQJZfBmNEzkdA8q56wDzOR0AF/YUeMc5HQK1NY3stzkdA2xg74SXOR0B6Vz1gHs5HQC5W1GAazkdABHKJIw/OR0Bhwf2AB85HQH0h5Lz/zUdAu+8YHvvNR0A=', 'shape': (127,), 'dtype': 'float64'}, 'lon': {'__ndarray__': 'dBJKXwiSXsAHQrKACZJewI/DYP4Kkl7AvhOzXgySXsBSQxuADZJewAw2dR4Vkl7AfnVVoBaSXsAYlj/fFpJewDVHVn4Zkl7AukkMAiuSXsAwem6hK5JewN081SE3kl7A3TzVITeSXsBbXrneNpJewCUd5WA2kl7AAN9t3jiSXsCyDdyBOpJewNWvdD48kl7A/Q5FgT6SXsAawFsgQZJewK7vw0FCkl7AE4HqH0SSXsATgeofRJJewC8yAb9Gkl7AWJHRAUmSXsBXlBKCVZJewJD5gEBnkl7AkszqHW6SXsBnnfF9cZJewI/8wcBzkl7ANn12wHWSXsB1HhX/d5JewJMdG4F4kl7AP49RnnmSXsDAH37+e5JewOl+TkF+kl7Aj/8CQYCSXsA7cTlegZJewFhwP+CBkl7AWHA/4IGSXsDykCkfgpJewDSAt0CCkl7AzqChf4KSXsDsn6cBg5JewOyfpwGDkl7A4PHtXYOSXsCYEd4ehJJewJgR3h6Ekl7AmzV4X5WSXsAh5/1/nJJewF5qhH6mkl7Ard12obmSXsCAYI4ev5JewAkzbf/Kkl7AAvT7/s2SXsDhJw6g35JewO+oMSHmkl7AlSnmIOiSXsAvTRHg9JJewBmT/l4Kk17A+MPPfw+TXsBnuAGfH5NewE/+7h01k17ATi7GwDqTXsCeI/JdSpNewO5I9Z1fk17A8GlOXmSTXsBK7NrebpNewBzw+WGEk17AO8WqQZiTXsBqFf2hmZNewFpMbD6uk17Aj95wH7mTXsCigO1gxJNewDiDv1/Mk17AliNkIM+TXsCKxtrf2ZNewH9pUZ/kk17AdAzIXu+TXsD5vU1/9pNewGivPh76k17AwzHLngSUXsCT5Lm+D5RewD+nID8blF7ADoelgR+UXsBZi08BMJRewAX9hR4xlF7AIvyLoDGUXsCNz2T/PJRewAghIF9ClF7AuQGfH0aUXsAo84++SZRewL9GkiBclF7AqYx/n3GUXsCTHRuBeJRewFIxzt+ElF7AUjHO34SUXsBt4uR+h5RewMqCiT+KlF7AARWOIJWUXsDphNBBl5RewAonaf6YlF7AoFbRH5qUXsCxpx3+mpRewBCWsaGblF7AY9aLoZyUXsDZBu5AnZRewH+HokCflF7Af4eiQJ+UXsCQ2O4eoJRewCQIV0ChlF7Ak/lH36SUXsC+K4L/rZRewKhuLv62lF7A06BoHsCUXsBaoN0hxZRewD/CMGDJlF7A0NOAQdKUXsCZR/5g4JRewORIZ2DklF7Aaaz9ne2UXsCU3je+9pRewNnuHqD7lF7AkBFQ4QiVXsAVdeYeEpVewKWGNgAblV7APdf34SCVXsA=', 'shape': (127,), 'dtype': 'float64'}, 'index': [0, 1, 2, 3, 4, 5, 6, 7, 8, 9, 10, 11, 12, 13, 14, 15, 16, 17, 18, 19, 20, 21, 22, 23, 24, 25, 26, 27, 28, 29, 30, 31, 32, 33, 34, 35, 36, 37, 38, 39, 40, 41, 42, 43, 44, 45, 46, 47, 48, 49, 50, 51, 52, 53, 54, 55, 56, 57, 58, 59, 60, 61, 62, 63, 64, 65, 66, 67, 68, 69, 70, 71, 72, 73, 74, 75, 76, 77, 78, 79, 80, 81, 82, 83, 84, 85, 86, 87, 88, 89, 90, 91, 92, 93, 94, 95, 96, 97, 98, 99, 100, 101, 102, 103, 104, 105, 106, 107, 108, 109, 110, 111, 112, 113, 114, 115, 116, 117, 118, 119, 120, 121, 122, 123, 124, 125, 126]},</div></div><div class=\"b5339fd9-3391-4464-81c9-00f54a6f2dbd\" style=\"display: none;\"><div style=\"display: table-cell;\"></div><div style=\"display: table-cell;\">js_event_callbacks&nbsp;=&nbsp;{},</div></div><div class=\"b5339fd9-3391-4464-81c9-00f54a6f2dbd\" style=\"display: none;\"><div style=\"display: table-cell;\"></div><div style=\"display: table-cell;\">js_property_callbacks&nbsp;=&nbsp;{},</div></div><div class=\"b5339fd9-3391-4464-81c9-00f54a6f2dbd\" style=\"display: none;\"><div style=\"display: table-cell;\"></div><div style=\"display: table-cell;\">name&nbsp;=&nbsp;None,</div></div><div class=\"b5339fd9-3391-4464-81c9-00f54a6f2dbd\" style=\"display: none;\"><div style=\"display: table-cell;\"></div><div style=\"display: table-cell;\">selected&nbsp;=&nbsp;{'0d': {'glyph': None, 'indices': []}, '1d': {'indices': []}, '2d': {'indices': {}}},</div></div><div class=\"b5339fd9-3391-4464-81c9-00f54a6f2dbd\" style=\"display: none;\"><div style=\"display: table-cell;\"></div><div style=\"display: table-cell;\">subscribed_events&nbsp;=&nbsp;[],</div></div><div class=\"b5339fd9-3391-4464-81c9-00f54a6f2dbd\" style=\"display: none;\"><div style=\"display: table-cell;\"></div><div style=\"display: table-cell;\">tags&nbsp;=&nbsp;[])</div></div></div>\n",
       "<script>\n",
       "(function() {\n",
       "  var expanded = false;\n",
       "  var ellipsis = document.getElementById(\"9018262d-0213-4f3d-9668-9885a4e33a47\");\n",
       "  ellipsis.addEventListener(\"click\", function() {\n",
       "    var rows = document.getElementsByClassName(\"b5339fd9-3391-4464-81c9-00f54a6f2dbd\");\n",
       "    for (var i = 0; i < rows.length; i++) {\n",
       "      var el = rows[i];\n",
       "      el.style.display = expanded ? \"none\" : \"table-row\";\n",
       "    }\n",
       "    ellipsis.innerHTML = expanded ? \"&hellip;)\" : \"&lsaquo;&lsaquo;&lsaquo;\";\n",
       "    expanded = !expanded;\n",
       "  });\n",
       "})();\n",
       "</script>\n"
      ],
      "text/plain": [
       "ColumnDataSource(id='8e8ee8d3-2c71-4148-bced-e4d0ef8a1072', ...)"
      ]
     },
     "execution_count": 22,
     "metadata": {},
     "output_type": "execute_result"
    }
   ],
   "source": [
    "source"
   ]
  },
  {
   "cell_type": "markdown",
   "metadata": {},
   "source": [
    "from bokeh.io import output_file, show"
   ]
  },
  {
   "cell_type": "code",
   "execution_count": null,
   "metadata": {
    "collapsed": true
   },
   "outputs": [],
   "source": []
  },
  {
   "cell_type": "code",
   "execution_count": 30,
   "metadata": {},
   "outputs": [
    {
     "ename": "RuntimeError",
     "evalue": "bokeh sample data directory does not exist, please execute bokeh.sampledata.download()",
     "output_type": "error",
     "traceback": [
      "\u001b[0;31m---------------------------------------------------------------------------\u001b[0m",
      "\u001b[0;31mRuntimeError\u001b[0m                              Traceback (most recent call last)",
      "\u001b[0;32m<ipython-input-30-17cbb5db6d53>\u001b[0m in \u001b[0;36m<module>\u001b[0;34m()\u001b[0m\n\u001b[1;32m      1\u001b[0m \u001b[0;32mfrom\u001b[0m \u001b[0mbokeh\u001b[0m\u001b[0;34m.\u001b[0m\u001b[0mplotting\u001b[0m \u001b[0;32mimport\u001b[0m \u001b[0mfigure\u001b[0m\u001b[0;34m,\u001b[0m \u001b[0mshow\u001b[0m\u001b[0;34m,\u001b[0m \u001b[0moutput_file\u001b[0m\u001b[0;34m\u001b[0m\u001b[0m\n\u001b[0;32m----> 2\u001b[0;31m \u001b[0;32mfrom\u001b[0m \u001b[0mbokeh\u001b[0m\u001b[0;34m.\u001b[0m\u001b[0msampledata\u001b[0m\u001b[0;34m.\u001b[0m\u001b[0mus_counties\u001b[0m \u001b[0;32mimport\u001b[0m \u001b[0mdata\u001b[0m \u001b[0;32mas\u001b[0m \u001b[0mcounties\u001b[0m\u001b[0;34m\u001b[0m\u001b[0m\n\u001b[0m\u001b[1;32m      3\u001b[0m \u001b[0;32mfrom\u001b[0m \u001b[0mbokeh\u001b[0m\u001b[0;34m.\u001b[0m\u001b[0msampledata\u001b[0m\u001b[0;34m.\u001b[0m\u001b[0mus_states\u001b[0m \u001b[0;32mimport\u001b[0m \u001b[0mdata\u001b[0m \u001b[0;32mas\u001b[0m \u001b[0mstates\u001b[0m\u001b[0;34m\u001b[0m\u001b[0m\n\u001b[1;32m      4\u001b[0m \u001b[0;32mfrom\u001b[0m \u001b[0mbokeh\u001b[0m\u001b[0;34m.\u001b[0m\u001b[0msampledata\u001b[0m\u001b[0;34m.\u001b[0m\u001b[0munemployment\u001b[0m \u001b[0;32mimport\u001b[0m \u001b[0mdata\u001b[0m \u001b[0;32mas\u001b[0m \u001b[0munemployment\u001b[0m\u001b[0;34m\u001b[0m\u001b[0m\n\u001b[1;32m      5\u001b[0m \u001b[0;34m\u001b[0m\u001b[0m\n",
      "\u001b[0;32m~/anaconda3/lib/python3.6/site-packages/bokeh/sampledata/us_counties.py\u001b[0m in \u001b[0;36m<module>\u001b[0;34m()\u001b[0m\n\u001b[1;32m     21\u001b[0m \u001b[0;32mfrom\u001b[0m \u001b[0;34m.\u001b[0m \u001b[0;32mimport\u001b[0m \u001b[0m_open_csv_file\u001b[0m\u001b[0;34m\u001b[0m\u001b[0m\n\u001b[1;32m     22\u001b[0m \u001b[0;34m\u001b[0m\u001b[0m\n\u001b[0;32m---> 23\u001b[0;31m \u001b[0mdata_dir\u001b[0m \u001b[0;34m=\u001b[0m \u001b[0m_data_dir\u001b[0m\u001b[0;34m(\u001b[0m\u001b[0;34m)\u001b[0m\u001b[0;34m\u001b[0m\u001b[0m\n\u001b[0m\u001b[1;32m     24\u001b[0m \u001b[0;34m\u001b[0m\u001b[0m\n\u001b[1;32m     25\u001b[0m \u001b[0mnan\u001b[0m \u001b[0;34m=\u001b[0m \u001b[0mfloat\u001b[0m\u001b[0;34m(\u001b[0m\u001b[0;34m'NaN'\u001b[0m\u001b[0;34m)\u001b[0m\u001b[0;34m\u001b[0m\u001b[0m\n",
      "\u001b[0;32m~/anaconda3/lib/python3.6/site-packages/bokeh/sampledata/__init__.py\u001b[0m in \u001b[0;36m_data_dir\u001b[0;34m(file_name, create)\u001b[0m\n\u001b[1;32m     36\u001b[0m     \u001b[0;32mif\u001b[0m \u001b[0;32mnot\u001b[0m \u001b[0mexists\u001b[0m\u001b[0;34m(\u001b[0m\u001b[0mdata_dir\u001b[0m\u001b[0;34m)\u001b[0m\u001b[0;34m:\u001b[0m\u001b[0;34m\u001b[0m\u001b[0m\n\u001b[1;32m     37\u001b[0m         \u001b[0;32mif\u001b[0m \u001b[0;32mnot\u001b[0m \u001b[0mcreate\u001b[0m\u001b[0;34m:\u001b[0m\u001b[0;34m\u001b[0m\u001b[0m\n\u001b[0;32m---> 38\u001b[0;31m             \u001b[0;32mraise\u001b[0m \u001b[0mRuntimeError\u001b[0m\u001b[0;34m(\u001b[0m\u001b[0;34m'bokeh sample data directory does not exist, please execute bokeh.sampledata.download()'\u001b[0m\u001b[0;34m)\u001b[0m\u001b[0;34m\u001b[0m\u001b[0m\n\u001b[0m\u001b[1;32m     39\u001b[0m         \u001b[0mprint\u001b[0m\u001b[0;34m(\u001b[0m\u001b[0;34m\"Creating %s directory\"\u001b[0m \u001b[0;34m%\u001b[0m \u001b[0mdata_dir\u001b[0m\u001b[0;34m)\u001b[0m\u001b[0;34m\u001b[0m\u001b[0m\n\u001b[1;32m     40\u001b[0m         \u001b[0;32mtry\u001b[0m\u001b[0;34m:\u001b[0m\u001b[0;34m\u001b[0m\u001b[0m\n",
      "\u001b[0;31mRuntimeError\u001b[0m: bokeh sample data directory does not exist, please execute bokeh.sampledata.download()"
     ]
    }
   ],
   "source": [
    "from bokeh.plotting import figure, show, output_file\n",
    "from bokeh.sampledata.us_counties import data as counties\n",
    "from bokeh.sampledata.us_states import data as states\n",
    "from bokeh.sampledata.unemployment import data as unemployment\n",
    "\n",
    "del states[\"HI\"]\n",
    "del states[\"AK\"]\n",
    "\n",
    "EXCLUDED = (\"ak\", \"hi\", \"pr\", \"gu\", \"vi\", \"mp\", \"as\")\n",
    "\n",
    "state_xs = [states[code][\"lons\"] for code in states]\n",
    "state_ys = [states[code][\"lats\"] for code in states]\n",
    "\n",
    "county_xs=[counties[code][\"lons\"] for code in counties if counties[code][\"state\"] not in EXCLUDED]\n",
    "county_ys=[counties[code][\"lats\"] for code in counties if counties[code][\"state\"] not in EXCLUDED]\n",
    "\n",
    "colors = [\"#F1EEF6\", \"#D4B9DA\", \"#C994C7\", \"#DF65B0\", \"#DD1C77\", \"#980043\"]\n",
    "\n",
    "county_colors = []\n",
    "for county_id in counties:\n",
    "    if counties[county_id][\"state\"] in EXCLUDED:\n",
    "        continue\n",
    "    try:\n",
    "        rate = unemployment[county_id]\n",
    "        idx = int(rate/6)\n",
    "        county_colors.append(colors[idx])\n",
    "    except KeyError:\n",
    "        county_colors.append(\"black\")\n",
    "\n",
    "p = figure(title=\"US Unemployment 2009\", toolbar_location=\"left\",\n",
    "           plot_width=1100, plot_height=700)\n",
    "\n",
    "p.patches(county_xs, county_ys,\n",
    "          fill_color=county_colors, fill_alpha=0.7,\n",
    "          line_color=\"white\", line_width=0.5)\n",
    "\n",
    "p.patches(state_xs, state_ys, fill_alpha=0.0,\n",
    "          line_color=\"#884444\", line_width=2, line_alpha=0.3)\n",
    "\n",
    "output_file(\"choropleth.html\", title=\"choropleth.py example\")\n",
    "\n",
    "show(p)"
   ]
  },
  {
   "cell_type": "code",
   "execution_count": null,
   "metadata": {
    "collapsed": true
   },
   "outputs": [],
   "source": []
  }
 ],
 "metadata": {
  "kernelspec": {
   "display_name": "Python 3",
   "language": "python",
   "name": "python3"
  },
  "language_info": {
   "codemirror_mode": {
    "name": "ipython",
    "version": 3
   },
   "file_extension": ".py",
   "mimetype": "text/x-python",
   "name": "python",
   "nbconvert_exporter": "python",
   "pygments_lexer": "ipython3",
   "version": "3.6.2"
  }
 },
 "nbformat": 4,
 "nbformat_minor": 2
}
