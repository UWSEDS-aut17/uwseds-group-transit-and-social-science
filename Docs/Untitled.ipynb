{
 "cells": [
  {
   "cell_type": "code",
   "execution_count": 3,
   "metadata": {
    "collapsed": true
   },
   "outputs": [],
   "source": [
    "#    Python script to process King County GTFS data\n",
    "import pandas as pd\n",
    "import os\n",
    "import zipfile\n",
    "\n",
    "#    Reading data and making pandas dataframes\n",
    "#    from PSRC xlsx files\n",
    "def get_data ():\n",
    "    households_df = pd.read_excel('/Users/ricoshea8/CSE583/Project/uwseds-group-transit-and-social-science/Data/2014-pr3-hhsurvey-households.xlsx')\n",
    "    persons_df = pd.read_excel('/Users/ricoshea8/CSE583/Project/uwseds-group-transit-and-social-science/Data/2014-pr3-hhsurvey-persons.xlsx')\n",
    "    trips_df = pd.read_excel('/Users/ricoshea8/CSE583/Project/uwseds-group-transit-and-social-science/Data/2014-pr3-hhsurvey-trips.xlsx')\n",
    "\n",
    "#   Extract trips with origin and destination in King County\n",
    "def extract_trips ():\n",
    "    king_trips_df = trips_df.loc[(trips_df['ocity'] == SEATTLE) & (trips_df['dzip'] == 1)]\n",
    "    king_households_df = households_df.loc[households_df['hhid'].isin( king_trips_df['hhid'])]\n",
    "    king_persons_df = persons_df.loc[persons_df['personid'].isin( king_trips_df['personID'])]\n",
    "\n",
    "\n",
    "#   Function to merge 3 datasets\n",
    "\n",
    "def merge_data ():\n",
    "    trips_households_df = king_trips_df.merge(king_households_df, left_on='hhid', right_on='hhid', how='inner')\n",
    "    all_df = trips_households_df.merge(king_persons_df, left_on='personID', right_on='personid', how='inner')\n",
    "\n",
    "#   Drop not needed columns\n",
    "def drop_columns ():\n",
    "    df = all_df[['recordID','hhid_x','personID','tripID','ocity','ozip','dcity','dzip', 'time_start_mam',\n",
    " 'time_start_hhmm',\n",
    " 'time_start_past',\n",
    " 'time_end_mam',\n",
    " 'time_end_hhmm',\n",
    " 'time_end_past',\n",
    " 'trip_dur_reported',\n",
    " 'gdist',\n",
    " 'gtime', 'o_purpose',\n",
    " 'd_purpose', 'transitsystem1',\n",
    " 'transitsystem2',\n",
    " 'transitsystem3',\n",
    " 'transitsystem4',\n",
    " 'transitline1',\n",
    " 'transitline2',\n",
    " 'transitline3',\n",
    " 'transitline4', 'triptype', 'hhsize',\n",
    " 'numadults',\n",
    " 'numworkers',\n",
    " 'lifecycle',\n",
    " 'hh_income_detailed', 'h_city',\n",
    " 'h_zip', 'age',\n",
    " 'relationship',\n",
    " 'gender',\n",
    " 'employment',\n",
    " 'worker',\n",
    " 'student',\n",
    " 'education',\n",
    " 'smartphone',\n",
    " 'transit_freq'\n",
    " ]]\n",
    "    return(df)\n",
    "\n",
    "\n",
    "def group_data():\n",
    "    output_file = \"zipplots.html\"\n",
    "    p = figure(title = \"Heat Maps by Zip Code\")\n",
    "\n",
    "    #Count number of zip origins and destinations for heat mapping\n",
    "    ozip_counts = df.groupby('ozip').value_counts()\n",
    "    dzip_counts = df.groupby('dzip').value_counts()\n",
    "\n",
    "    #Get income counts for heat mapping\n",
    "    income_range_counts = df.groupby('h_zip')['hh_income_detailed'].value_counts()\n",
    "    \n",
    "    #Get trip type counts for analysis of accessibility of zip codes\n",
    "    trip_type_counts = df.groupby('h_zip')['triptype'].value_counts()\n",
    "\n",
    "    #Run through zip columns and plot differently based on origin, destination,\n",
    "    #and home zips. Visualization will then be specific for each\n",
    "    for i in len(df['tripID']):\n",
    "        #Should we group these by hour traveled maybe?? To compare to buses\n",
    "        if df.loc['ozip',i] == df.loc['h_zip',i] and df.loc['dzip',i] == df.loc['h_zip',i]:\n",
    "            #These are presumably short trips, no bus needed\n",
    "            p.circle(df.loc['ozip',i], df.loc['dzip',i], fill_color=\"blue\", size=8)\n",
    "        elif df.loc['ozip',i] == df.loc['h_zip',i]:\n",
    "            #These refer to how well served their home zip is for trips out\n",
    "            p.circle(df.loc['ozip',i], df.loc['dzip',i], fill_color=\"white\", size=8)\n",
    "        elif df.loc['dzip',i] == df.loc['h_zip',i]:\n",
    "            #These refer to how well served their home zip is for trips in\n",
    "            p.circle(df.loc['ozip',i], df.loc['dzip',i], fill_color=\"black\", size=8)\n",
    "        else:\n",
    "            #These are trips they're taking throughout their day, as a\n",
    "            #reflection of their work/life community's service via metro\n",
    "            p.circle(df.loc['ozip',i], df.loc['dzip',i], fill_color=\"red\", size=8)\n",
    "\n",
    "        return p\n"
   ]
  },
  {
   "cell_type": "code",
   "execution_count": 4,
   "metadata": {},
   "outputs": [],
   "source": [
    "get_data()"
   ]
  },
  {
   "cell_type": "code",
   "execution_count": 6,
   "metadata": {},
   "outputs": [
    {
     "ename": "NameError",
     "evalue": "name 'trips_df' is not defined",
     "output_type": "error",
     "traceback": [
      "\u001b[0;31m---------------------------------------------------------------------------\u001b[0m",
      "\u001b[0;31mNameError\u001b[0m                                 Traceback (most recent call last)",
      "\u001b[0;32m<ipython-input-6-f0a0024f18e4>\u001b[0m in \u001b[0;36m<module>\u001b[0;34m()\u001b[0m\n\u001b[0;32m----> 1\u001b[0;31m \u001b[0mextract_trips\u001b[0m\u001b[0;34m(\u001b[0m\u001b[0;34m)\u001b[0m\u001b[0;34m\u001b[0m\u001b[0m\n\u001b[0m",
      "\u001b[0;32m<ipython-input-3-e900620fff14>\u001b[0m in \u001b[0;36mextract_trips\u001b[0;34m()\u001b[0m\n\u001b[1;32m     13\u001b[0m \u001b[0;31m#   Extract trips with origin and destination in King County\u001b[0m\u001b[0;34m\u001b[0m\u001b[0;34m\u001b[0m\u001b[0m\n\u001b[1;32m     14\u001b[0m \u001b[0;32mdef\u001b[0m \u001b[0mextract_trips\u001b[0m \u001b[0;34m(\u001b[0m\u001b[0;34m)\u001b[0m\u001b[0;34m:\u001b[0m\u001b[0;34m\u001b[0m\u001b[0m\n\u001b[0;32m---> 15\u001b[0;31m     \u001b[0mking_trips_df\u001b[0m \u001b[0;34m=\u001b[0m \u001b[0mtrips_df\u001b[0m\u001b[0;34m.\u001b[0m\u001b[0mloc\u001b[0m\u001b[0;34m[\u001b[0m\u001b[0;34m(\u001b[0m\u001b[0mtrips_df\u001b[0m\u001b[0;34m[\u001b[0m\u001b[0;34m'ozip'\u001b[0m\u001b[0;34m]\u001b[0m \u001b[0;34m==\u001b[0m \u001b[0;36m1\u001b[0m\u001b[0;34m)\u001b[0m \u001b[0;34m&\u001b[0m \u001b[0;34m(\u001b[0m\u001b[0mtrips_df\u001b[0m\u001b[0;34m[\u001b[0m\u001b[0;34m'dzip'\u001b[0m\u001b[0;34m]\u001b[0m \u001b[0;34m==\u001b[0m \u001b[0;36m1\u001b[0m\u001b[0;34m)\u001b[0m\u001b[0;34m]\u001b[0m\u001b[0;34m\u001b[0m\u001b[0m\n\u001b[0m\u001b[1;32m     16\u001b[0m     \u001b[0mking_households_df\u001b[0m \u001b[0;34m=\u001b[0m \u001b[0mhouseholds_df\u001b[0m\u001b[0;34m.\u001b[0m\u001b[0mloc\u001b[0m\u001b[0;34m[\u001b[0m\u001b[0mhouseholds_df\u001b[0m\u001b[0;34m[\u001b[0m\u001b[0;34m'hhid'\u001b[0m\u001b[0;34m]\u001b[0m\u001b[0;34m.\u001b[0m\u001b[0misin\u001b[0m\u001b[0;34m(\u001b[0m \u001b[0mking_trips_df\u001b[0m\u001b[0;34m[\u001b[0m\u001b[0;34m'hhid'\u001b[0m\u001b[0;34m]\u001b[0m\u001b[0;34m)\u001b[0m\u001b[0;34m]\u001b[0m\u001b[0;34m\u001b[0m\u001b[0m\n\u001b[1;32m     17\u001b[0m     \u001b[0mking_persons_df\u001b[0m \u001b[0;34m=\u001b[0m \u001b[0mpersons_df\u001b[0m\u001b[0;34m.\u001b[0m\u001b[0mloc\u001b[0m\u001b[0;34m[\u001b[0m\u001b[0mpersons_df\u001b[0m\u001b[0;34m[\u001b[0m\u001b[0;34m'personid'\u001b[0m\u001b[0;34m]\u001b[0m\u001b[0;34m.\u001b[0m\u001b[0misin\u001b[0m\u001b[0;34m(\u001b[0m \u001b[0mking_trips_df\u001b[0m\u001b[0;34m[\u001b[0m\u001b[0;34m'personID'\u001b[0m\u001b[0;34m]\u001b[0m\u001b[0;34m)\u001b[0m\u001b[0;34m]\u001b[0m\u001b[0;34m\u001b[0m\u001b[0m\n",
      "\u001b[0;31mNameError\u001b[0m: name 'trips_df' is not defined"
     ]
    }
   ],
   "source": [
    "extract_trips()"
   ]
  },
  {
   "cell_type": "code",
   "execution_count": null,
   "metadata": {
    "collapsed": true
   },
   "outputs": [],
   "source": []
  }
 ],
 "metadata": {
  "kernelspec": {
   "display_name": "Python 3",
   "language": "python",
   "name": "python3"
  },
  "language_info": {
   "codemirror_mode": {
    "name": "ipython",
    "version": 3
   },
   "file_extension": ".py",
   "mimetype": "text/x-python",
   "name": "python",
   "nbconvert_exporter": "python",
   "pygments_lexer": "ipython3",
   "version": "3.6.1"
  }
 },
 "nbformat": 4,
 "nbformat_minor": 2
}
