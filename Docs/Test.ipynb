{
 "cells": [
  {
   "cell_type": "code",
   "execution_count": 1,
   "metadata": {
    "collapsed": true
   },
   "outputs": [],
   "source": [
    "from bokeh.plotting import figure, save, curdoc, output_file, show\n",
    "from bokeh.io import output_file, show\n",
    "from bokeh.models import ColumnDataSource, CustomJS, HoverTool, LogColorMapper, GMapPlot, GMapOptions, ColumnDataSource, Circle, DataRange1d, PanTool, WheelZoomTool, BoxSelectTool\n",
    "from bokeh.io import show, output_notebook\n",
    "from bokeh.models import GeoJSONDataSource, LinearColorMapper,callbacks\n",
    "from bokeh.events import Tap \n",
    "from bokeh.layouts import widgetbox, column, row,gridplot\n",
    "from bokeh.models.widgets import Button,CheckboxGroup\n",
    "import geopandas as gpd\n",
    "import pysal as ps\n",
    "import pandas as pd\n",
    "import numpy as np\n",
    "import math\n",
    "import coffeescript\n"
   ]
  },
  {
   "cell_type": "code",
   "execution_count": 31,
   "metadata": {
    "collapsed": true
   },
   "outputs": [],
   "source": [
    "import unittest\n",
    "\n",
    "\n",
    "\n",
    "# Define a class in which the tests will run\n",
    "class UnitTests(unittest.TestCase):\n",
    "\n",
    "    # Each method in the class to execute a test\n",
    "    def test_upper(self):\n",
    "        self.assertEqual(1, 2)\n",
    "\n",
    "    def test_isupper(self):\n",
    "        self.assertEqual(1, 2)\n",
    "        \n",
    "def test(test_class=UnitTests):\n",
    "    # Convenience function to run tests.\n",
    "    # test_class is the class containing the tests.\n",
    "    suite = unittest.TestLoader().loadTestsFromModule(test_class())\n",
    "    unittest.TextTestRunner().run(suite)\n"
   ]
  },
  {
   "cell_type": "code",
   "execution_count": 61,
   "metadata": {
    "collapsed": true
   },
   "outputs": [],
   "source": [
    "# shapefile of Seattle zip codes\n",
    "grid = r\"../Data/zips_sea/shp.shp\" \n",
    "\n",
    "#Shapefile of bus routes of Seattle\n",
    "gridy = r\"../Data/bus_seattle/network.shp\"\n",
    "\n",
    "#CSV file of zip codes and number of routes passing through them\n",
    "zips_sea =pd.read_csv('../Data/zips_seattle.csv')\n",
    "\n",
    "#CSV file of route numbers that passing through each zip code\n",
    "zip_route =pd.read_csv('../Data/routes_zipcode.csv')"
   ]
  },
  {
   "cell_type": "code",
   "execution_count": 1,
   "metadata": {},
   "outputs": [
    {
     "ename": "NameError",
     "evalue": "name 'gpd' is not defined",
     "output_type": "error",
     "traceback": [
      "\u001b[1;31m---------------------------------------------------------------------------\u001b[0m",
      "\u001b[1;31mNameError\u001b[0m                                 Traceback (most recent call last)",
      "\u001b[1;32m<ipython-input-1-4de590db0667>\u001b[0m in \u001b[0;36m<module>\u001b[1;34m()\u001b[0m\n\u001b[1;32m----> 1\u001b[1;33m \u001b[0mgrid\u001b[0m \u001b[1;33m=\u001b[0m \u001b[0mgpd\u001b[0m\u001b[1;33m.\u001b[0m\u001b[0mread_file\u001b[0m\u001b[1;33m(\u001b[0m\u001b[0mgrid\u001b[0m\u001b[1;33m)\u001b[0m\u001b[1;33m\u001b[0m\u001b[0m\n\u001b[0m\u001b[0;32m      2\u001b[0m \u001b[0mnetwork\u001b[0m \u001b[1;33m=\u001b[0m \u001b[0mgpd\u001b[0m\u001b[1;33m.\u001b[0m\u001b[0mread_file\u001b[0m\u001b[1;33m(\u001b[0m\u001b[0mnetwork_fp\u001b[0m\u001b[1;33m)\u001b[0m\u001b[1;33m\u001b[0m\u001b[0m\n",
      "\u001b[1;31mNameError\u001b[0m: name 'gpd' is not defined"
     ]
    }
   ],
   "source": [
    "grid = gpd.read_file(grid)\n",
    "network = gpd.read_file(network_fp)"
   ]
  },
  {
   "cell_type": "code",
   "execution_count": 65,
   "metadata": {
    "collapsed": true
   },
   "outputs": [],
   "source": [
    "# Extract x and y from geometry and have them as separate columns\n",
    "\n",
    "def getXYCoords(geometry, coord_type):\n",
    "    \"\"\" Returns either x or y coordinates from  geometry coordinate sequence. Used with LineString and Polygon geometries.\"\"\"\n",
    "    if coord_type == 'x':\n",
    "        return geometry.coords.xy[0]\n",
    "    elif coord_type == 'y':\n",
    "        return geometry.coords.xy[1]\n",
    "    \n",
    "def getLineCoords(geometry, coord_type):\n",
    "    \"\"\" Returns Coordinates of Linestring object.\"\"\"\n",
    "    return getXYCoords(geometry, coord_type)\n",
    "\n",
    "def getPolyCoords(geometry, coord_type):\n",
    "    \"\"\" Returns Coordinates of Polygon using the Exterior of the Polygon.\"\"\"\n",
    "    ext = geometry.exterior\n",
    "    return getXYCoords(ext, coord_type)\n",
    "\n",
    "def getCoords(row, geom_col, coord_type):\n",
    "    \"\"\"\n",
    "    Returns coordinates ('x' or 'y') of a geometry (Point, LineString or Polygon) as a list (if geometry is LineString or Polygon). \n",
    "    Can handle also MultiGeometries.\n",
    "    \"\"\"\n",
    "    # Get geometry\n",
    "    geom = row[geom_col]\n",
    "    \n",
    "    # Check the geometry type\n",
    "    gtype = geom.geom_type\n",
    "    \n",
    "    # \"Normal\" geometries\n",
    "    # -------------------\n",
    "    \n",
    "    if gtype == \"Point\":\n",
    "        return getPointCoords(geom, coord_type)\n",
    "    elif gtype == \"LineString\":\n",
    "        return list( getLineCoords(geom, coord_type) )\n",
    "    elif gtype == \"Polygon\":\n",
    "        return list( getPolyCoords(geom, coord_type) )\n",
    "\n",
    "\n",
    "grid['x'] = grid.apply(getCoords, geom_col=\"geometry\", coord_type=\"x\", axis=1)\n",
    "grid['y'] = grid.apply(getCoords, geom_col=\"geometry\", coord_type=\"y\", axis=1)\n"
   ]
  },
  {
   "cell_type": "code",
   "execution_count": 67,
   "metadata": {},
   "outputs": [
    {
     "name": "stderr",
     "output_type": "stream",
     "text": [
      "C:\\Users\\ASUS\\Anaconda3\\lib\\site-packages\\pysal\\esda\\mapclassify.py:267: RuntimeWarning: invalid value encountered in greater\n",
      "  binIds += (x > l) * (x <= r) * k\n",
      "C:\\Users\\ASUS\\Anaconda3\\lib\\site-packages\\pysal\\esda\\mapclassify.py:267: RuntimeWarning: invalid value encountered in less_equal\n",
      "  binIds += (x > l) * (x <= r) * k\n",
      "C:\\Users\\ASUS\\Anaconda3\\lib\\site-packages\\numpy\\lib\\function_base.py:4011: RuntimeWarning: Invalid value encountered in median\n",
      "  r = func(a, **kwargs)\n"
     ]
    }
   ],
   "source": [
    "#Defining thresholds for income\n",
    "breaks = [x for x in range(55000, 110000, 5000)]\n",
    "\n",
    "#Initialize the classifier and apply it\n",
    "classifier = ps.User_Defined.make(bins=breaks)\n",
    "pt_classif = grid[['income']].apply(classifier)\n",
    "\n",
    "# Rename the classified column\n",
    "pt_classif.columns = ['incomeb']\n",
    "\n",
    "# Join it back to the grid layer\n",
    "grid = grid.join(pt_classif)\n",
    "\n",
    "# Adding new column with bin names to be used in legend\n",
    "grid['bin']= pd.np.where(grid.incomeb.astype(str) == '1', \"[55000-60000]\",pd.np.where(grid.incomeb.astype(str) == '2', \"[60000-65000]\",\n",
    "                                                                                      pd.np.where(grid.incomeb.astype(str) == '3', \"[65000-70000]\",\n",
    "                                                                                                 pd.np.where(grid.incomeb.astype(str) == '4', \"[70000-75000]\",\n",
    "                                                                                                            pd.np.where(grid.incomeb.astype(str) == '5', \"[75000-80000]\",\n",
    "                                                                                                                       pd.np.where(grid.incomeb.astype(str) == '6', \"[80000-85000]\",\n",
    "                                                                                                                                  pd.np.where(grid.incomeb.astype(str) == '7', \"[85000-90000]\",\n",
    "                                                                                                                                             pd.np.where(grid.incomeb.astype(str) == '8', \"[90000-95000]\",\n",
    "                                                                                                                                             pd.np.where(grid.incomeb.astype(str) == '9', \"[95000-100000]\",\n",
    "                                                                                                                                             pd.np.where(grid.incomeb.astype(str) == '10', \"[100000-105000]\",\n",
    "                                                                                                                                             pd.np.where(grid.incomeb.astype(str) == '11', \"[105000-110000]\",'NA')\n",
    "                        ))))))))))"
   ]
  },
  {
   "cell_type": "code",
   "execution_count": null,
   "metadata": {
    "collapsed": true
   },
   "outputs": [],
   "source": [
    "#Sort shapefile based on income so have the legend in acsending order\n",
    "grid = grid.sort_values(['income'])"
   ]
  },
  {
   "cell_type": "code",
   "execution_count": 68,
   "metadata": {
    "collapsed": true
   },
   "outputs": [],
   "source": [
    "#Drop the geometry from shapefile and create ColumnDataSource\n",
    "g_df = grid.drop('geometry', axis=1).copy()\n",
    "gsource = ColumnDataSource(g_df)"
   ]
  },
  {
   "cell_type": "code",
   "execution_count": 70,
   "metadata": {
    "collapsed": true
   },
   "outputs": [],
   "source": [
    "p = figure(title=\"Seattle Bus Routes\")\n"
   ]
  },
  {
   "cell_type": "code",
   "execution_count": 72,
   "metadata": {},
   "outputs": [
    {
     "data": {
      "text/plain": [
       "bokeh.models.sources.ColumnDataSource"
      ]
     },
     "execution_count": 72,
     "metadata": {},
     "output_type": "execute_result"
    }
   ],
   "source": [
    "type(gsource)"
   ]
  },
  {
   "cell_type": "code",
   "execution_count": 71,
   "metadata": {},
   "outputs": [
    {
     "name": "stderr",
     "output_type": "stream",
     "text": [
      ".\n",
      "----------------------------------------------------------------------\n",
      "Ran 1 test in 0.018s\n",
      "\n",
      "OK\n"
     ]
    }
   ],
   "source": [
    "class EntropyTest(unittest.TestCase):\n",
    "    \n",
    "    def test_plot(self):\n",
    "        p = figure()\n",
    "        self.assertEqual(str(type(p)),\"<class 'bokeh.plotting.figure.Figure'>\")\n",
    "\n",
    "test(test_class=EntropyTest)"
   ]
  },
  {
   "cell_type": "code",
   "execution_count": 73,
   "metadata": {},
   "outputs": [
    {
     "ename": "KeyError",
     "evalue": "('geometry', 'occurred at index 0')",
     "output_type": "error",
     "traceback": [
      "\u001b[1;31m---------------------------------------------------------------------------\u001b[0m",
      "\u001b[1;31mTypeError\u001b[0m                                 Traceback (most recent call last)",
      "\u001b[1;32m~\\Anaconda3\\lib\\site-packages\\pandas\\core\\indexes\\base.py\u001b[0m in \u001b[0;36mget_value\u001b[1;34m(self, series, key)\u001b[0m\n\u001b[0;32m   2482\u001b[0m             \u001b[1;32mtry\u001b[0m\u001b[1;33m:\u001b[0m\u001b[1;33m\u001b[0m\u001b[0m\n\u001b[1;32m-> 2483\u001b[1;33m                 \u001b[1;32mreturn\u001b[0m \u001b[0mlibts\u001b[0m\u001b[1;33m.\u001b[0m\u001b[0mget_value_box\u001b[0m\u001b[1;33m(\u001b[0m\u001b[0ms\u001b[0m\u001b[1;33m,\u001b[0m \u001b[0mkey\u001b[0m\u001b[1;33m)\u001b[0m\u001b[1;33m\u001b[0m\u001b[0m\n\u001b[0m\u001b[0;32m   2484\u001b[0m             \u001b[1;32mexcept\u001b[0m \u001b[0mIndexError\u001b[0m\u001b[1;33m:\u001b[0m\u001b[1;33m\u001b[0m\u001b[0m\n",
      "\u001b[1;32mpandas/_libs/tslib.pyx\u001b[0m in \u001b[0;36mpandas._libs.tslib.get_value_box (pandas\\_libs\\tslib.c:18843)\u001b[1;34m()\u001b[0m\n",
      "\u001b[1;32mpandas/_libs/tslib.pyx\u001b[0m in \u001b[0;36mpandas._libs.tslib.get_value_box (pandas\\_libs\\tslib.c:18477)\u001b[1;34m()\u001b[0m\n",
      "\u001b[1;31mTypeError\u001b[0m: 'str' object cannot be interpreted as an integer",
      "\nDuring handling of the above exception, another exception occurred:\n",
      "\u001b[1;31mKeyError\u001b[0m                                  Traceback (most recent call last)",
      "\u001b[1;32m<ipython-input-73-1a88821976f0>\u001b[0m in \u001b[0;36m<module>\u001b[1;34m()\u001b[0m\n\u001b[0;32m     12\u001b[0m     \u001b[0mL\u001b[0m\u001b[1;33m=\u001b[0m\u001b[0mx\u001b[0m\u001b[1;33m.\u001b[0m\u001b[0mapply\u001b[0m\u001b[1;33m(\u001b[0m\u001b[0mgetCoords\u001b[0m\u001b[1;33m,\u001b[0m \u001b[0mgeom_col\u001b[0m\u001b[1;33m=\u001b[0m\u001b[1;34m\"geometry\"\u001b[0m\u001b[1;33m,\u001b[0m \u001b[0mcoord_type\u001b[0m\u001b[1;33m=\u001b[0m\u001b[1;34m\"x\"\u001b[0m\u001b[1;33m,\u001b[0m \u001b[0maxis\u001b[0m\u001b[1;33m=\u001b[0m\u001b[1;36m1\u001b[0m\u001b[1;33m)\u001b[0m\u001b[1;33m\u001b[0m\u001b[0m\n\u001b[0;32m     13\u001b[0m     \u001b[1;32mreturn\u001b[0m\u001b[1;33m(\u001b[0m\u001b[0mL\u001b[0m\u001b[1;33m)\u001b[0m\u001b[1;33m\u001b[0m\u001b[0m\n\u001b[1;32m---> 14\u001b[1;33m \u001b[0mextract_geom\u001b[0m \u001b[1;33m(\u001b[0m\u001b[0mzips_sea\u001b[0m\u001b[1;33m)\u001b[0m\u001b[1;33m\u001b[0m\u001b[0m\n\u001b[0m\u001b[0;32m     15\u001b[0m \u001b[1;33m\u001b[0m\u001b[0m\n",
      "\u001b[1;32m<ipython-input-73-1a88821976f0>\u001b[0m in \u001b[0;36mextract_geom\u001b[1;34m(x)\u001b[0m\n\u001b[0;32m     10\u001b[0m \u001b[1;33m\u001b[0m\u001b[0m\n\u001b[0;32m     11\u001b[0m \u001b[1;32mdef\u001b[0m \u001b[0mextract_geom\u001b[0m \u001b[1;33m(\u001b[0m\u001b[0mx\u001b[0m\u001b[1;33m)\u001b[0m\u001b[1;33m:\u001b[0m\u001b[1;33m\u001b[0m\u001b[0m\n\u001b[1;32m---> 12\u001b[1;33m     \u001b[0mL\u001b[0m\u001b[1;33m=\u001b[0m\u001b[0mx\u001b[0m\u001b[1;33m.\u001b[0m\u001b[0mapply\u001b[0m\u001b[1;33m(\u001b[0m\u001b[0mgetCoords\u001b[0m\u001b[1;33m,\u001b[0m \u001b[0mgeom_col\u001b[0m\u001b[1;33m=\u001b[0m\u001b[1;34m\"geometry\"\u001b[0m\u001b[1;33m,\u001b[0m \u001b[0mcoord_type\u001b[0m\u001b[1;33m=\u001b[0m\u001b[1;34m\"x\"\u001b[0m\u001b[1;33m,\u001b[0m \u001b[0maxis\u001b[0m\u001b[1;33m=\u001b[0m\u001b[1;36m1\u001b[0m\u001b[1;33m)\u001b[0m\u001b[1;33m\u001b[0m\u001b[0m\n\u001b[0m\u001b[0;32m     13\u001b[0m     \u001b[1;32mreturn\u001b[0m\u001b[1;33m(\u001b[0m\u001b[0mL\u001b[0m\u001b[1;33m)\u001b[0m\u001b[1;33m\u001b[0m\u001b[0m\n\u001b[0;32m     14\u001b[0m \u001b[0mextract_geom\u001b[0m \u001b[1;33m(\u001b[0m\u001b[0mzips_sea\u001b[0m\u001b[1;33m)\u001b[0m\u001b[1;33m\u001b[0m\u001b[0m\n",
      "\u001b[1;32m~\\Anaconda3\\lib\\site-packages\\pandas\\core\\frame.py\u001b[0m in \u001b[0;36mapply\u001b[1;34m(self, func, axis, broadcast, raw, reduce, args, **kwds)\u001b[0m\n\u001b[0;32m   4260\u001b[0m                         \u001b[0mf\u001b[0m\u001b[1;33m,\u001b[0m \u001b[0maxis\u001b[0m\u001b[1;33m,\u001b[0m\u001b[1;33m\u001b[0m\u001b[0m\n\u001b[0;32m   4261\u001b[0m                         \u001b[0mreduce\u001b[0m\u001b[1;33m=\u001b[0m\u001b[0mreduce\u001b[0m\u001b[1;33m,\u001b[0m\u001b[1;33m\u001b[0m\u001b[0m\n\u001b[1;32m-> 4262\u001b[1;33m                         ignore_failures=ignore_failures)\n\u001b[0m\u001b[0;32m   4263\u001b[0m             \u001b[1;32melse\u001b[0m\u001b[1;33m:\u001b[0m\u001b[1;33m\u001b[0m\u001b[0m\n\u001b[0;32m   4264\u001b[0m                 \u001b[1;32mreturn\u001b[0m \u001b[0mself\u001b[0m\u001b[1;33m.\u001b[0m\u001b[0m_apply_broadcast\u001b[0m\u001b[1;33m(\u001b[0m\u001b[0mf\u001b[0m\u001b[1;33m,\u001b[0m \u001b[0maxis\u001b[0m\u001b[1;33m)\u001b[0m\u001b[1;33m\u001b[0m\u001b[0m\n",
      "\u001b[1;32m~\\Anaconda3\\lib\\site-packages\\pandas\\core\\frame.py\u001b[0m in \u001b[0;36m_apply_standard\u001b[1;34m(self, func, axis, ignore_failures, reduce)\u001b[0m\n\u001b[0;32m   4356\u001b[0m             \u001b[1;32mtry\u001b[0m\u001b[1;33m:\u001b[0m\u001b[1;33m\u001b[0m\u001b[0m\n\u001b[0;32m   4357\u001b[0m                 \u001b[1;32mfor\u001b[0m \u001b[0mi\u001b[0m\u001b[1;33m,\u001b[0m \u001b[0mv\u001b[0m \u001b[1;32min\u001b[0m \u001b[0menumerate\u001b[0m\u001b[1;33m(\u001b[0m\u001b[0mseries_gen\u001b[0m\u001b[1;33m)\u001b[0m\u001b[1;33m:\u001b[0m\u001b[1;33m\u001b[0m\u001b[0m\n\u001b[1;32m-> 4358\u001b[1;33m                     \u001b[0mresults\u001b[0m\u001b[1;33m[\u001b[0m\u001b[0mi\u001b[0m\u001b[1;33m]\u001b[0m \u001b[1;33m=\u001b[0m \u001b[0mfunc\u001b[0m\u001b[1;33m(\u001b[0m\u001b[0mv\u001b[0m\u001b[1;33m)\u001b[0m\u001b[1;33m\u001b[0m\u001b[0m\n\u001b[0m\u001b[0;32m   4359\u001b[0m                     \u001b[0mkeys\u001b[0m\u001b[1;33m.\u001b[0m\u001b[0mappend\u001b[0m\u001b[1;33m(\u001b[0m\u001b[0mv\u001b[0m\u001b[1;33m.\u001b[0m\u001b[0mname\u001b[0m\u001b[1;33m)\u001b[0m\u001b[1;33m\u001b[0m\u001b[0m\n\u001b[0;32m   4360\u001b[0m             \u001b[1;32mexcept\u001b[0m \u001b[0mException\u001b[0m \u001b[1;32mas\u001b[0m \u001b[0me\u001b[0m\u001b[1;33m:\u001b[0m\u001b[1;33m\u001b[0m\u001b[0m\n",
      "\u001b[1;32m~\\Anaconda3\\lib\\site-packages\\pandas\\core\\frame.py\u001b[0m in \u001b[0;36mf\u001b[1;34m(x)\u001b[0m\n\u001b[0;32m   4237\u001b[0m         \u001b[1;32mif\u001b[0m \u001b[0mkwds\u001b[0m \u001b[1;32mor\u001b[0m \u001b[0margs\u001b[0m \u001b[1;32mand\u001b[0m \u001b[1;32mnot\u001b[0m \u001b[0misinstance\u001b[0m\u001b[1;33m(\u001b[0m\u001b[0mfunc\u001b[0m\u001b[1;33m,\u001b[0m \u001b[0mnp\u001b[0m\u001b[1;33m.\u001b[0m\u001b[0mufunc\u001b[0m\u001b[1;33m)\u001b[0m\u001b[1;33m:\u001b[0m\u001b[1;33m\u001b[0m\u001b[0m\n\u001b[0;32m   4238\u001b[0m             \u001b[1;32mdef\u001b[0m \u001b[0mf\u001b[0m\u001b[1;33m(\u001b[0m\u001b[0mx\u001b[0m\u001b[1;33m)\u001b[0m\u001b[1;33m:\u001b[0m\u001b[1;33m\u001b[0m\u001b[0m\n\u001b[1;32m-> 4239\u001b[1;33m                 \u001b[1;32mreturn\u001b[0m \u001b[0mfunc\u001b[0m\u001b[1;33m(\u001b[0m\u001b[0mx\u001b[0m\u001b[1;33m,\u001b[0m \u001b[1;33m*\u001b[0m\u001b[0margs\u001b[0m\u001b[1;33m,\u001b[0m \u001b[1;33m**\u001b[0m\u001b[0mkwds\u001b[0m\u001b[1;33m)\u001b[0m\u001b[1;33m\u001b[0m\u001b[0m\n\u001b[0m\u001b[0;32m   4240\u001b[0m         \u001b[1;32melse\u001b[0m\u001b[1;33m:\u001b[0m\u001b[1;33m\u001b[0m\u001b[0m\n\u001b[0;32m   4241\u001b[0m             \u001b[0mf\u001b[0m \u001b[1;33m=\u001b[0m \u001b[0mfunc\u001b[0m\u001b[1;33m\u001b[0m\u001b[0m\n",
      "\u001b[1;32m<ipython-input-65-0aee5357911d>\u001b[0m in \u001b[0;36mgetCoords\u001b[1;34m(row, geom_col, coord_type)\u001b[0m\n\u001b[0;32m     23\u001b[0m     \"\"\"\n\u001b[0;32m     24\u001b[0m     \u001b[1;31m# Get geometry\u001b[0m\u001b[1;33m\u001b[0m\u001b[1;33m\u001b[0m\u001b[0m\n\u001b[1;32m---> 25\u001b[1;33m     \u001b[0mgeom\u001b[0m \u001b[1;33m=\u001b[0m \u001b[0mrow\u001b[0m\u001b[1;33m[\u001b[0m\u001b[0mgeom_col\u001b[0m\u001b[1;33m]\u001b[0m\u001b[1;33m\u001b[0m\u001b[0m\n\u001b[0m\u001b[0;32m     26\u001b[0m \u001b[1;33m\u001b[0m\u001b[0m\n\u001b[0;32m     27\u001b[0m     \u001b[1;31m# Check the geometry type\u001b[0m\u001b[1;33m\u001b[0m\u001b[1;33m\u001b[0m\u001b[0m\n",
      "\u001b[1;32m~\\Anaconda3\\lib\\site-packages\\pandas\\core\\series.py\u001b[0m in \u001b[0;36m__getitem__\u001b[1;34m(self, key)\u001b[0m\n\u001b[0;32m    599\u001b[0m         \u001b[0mkey\u001b[0m \u001b[1;33m=\u001b[0m \u001b[0mcom\u001b[0m\u001b[1;33m.\u001b[0m\u001b[0m_apply_if_callable\u001b[0m\u001b[1;33m(\u001b[0m\u001b[0mkey\u001b[0m\u001b[1;33m,\u001b[0m \u001b[0mself\u001b[0m\u001b[1;33m)\u001b[0m\u001b[1;33m\u001b[0m\u001b[0m\n\u001b[0;32m    600\u001b[0m         \u001b[1;32mtry\u001b[0m\u001b[1;33m:\u001b[0m\u001b[1;33m\u001b[0m\u001b[0m\n\u001b[1;32m--> 601\u001b[1;33m             \u001b[0mresult\u001b[0m \u001b[1;33m=\u001b[0m \u001b[0mself\u001b[0m\u001b[1;33m.\u001b[0m\u001b[0mindex\u001b[0m\u001b[1;33m.\u001b[0m\u001b[0mget_value\u001b[0m\u001b[1;33m(\u001b[0m\u001b[0mself\u001b[0m\u001b[1;33m,\u001b[0m \u001b[0mkey\u001b[0m\u001b[1;33m)\u001b[0m\u001b[1;33m\u001b[0m\u001b[0m\n\u001b[0m\u001b[0;32m    602\u001b[0m \u001b[1;33m\u001b[0m\u001b[0m\n\u001b[0;32m    603\u001b[0m             \u001b[1;32mif\u001b[0m \u001b[1;32mnot\u001b[0m \u001b[0mis_scalar\u001b[0m\u001b[1;33m(\u001b[0m\u001b[0mresult\u001b[0m\u001b[1;33m)\u001b[0m\u001b[1;33m:\u001b[0m\u001b[1;33m\u001b[0m\u001b[0m\n",
      "\u001b[1;32m~\\Anaconda3\\lib\\site-packages\\pandas\\core\\indexes\\base.py\u001b[0m in \u001b[0;36mget_value\u001b[1;34m(self, series, key)\u001b[0m\n\u001b[0;32m   2489\u001b[0m                     \u001b[1;32mraise\u001b[0m \u001b[0mInvalidIndexError\u001b[0m\u001b[1;33m(\u001b[0m\u001b[0mkey\u001b[0m\u001b[1;33m)\u001b[0m\u001b[1;33m\u001b[0m\u001b[0m\n\u001b[0;32m   2490\u001b[0m                 \u001b[1;32melse\u001b[0m\u001b[1;33m:\u001b[0m\u001b[1;33m\u001b[0m\u001b[0m\n\u001b[1;32m-> 2491\u001b[1;33m                     \u001b[1;32mraise\u001b[0m \u001b[0me1\u001b[0m\u001b[1;33m\u001b[0m\u001b[0m\n\u001b[0m\u001b[0;32m   2492\u001b[0m             \u001b[1;32mexcept\u001b[0m \u001b[0mException\u001b[0m\u001b[1;33m:\u001b[0m  \u001b[1;31m# pragma: no cover\u001b[0m\u001b[1;33m\u001b[0m\u001b[0m\n\u001b[0;32m   2493\u001b[0m                 \u001b[1;32mraise\u001b[0m \u001b[0me1\u001b[0m\u001b[1;33m\u001b[0m\u001b[0m\n",
      "\u001b[1;32m~\\Anaconda3\\lib\\site-packages\\pandas\\core\\indexes\\base.py\u001b[0m in \u001b[0;36mget_value\u001b[1;34m(self, series, key)\u001b[0m\n\u001b[0;32m   2475\u001b[0m         \u001b[1;32mtry\u001b[0m\u001b[1;33m:\u001b[0m\u001b[1;33m\u001b[0m\u001b[0m\n\u001b[0;32m   2476\u001b[0m             return self._engine.get_value(s, k,\n\u001b[1;32m-> 2477\u001b[1;33m                                           tz=getattr(series.dtype, 'tz', None))\n\u001b[0m\u001b[0;32m   2478\u001b[0m         \u001b[1;32mexcept\u001b[0m \u001b[0mKeyError\u001b[0m \u001b[1;32mas\u001b[0m \u001b[0me1\u001b[0m\u001b[1;33m:\u001b[0m\u001b[1;33m\u001b[0m\u001b[0m\n\u001b[0;32m   2479\u001b[0m             \u001b[1;32mif\u001b[0m \u001b[0mlen\u001b[0m\u001b[1;33m(\u001b[0m\u001b[0mself\u001b[0m\u001b[1;33m)\u001b[0m \u001b[1;33m>\u001b[0m \u001b[1;36m0\u001b[0m \u001b[1;32mand\u001b[0m \u001b[0mself\u001b[0m\u001b[1;33m.\u001b[0m\u001b[0minferred_type\u001b[0m \u001b[1;32min\u001b[0m \u001b[1;33m[\u001b[0m\u001b[1;34m'integer'\u001b[0m\u001b[1;33m,\u001b[0m \u001b[1;34m'boolean'\u001b[0m\u001b[1;33m]\u001b[0m\u001b[1;33m:\u001b[0m\u001b[1;33m\u001b[0m\u001b[0m\n",
      "\u001b[1;32mpandas\\_libs\\index.pyx\u001b[0m in \u001b[0;36mpandas._libs.index.IndexEngine.get_value\u001b[1;34m()\u001b[0m\n",
      "\u001b[1;32mpandas\\_libs\\index.pyx\u001b[0m in \u001b[0;36mpandas._libs.index.IndexEngine.get_value\u001b[1;34m()\u001b[0m\n",
      "\u001b[1;32mpandas\\_libs\\index.pyx\u001b[0m in \u001b[0;36mpandas._libs.index.IndexEngine.get_loc\u001b[1;34m()\u001b[0m\n",
      "\u001b[1;32mpandas\\_libs\\hashtable_class_helper.pxi\u001b[0m in \u001b[0;36mpandas._libs.hashtable.PyObjectHashTable.get_item\u001b[1;34m()\u001b[0m\n",
      "\u001b[1;32mpandas\\_libs\\hashtable_class_helper.pxi\u001b[0m in \u001b[0;36mpandas._libs.hashtable.PyObjectHashTable.get_item\u001b[1;34m()\u001b[0m\n",
      "\u001b[1;31mKeyError\u001b[0m: ('geometry', 'occurred at index 0')"
     ]
    }
   ],
   "source": [
    "def js_code (N_plots):\n",
    "    part1 = ''.join(['\\n l'+str(i)+'.visible = '+'false;' for i in N_plots])\n",
    "    part2 = ''.join(['\\n if (cb_obj.active[i] == '+str(i)+')'+'{l'+str(i)+'.visible = '+'true;' +  '} else ' for i in N_plots])\n",
    "    if part2.endswith('else '):\n",
    "        part2 = part2[:-5]\n",
    "    checkbox_code = '//console.log(cb_obj.active); '+ part1 + \"\"\"for (i in cb_obj.active) {//console.log(cb_obj.active[i]);\"\"\" + part2 + \"\"\"}\"\"\" \n",
    "    return (checkbox_code)\n",
    "\n",
    "code = js_code (range(0,3))\n",
    "\n",
    "def extract_geom (x):\n",
    "    L=x.apply(getCoords, geom_col=\"geometry\", coord_type=\"x\", axis=1)\n",
    "    return(L)\n",
    "extract_geom (zips_sea)  \n",
    "    "
   ]
  },
  {
   "cell_type": "code",
   "execution_count": 74,
   "metadata": {},
   "outputs": [
    {
     "data": {
      "text/plain": [
       "str"
      ]
     },
     "execution_count": 74,
     "metadata": {},
     "output_type": "execute_result"
    }
   ],
   "source": [
    "type(code)"
   ]
  },
  {
   "cell_type": "code",
   "execution_count": 60,
   "metadata": {},
   "outputs": [
    {
     "name": "stderr",
     "output_type": "stream",
     "text": [
      "E\n",
      "======================================================================\n",
      "ERROR: test_getXY (__main__.EntropyTest)\n",
      "----------------------------------------------------------------------\n",
      "Traceback (most recent call last):\n",
      "  File \"C:\\Users\\ASUS\\Anaconda3\\lib\\site-packages\\pandas\\core\\indexes\\base.py\", line 2483, in get_value\n",
      "    return libts.get_value_box(s, key)\n",
      "  File \"pandas/_libs/tslib.pyx\", line 923, in pandas._libs.tslib.get_value_box (pandas\\_libs\\tslib.c:18843)\n",
      "  File \"pandas/_libs/tslib.pyx\", line 932, in pandas._libs.tslib.get_value_box (pandas\\_libs\\tslib.c:18477)\n",
      "TypeError: 'str' object cannot be interpreted as an integer\n",
      "\n",
      "During handling of the above exception, another exception occurred:\n",
      "\n",
      "Traceback (most recent call last):\n",
      "  File \"<ipython-input-60-dc42c40197ea>\", line 3, in test_getXY\n",
      "    self.assertRaises(AttributeError,extract_geom,zips_sea)\n",
      "  File \"C:\\Users\\ASUS\\Anaconda3\\lib\\unittest\\case.py\", line 733, in assertRaises\n",
      "    return context.handle('assertRaises', args, kwargs)\n",
      "  File \"C:\\Users\\ASUS\\Anaconda3\\lib\\unittest\\case.py\", line 178, in handle\n",
      "    callable_obj(*args, **kwargs)\n",
      "  File \"<ipython-input-58-04fd7f62c02a>\", line 12, in extract_geom\n",
      "    L=x.apply(getCoords, geom_col=\"geometry\", coord_type=\"x\", axis=1)\n",
      "  File \"C:\\Users\\ASUS\\Anaconda3\\lib\\site-packages\\pandas\\core\\frame.py\", line 4262, in apply\n",
      "    ignore_failures=ignore_failures)\n",
      "  File \"C:\\Users\\ASUS\\Anaconda3\\lib\\site-packages\\pandas\\core\\frame.py\", line 4358, in _apply_standard\n",
      "    results[i] = func(v)\n",
      "  File \"C:\\Users\\ASUS\\Anaconda3\\lib\\site-packages\\pandas\\core\\frame.py\", line 4239, in f\n",
      "    return func(x, *args, **kwds)\n",
      "  File \"<ipython-input-25-3d1c78d207d6>\", line 25, in getCoords\n",
      "    geom = row[geom_col]\n",
      "  File \"C:\\Users\\ASUS\\Anaconda3\\lib\\site-packages\\pandas\\core\\series.py\", line 601, in __getitem__\n",
      "    result = self.index.get_value(self, key)\n",
      "  File \"C:\\Users\\ASUS\\Anaconda3\\lib\\site-packages\\pandas\\core\\indexes\\base.py\", line 2491, in get_value\n",
      "    raise e1\n",
      "  File \"C:\\Users\\ASUS\\Anaconda3\\lib\\site-packages\\pandas\\core\\indexes\\base.py\", line 2477, in get_value\n",
      "    tz=getattr(series.dtype, 'tz', None))\n",
      "  File \"pandas\\_libs\\index.pyx\", line 98, in pandas._libs.index.IndexEngine.get_value\n",
      "  File \"pandas\\_libs\\index.pyx\", line 106, in pandas._libs.index.IndexEngine.get_value\n",
      "  File \"pandas\\_libs\\index.pyx\", line 154, in pandas._libs.index.IndexEngine.get_loc\n",
      "  File \"pandas\\_libs\\hashtable_class_helper.pxi\", line 1210, in pandas._libs.hashtable.PyObjectHashTable.get_item\n",
      "  File \"pandas\\_libs\\hashtable_class_helper.pxi\", line 1218, in pandas._libs.hashtable.PyObjectHashTable.get_item\n",
      "KeyError: ('geometry', 'occurred at index 0')\n",
      "\n",
      "----------------------------------------------------------------------\n",
      "Ran 1 test in 0.018s\n",
      "\n",
      "FAILED (errors=1)\n"
     ]
    }
   ],
   "source": [
    "class EntropyTest(unittest.TestCase):\n",
    "    def test_getXY (self):\n",
    "        self.assertRaises(AttributeError,extract_geom,zips_sea)\n",
    "        self.assertRaises(KeyError,extract_geom,zips_sea)\n",
    "    def test_plot(self):\n",
    "        p = figure()\n",
    "        self.assertEqual(str(type(p)),\"<class 'bokeh.plotting.figure.Figure'>\")\n",
    "\n",
    "test(test_class=EntropyTest)"
   ]
  },
  {
   "cell_type": "code",
   "execution_count": 20,
   "metadata": {},
   "outputs": [
    {
     "data": {
      "text/plain": [
       "0     POLYGON ((-122.340035 47.61306099999999, -122....\n",
       "1     POLYGON ((-122.327661 47.649237, -122.32697 47...\n",
       "2     POLYGON ((-122.35772 47.671873, -122.357721 47...\n",
       "3     POLYGON ((-122.332911 47.606086, -122.333564 4...\n",
       "4     POLYGON ((-122.328271 47.668646, -122.328259 4...\n",
       "5     POLYGON ((-122.36573 47.53987799999999, -122.3...\n",
       "6     POLYGON ((-122.405716 47.66858, -122.406027 47...\n",
       "7     POLYGON ((-122.3353 47.554184, -122.335292 47....\n",
       "8     POLYGON ((-122.356779 47.632315, -122.357017 4...\n",
       "9     POLYGON ((-122.315539 47.631864, -122.314758 4...\n",
       "10    POLYGON ((-122.326291 47.686799, -122.326649 4...\n",
       "11    POLYGON ((-122.42139 47.580768, -122.413278 47...\n",
       "12    POLYGON ((-122.393248 47.701602, -122.391995 4...\n",
       "13    POLYGON ((-122.29156 47.553456, -122.291557 47...\n",
       "14    POLYGON ((-122.380217 47.648463, -122.380422 4...\n",
       "15    POLYGON ((-122.352841 47.61859, -122.351362 47...\n",
       "16    POLYGON ((-122.32076 47.61040999999999, -122.3...\n",
       "17    POLYGON ((-122.328803 47.715892, -122.328857 4...\n",
       "18    POLYGON ((-122.380094 47.562871, -122.380092 4...\n",
       "19    POLYGON ((-122.358489 47.76867499999999, -122....\n",
       "20    POLYGON ((-122.360053 47.587377, -122.360105 4...\n",
       "21    POLYGON ((-122.403908 47.559597, -122.402766 4...\n",
       "22    POLYGON ((-122.317282 47.589986, -122.317282 4...\n",
       "23    POLYGON ((-122.39409 47.504692, -122.395502 47...\n",
       "24    POLYGON ((-122.334581 47.606374, -122.333564 4...\n",
       "25    POLYGON ((-122.332911 47.606086, -122.3318 47....\n",
       "26    POLYGON ((-122.33624 47.604693, -122.335131 47...\n",
       "27    POLYGON ((-122.394543 47.777919, -122.393332 4...\n",
       "28    POLYGON ((-122.278274 47.50395, -122.278718 47...\n",
       "29    POLYGON ((-122.422391 47.644999, -122.422517 4...\n",
       "Name: geometry, dtype: object"
      ]
     },
     "execution_count": 20,
     "metadata": {},
     "output_type": "execute_result"
    }
   ],
   "source": [
    "test()"
   ]
  },
  {
   "cell_type": "code",
   "execution_count": null,
   "metadata": {
    "collapsed": true
   },
   "outputs": [],
   "source": []
  }
 ],
 "metadata": {
  "kernelspec": {
   "display_name": "Python 3",
   "language": "python",
   "name": "python3"
  },
  "language_info": {
   "codemirror_mode": {
    "name": "ipython",
    "version": 3
   },
   "file_extension": ".py",
   "mimetype": "text/x-python",
   "name": "python",
   "nbconvert_exporter": "python",
   "pygments_lexer": "ipython3",
   "version": "3.6.2"
  }
 },
 "nbformat": 4,
 "nbformat_minor": 2
}
