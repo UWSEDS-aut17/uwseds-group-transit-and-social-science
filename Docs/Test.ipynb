{
 "cells": [
  {
   "cell_type": "code",
   "execution_count": 1,
   "metadata": {},
   "outputs": [],
   "source": [
    "from bokeh.plotting import figure, save, curdoc, output_file, show\n",
    "from bokeh.io import output_file, show\n",
    "from bokeh.models import ColumnDataSource, CustomJS, HoverTool, LogColorMapper, GMapPlot, GMapOptions, ColumnDataSource, Circle, DataRange1d, PanTool, WheelZoomTool, BoxSelectTool\n",
    "from bokeh.io import show, output_notebook\n",
    "from bokeh.models import GeoJSONDataSource, LinearColorMapper,callbacks\n",
    "from bokeh.events import Tap \n",
    "from bokeh.layouts import widgetbox, column, row,gridplot\n",
    "from bokeh.models.widgets import Button,CheckboxGroup\n",
    "import geopandas as gpd\n",
    "import pysal as ps\n",
    "import pandas as pd\n",
    "import numpy as np\n",
    "import math\n",
    "\n"
   ]
  },
  {
   "cell_type": "code",
   "execution_count": 2,
   "metadata": {
    "collapsed": true
   },
   "outputs": [],
   "source": [
    "import unittest\n",
    "\n",
    "\n",
    "\n",
    "# Define a class in which the tests will run\n",
    "class UnitTests(unittest.TestCase):\n",
    "\n",
    "    # Each method in the class to execute a test\n",
    "    def test_upper(self):\n",
    "        self.assertEqual(1, 2)\n",
    "\n",
    "    def test_isupper(self):\n",
    "        self.assertEqual(1, 2)\n",
    "        \n",
    "def test(test_class=UnitTests):\n",
    "    # Convenience function to run tests.\n",
    "    # test_class is the class containing the tests.\n",
    "    suite = unittest.TestLoader().loadTestsFromModule(test_class())\n",
    "    unittest.TextTestRunner().run(suite)\n"
   ]
  },
  {
   "cell_type": "code",
   "execution_count": 3,
   "metadata": {
    "collapsed": true
   },
   "outputs": [],
   "source": [
    "# shapefile of Seattle zip codes\n",
    "grid = r\"../Data/zips_sea/shp.shp\" \n",
    "\n",
    "#Shapefile of bus routes of Seattle\n",
    "gridy = r\"../Data/bus_seattle/network.shp\"\n",
    "\n",
    "#CSV file of zip codes and number of routes passing through them\n",
    "zips_sea =pd.read_csv('../Data/zips_seattle.csv')\n",
    "\n",
    "#CSV file of route numbers that passing through each zip code\n",
    "zip_route =pd.read_csv('../Data/routes_zipcode.csv')"
   ]
  },
  {
   "cell_type": "code",
   "execution_count": 4,
   "metadata": {},
   "outputs": [],
   "source": [
    "grid = gpd.read_file(grid)\n",
    "#network = gpd.read_file(network_fp)"
   ]
  },
  {
   "cell_type": "code",
   "execution_count": 5,
   "metadata": {
    "collapsed": true
   },
   "outputs": [],
   "source": [
    "# Extract x and y from geometry and have them as separate columns\n",
    "\n",
    "def getXYCoords(geometry, coord_type):\n",
    "    \"\"\" Returns either x or y coordinates from  geometry coordinate sequence. Used with LineString and Polygon geometries.\"\"\"\n",
    "    if coord_type == 'x':\n",
    "        return geometry.coords.xy[0]\n",
    "    elif coord_type == 'y':\n",
    "        return geometry.coords.xy[1]\n",
    "    \n",
    "def getLineCoords(geometry, coord_type):\n",
    "    \"\"\" Returns Coordinates of Linestring object.\"\"\"\n",
    "    return getXYCoords(geometry, coord_type)\n",
    "\n",
    "def getPolyCoords(geometry, coord_type):\n",
    "    \"\"\" Returns Coordinates of Polygon using the Exterior of the Polygon.\"\"\"\n",
    "    ext = geometry.exterior\n",
    "    return getXYCoords(ext, coord_type)\n",
    "\n",
    "def getCoords(row, geom_col, coord_type):\n",
    "    \"\"\"\n",
    "    Returns coordinates ('x' or 'y') of a geometry (Point, LineString or Polygon) as a list (if geometry is LineString or Polygon). \n",
    "    Can handle also MultiGeometries.\n",
    "    \"\"\"\n",
    "    # Get geometry\n",
    "    geom = row[geom_col]\n",
    "    \n",
    "    # Check the geometry type\n",
    "    gtype = geom.geom_type\n",
    "    \n",
    "    # \"Normal\" geometries\n",
    "    # -------------------\n",
    "    \n",
    "    if gtype == \"Point\":\n",
    "        return getPointCoords(geom, coord_type)\n",
    "    elif gtype == \"LineString\":\n",
    "        return list( getLineCoords(geom, coord_type) )\n",
    "    elif gtype == \"Polygon\":\n",
    "        return list( getPolyCoords(geom, coord_type) )\n",
    "\n",
    "\n",
    "grid['x'] = grid.apply(getCoords, geom_col=\"geometry\", coord_type=\"x\", axis=1)\n",
    "grid['y'] = grid.apply(getCoords, geom_col=\"geometry\", coord_type=\"y\", axis=1)\n"
   ]
  },
  {
   "cell_type": "code",
   "execution_count": 6,
   "metadata": {
    "collapsed": true
   },
   "outputs": [],
   "source": [
    "def income_classifier(grid):\n",
    "    #Defining thresholds for income\n",
    "    breaks = [x for x in range(55000, 110000, 5000)]\n",
    "\n",
    "    #Initialize the classifier and apply it\n",
    "    classifier = ps.User_Defined.make(bins=breaks)\n",
    "    pt_classif = grid[['income']].apply(classifier)\n",
    "    # Rename the classified column\n",
    "    pt_classif.columns = ['incomeb']\n",
    "\n",
    "    # Join it back to the grid layer\n",
    "    grid = grid.join(pt_classif)\n",
    "    # Adding new column with bin names to be used in legend\n",
    "    grid['bin']= pd.np.where(grid.incomeb.astype(str) == '1', \"[55000-60000]\",pd.np.where(grid.incomeb.astype(str) == '2', \"[60000-65000]\",\n",
    "                                                                                      pd.np.where(grid.incomeb.astype(str) == '3', \"[65000-70000]\",\n",
    "                                                                                                 pd.np.where(grid.incomeb.astype(str) == '4', \"[70000-75000]\",\n",
    "                                                                                                            pd.np.where(grid.incomeb.astype(str) == '5', \"[75000-80000]\",\n",
    "                                                                                                                       pd.np.where(grid.incomeb.astype(str) == '6', \"[80000-85000]\",\n",
    "                                                                                                                                  pd.np.where(grid.incomeb.astype(str) == '7', \"[85000-90000]\",\n",
    "                                                                                                                                             pd.np.where(grid.incomeb.astype(str) == '8', \"[90000-95000]\",\n",
    "                                                                                                                                             pd.np.where(grid.incomeb.astype(str) == '9', \"[95000-100000]\",\n",
    "                                                                                                                                             pd.np.where(grid.incomeb.astype(str) == '10', \"[100000-105000]\",\n",
    "                                                                                                                                             pd.np.where(grid.incomeb.astype(str) == '11', \"[105000-110000]\",'NA')\n",
    "                        ))))))))))\n",
    "    return(grid)"
   ]
  },
  {
   "cell_type": "code",
   "execution_count": 9,
   "metadata": {},
   "outputs": [
    {
     "name": "stderr",
     "output_type": "stream",
     "text": [
      "C:\\Users\\jabbari\\Anaconda3\\lib\\site-packages\\pysal\\esda\\mapclassify.py:267: RuntimeWarning: invalid value encountered in greater\n",
      "  binIds += (x > l) * (x <= r) * k\n",
      "C:\\Users\\jabbari\\Anaconda3\\lib\\site-packages\\pysal\\esda\\mapclassify.py:267: RuntimeWarning: invalid value encountered in less_equal\n",
      "  binIds += (x > l) * (x <= r) * k\n",
      "C:\\Users\\jabbari\\Anaconda3\\lib\\site-packages\\numpy\\lib\\function_base.py:4011: RuntimeWarning: Invalid value encountered in median\n",
      "  r = func(a, **kwargs)\n"
     ]
    }
   ],
   "source": [
    "gr = income_classifier(grid)"
   ]
  },
  {
   "cell_type": "code",
   "execution_count": 12,
   "metadata": {},
   "outputs": [
    {
     "ename": "SyntaxError",
     "evalue": "unexpected EOF while parsing (<ipython-input-12-e21be421ce5a>, line 1)",
     "output_type": "error",
     "traceback": [
      "\u001b[1;36m  File \u001b[1;32m\"<ipython-input-12-e21be421ce5a>\"\u001b[1;36m, line \u001b[1;32m1\u001b[0m\n\u001b[1;33m    list(gr[-1]\u001b[0m\n\u001b[1;37m               ^\u001b[0m\n\u001b[1;31mSyntaxError\u001b[0m\u001b[1;31m:\u001b[0m unexpected EOF while parsing\n"
     ]
    }
   ],
   "source": [
    "list(gr[-1]"
   ]
  },
  {
   "cell_type": "code",
   "execution_count": null,
   "metadata": {
    "collapsed": true
   },
   "outputs": [],
   "source": [
    "#Sort shapefile based on income so have the legend in acsending order\n",
    "grid = grid.sort_values(['income'])"
   ]
  },
  {
   "cell_type": "code",
   "execution_count": null,
   "metadata": {
    "collapsed": true
   },
   "outputs": [],
   "source": [
    "#Drop the geometry from shapefile and create ColumnDataSource\n",
    "g_df = grid.drop('geometry', axis=1).copy()\n",
    "gsource = ColumnDataSource(g_df)"
   ]
  },
  {
   "cell_type": "code",
   "execution_count": null,
   "metadata": {
    "collapsed": true
   },
   "outputs": [],
   "source": [
    "p = figure(title=\"Seattle Bus Routes\")\n"
   ]
  },
  {
   "cell_type": "code",
   "execution_count": null,
   "metadata": {},
   "outputs": [],
   "source": [
    "type(gsource)"
   ]
  },
  {
   "cell_type": "code",
   "execution_count": 14,
   "metadata": {},
   "outputs": [
    {
     "name": "stderr",
     "output_type": "stream",
     "text": [
      "C:\\Users\\jabbari\\Anaconda3\\lib\\site-packages\\pysal\\esda\\mapclassify.py:267: RuntimeWarning: invalid value encountered in greater\n",
      "  binIds += (x > l) * (x <= r) * k\n",
      "C:\\Users\\jabbari\\Anaconda3\\lib\\site-packages\\pysal\\esda\\mapclassify.py:267: RuntimeWarning: invalid value encountered in less_equal\n",
      "  binIds += (x > l) * (x <= r) * k\n",
      "C:\\Users\\jabbari\\Anaconda3\\lib\\site-packages\\numpy\\lib\\function_base.py:4011: RuntimeWarning: Invalid value encountered in median\n",
      "  r = func(a, **kwargs)\n",
      "..\n",
      "----------------------------------------------------------------------\n",
      "Ran 2 tests in 0.044s\n",
      "\n",
      "OK\n"
     ]
    }
   ],
   "source": [
    "class EntropyTest(unittest.TestCase):\n",
    "    \n",
    "    def test_plot(self):\n",
    "        p = figure()\n",
    "        self.assertEqual(str(type(p)),\"<class 'bokeh.plotting.figure.Figure'>\")\n",
    "        \n",
    "    def test_income_classifier(self):\n",
    "        gr = income_classifier(grid)\n",
    "        self.assertEqual(list(gr)[-1],'bin')\n",
    "    \n",
    "\n",
    "test(test_class=EntropyTest)"
   ]
  },
  {
   "cell_type": "code",
   "execution_count": null,
   "metadata": {},
   "outputs": [],
   "source": [
    "def js_code (N_plots):\n",
    "    part1 = ''.join(['\\n l'+str(i)+'.visible = '+'false;' for i in N_plots])\n",
    "    part2 = ''.join(['\\n if (cb_obj.active[i] == '+str(i)+')'+'{l'+str(i)+'.visible = '+'true;' +  '} else ' for i in N_plots])\n",
    "    if part2.endswith('else '):\n",
    "        part2 = part2[:-5]\n",
    "    checkbox_code = '//console.log(cb_obj.active); '+ part1 + \"\"\"for (i in cb_obj.active) {//console.log(cb_obj.active[i]);\"\"\" + part2 + \"\"\"}\"\"\" \n",
    "    return (checkbox_code)\n",
    "\n",
    "code = js_code (range(0,3))\n",
    "\n",
    "def extract_geom (x):\n",
    "    L=x.apply(getCoords, geom_col=\"geometry\", coord_type=\"x\", axis=1)\n",
    "    return(L)\n",
    "extract_geom (zips_sea)  \n",
    "    "
   ]
  },
  {
   "cell_type": "code",
   "execution_count": null,
   "metadata": {},
   "outputs": [],
   "source": [
    "type(code)"
   ]
  },
  {
   "cell_type": "code",
   "execution_count": null,
   "metadata": {},
   "outputs": [],
   "source": [
    "test()"
   ]
  },
  {
   "cell_type": "code",
   "execution_count": null,
   "metadata": {
    "collapsed": true
   },
   "outputs": [],
   "source": []
  }
 ],
 "metadata": {
  "kernelspec": {
   "display_name": "Python 3",
   "language": "python",
   "name": "python3"
  },
  "language_info": {
   "codemirror_mode": {
    "name": "ipython",
    "version": 3
   },
   "file_extension": ".py",
   "mimetype": "text/x-python",
   "name": "python",
   "nbconvert_exporter": "python",
   "pygments_lexer": "ipython3",
   "version": "3.6.2"
  }
 },
 "nbformat": 4,
 "nbformat_minor": 2
}
