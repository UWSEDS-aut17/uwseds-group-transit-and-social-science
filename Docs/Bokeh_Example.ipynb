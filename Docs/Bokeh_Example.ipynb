{
 "cells": [
  {
   "cell_type": "code",
   "execution_count": 69,
   "metadata": {
    "collapsed": true
   },
   "outputs": [],
   "source": [
    "from bokeh.plotting import figure, save\n",
    "from bokeh.io import output_file, show\n",
    "from bokeh.models import ColumnDataSource, HoverTool, LogColorMapper, GMapPlot, GMapOptions, ColumnDataSource, Circle, DataRange1d, PanTool, WheelZoomTool, BoxSelectTool\n",
    "import geopandas as gpd\n",
    "import pysal as ps\n",
    "import pandas as pd\n",
    "\n"
   ]
  },
  {
   "cell_type": "code",
   "execution_count": 70,
   "metadata": {},
   "outputs": [],
   "source": [
    "grid_fp = r\"C:/Users/Asus/Desktop/uwsed/uwseds-group-transit-and-social-science/Data/tract2010/tract2010.shp\"\n",
    "network_fp = r\"C:/Users/Asus/Desktop/uwsed/uwseds-group-transit-and-social-science/Data/trans_network_bus.shp\"\n",
    "\n",
    "grid = gpd.read_file(grid_fp)\n",
    "network = gpd.read_file(network_fp)\n",
    "grid = grid.loc[grid['COUNTYFP10'] == '033']\n"
   ]
  },
  {
   "cell_type": "code",
   "execution_count": 39,
   "metadata": {},
   "outputs": [],
   "source": [
    "income_df = pd.read_csv('C:/Users/ASUS/Desktop/uwsed/uwseds-group-transit-and-social-science/Docs/income_tract.csv')\n",
    "   "
   ]
  },
  {
   "cell_type": "code",
   "execution_count": 71,
   "metadata": {},
   "outputs": [],
   "source": [
    "grid['geometry'] = grid['geometry'].to_crs(crs='+init=epsg:4326')\n",
    "network['geometry'] = network['geometry'].to_crs(crs='+init=epsg:4326')\n"
   ]
  },
  {
   "cell_type": "code",
   "execution_count": 72,
   "metadata": {},
   "outputs": [],
   "source": [
    "def getXYCoords(geometry, coord_type):\n",
    "    \"\"\" Returns either x or y coordinates from  geometry coordinate sequence. Used with LineString and Polygon geometries.\"\"\"\n",
    "    if coord_type == 'x':\n",
    "        return geometry.coords.xy[0]\n",
    "    elif coord_type == 'y':\n",
    "        return geometry.coords.xy[1]\n",
    "    \n",
    "def getLineCoords(geometry, coord_type):\n",
    "    \"\"\" Returns Coordinates of Linestring object.\"\"\"\n",
    "    return getXYCoords(geometry, coord_type)\n",
    "\n",
    "def getPolyCoords(geometry, coord_type):\n",
    "    \"\"\" Returns Coordinates of Polygon using the Exterior of the Polygon.\"\"\"\n",
    "    ext = geometry.exterior\n",
    "    return getXYCoords(ext, coord_type)\n",
    "\n",
    "def getCoords(row, geom_col, coord_type):\n",
    "    \"\"\"\n",
    "    Returns coordinates ('x' or 'y') of a geometry (Point, LineString or Polygon) as a list (if geometry is LineString or Polygon). \n",
    "    Can handle also MultiGeometries.\n",
    "    \"\"\"\n",
    "    # Get geometry\n",
    "    geom = row[geom_col]\n",
    "    \n",
    "    # Check the geometry type\n",
    "    gtype = geom.geom_type\n",
    "    \n",
    "    # \"Normal\" geometries\n",
    "    # -------------------\n",
    "    \n",
    "    if gtype == \"Point\":\n",
    "        return getPointCoords(geom, coord_type)\n",
    "    elif gtype == \"LineString\":\n",
    "        return list( getLineCoords(geom, coord_type) )\n",
    "    elif gtype == \"Polygon\":\n",
    "        return list( getPolyCoords(geom, coord_type) )\n",
    "\n",
    "\n",
    "grid['x'] = grid.apply(getCoords, geom_col=\"geometry\", coord_type=\"x\", axis=1)\n",
    "grid['y'] = grid.apply(getCoords, geom_col=\"geometry\", coord_type=\"y\", axis=1)\n",
    "\n",
    "network['x'] = network.apply(getCoords, geom_col=\"geometry\", coord_type=\"x\", axis=1)\n",
    "network['y'] = network.apply(getCoords, geom_col=\"geometry\", coord_type=\"y\", axis=1)\n"
   ]
  },
  {
   "cell_type": "code",
   "execution_count": 108,
   "metadata": {
    "collapsed": true
   },
   "outputs": [],
   "source": [
    "g_df = grid.drop('geometry', axis=1).copy()\n",
    "gsource = ColumnDataSource(g_df)\n",
    "n_df = network.drop('geometry', axis=1).copy()\n",
    "nsource = ColumnDataSource(n_df)"
   ]
  },
  {
   "cell_type": "code",
   "execution_count": 57,
   "metadata": {
    "collapsed": true
   },
   "outputs": [],
   "source": [
    "income_df = pd.read_csv('C:/Users/ASUS/Desktop/uwsed/uwseds-group-transit-and-social-science/Data/income_tract.csv')"
   ]
  },
  {
   "cell_type": "code",
   "execution_count": 60,
   "metadata": {},
   "outputs": [
    {
     "data": {
      "text/plain": [
       "0    1.00\n",
       "1    2.00\n",
       "2    3.00\n",
       "3    4.01\n",
       "4    4.02\n",
       "Name: htract, dtype: float64"
      ]
     },
     "execution_count": 60,
     "metadata": {},
     "output_type": "execute_result"
    }
   ],
   "source": [
    "income_df['htract'].head ()"
   ]
  },
  {
   "cell_type": "code",
   "execution_count": 74,
   "metadata": {},
   "outputs": [],
   "source": [
    "grid['NAME10'] = pd.to_numeric(grid['NAME10'])"
   ]
  },
  {
   "cell_type": "code",
   "execution_count": 75,
   "metadata": {},
   "outputs": [],
   "source": [
    "grid = grid.merge(income_df, left_on='NAME10', right_on='htract', how='inner')"
   ]
  },
  {
   "cell_type": "code",
   "execution_count": 79,
   "metadata": {},
   "outputs": [
    {
     "data": {
      "text/html": [
       "<div>\n",
       "<style>\n",
       "    .dataframe thead tr:only-child th {\n",
       "        text-align: right;\n",
       "    }\n",
       "\n",
       "    .dataframe thead th {\n",
       "        text-align: left;\n",
       "    }\n",
       "\n",
       "    .dataframe tbody tr th {\n",
       "        vertical-align: top;\n",
       "    }\n",
       "</style>\n",
       "<table border=\"1\" class=\"dataframe\">\n",
       "  <thead>\n",
       "    <tr style=\"text-align: right;\">\n",
       "      <th></th>\n",
       "      <th>STATEFP10</th>\n",
       "      <th>COUNTYFP10</th>\n",
       "      <th>TRACTCE10</th>\n",
       "      <th>GEOID10</th>\n",
       "      <th>NAME10</th>\n",
       "      <th>NAMELSAD10</th>\n",
       "      <th>MTFCC10</th>\n",
       "      <th>FUNCSTAT10</th>\n",
       "      <th>ALAND10</th>\n",
       "      <th>AWATER10</th>\n",
       "      <th>INTPTLAT10</th>\n",
       "      <th>INTPTLON10</th>\n",
       "      <th>geometry</th>\n",
       "      <th>x</th>\n",
       "      <th>y</th>\n",
       "      <th>Unnamed: 0</th>\n",
       "      <th>htract</th>\n",
       "      <th>hh_income_detailed</th>\n",
       "      <th>income</th>\n",
       "    </tr>\n",
       "  </thead>\n",
       "  <tbody>\n",
       "    <tr>\n",
       "      <th>0</th>\n",
       "      <td>53</td>\n",
       "      <td>033</td>\n",
       "      <td>022006</td>\n",
       "      <td>53033022006</td>\n",
       "      <td>220.06</td>\n",
       "      <td>Census Tract 220.06</td>\n",
       "      <td>G5020</td>\n",
       "      <td>S</td>\n",
       "      <td>1408907</td>\n",
       "      <td>0</td>\n",
       "      <td>+47.7043393</td>\n",
       "      <td>-122.1992667</td>\n",
       "      <td>POLYGON ((-122.210483 47.70591899998356, -122....</td>\n",
       "      <td>[-122.21048300000004, -122.21052900000001, -12...</td>\n",
       "      <td>[47.70591899998356, 47.707340999983565, 47.707...</td>\n",
       "      <td>160</td>\n",
       "      <td>220.06</td>\n",
       "      <td>6.75</td>\n",
       "      <td>6</td>\n",
       "    </tr>\n",
       "    <tr>\n",
       "      <th>1</th>\n",
       "      <td>53</td>\n",
       "      <td>033</td>\n",
       "      <td>032320</td>\n",
       "      <td>53033032320</td>\n",
       "      <td>323.20</td>\n",
       "      <td>Census Tract 323.20</td>\n",
       "      <td>G5020</td>\n",
       "      <td>S</td>\n",
       "      <td>9554873</td>\n",
       "      <td>38494</td>\n",
       "      <td>+47.7564769</td>\n",
       "      <td>-122.1244452</td>\n",
       "      <td>POLYGON ((-122.131819 47.77569299998373, -122....</td>\n",
       "      <td>[-122.13181900000002, -122.131994, -122.131829...</td>\n",
       "      <td>[47.77569299998373, 47.77579799998373, 47.7757...</td>\n",
       "      <td>374</td>\n",
       "      <td>323.20</td>\n",
       "      <td>6.00</td>\n",
       "      <td>5</td>\n",
       "    </tr>\n",
       "    <tr>\n",
       "      <th>2</th>\n",
       "      <td>53</td>\n",
       "      <td>033</td>\n",
       "      <td>031703</td>\n",
       "      <td>53033031703</td>\n",
       "      <td>317.03</td>\n",
       "      <td>Census Tract 317.03</td>\n",
       "      <td>G5020</td>\n",
       "      <td>S</td>\n",
       "      <td>7139218</td>\n",
       "      <td>643846</td>\n",
       "      <td>+47.3716888</td>\n",
       "      <td>-122.1484314</td>\n",
       "      <td>POLYGON ((-122.165413 47.37570299998269, -122....</td>\n",
       "      <td>[-122.16541300000004, -122.16541200000003, -12...</td>\n",
       "      <td>[47.37570299998269, 47.3763489999827, 47.37699...</td>\n",
       "      <td>335</td>\n",
       "      <td>317.03</td>\n",
       "      <td>7.50</td>\n",
       "      <td>7</td>\n",
       "    </tr>\n",
       "    <tr>\n",
       "      <th>3</th>\n",
       "      <td>53</td>\n",
       "      <td>033</td>\n",
       "      <td>031206</td>\n",
       "      <td>53033031206</td>\n",
       "      <td>312.06</td>\n",
       "      <td>Census Tract 312.06</td>\n",
       "      <td>G5020</td>\n",
       "      <td>S</td>\n",
       "      <td>3668962</td>\n",
       "      <td>60430</td>\n",
       "      <td>+47.3135621</td>\n",
       "      <td>-122.1835380</td>\n",
       "      <td>POLYGON ((-122.170459 47.31165399998253, -122....</td>\n",
       "      <td>[-122.17045900000002, -122.17137600000002, -12...</td>\n",
       "      <td>[47.31165399998253, 47.30995899998253, 47.3095...</td>\n",
       "      <td>326</td>\n",
       "      <td>312.06</td>\n",
       "      <td>2.00</td>\n",
       "      <td>1</td>\n",
       "    </tr>\n",
       "    <tr>\n",
       "      <th>4</th>\n",
       "      <td>53</td>\n",
       "      <td>033</td>\n",
       "      <td>032102</td>\n",
       "      <td>53033032102</td>\n",
       "      <td>321.02</td>\n",
       "      <td>Census Tract 321.02</td>\n",
       "      <td>G5020</td>\n",
       "      <td>S</td>\n",
       "      <td>79040166</td>\n",
       "      <td>84391</td>\n",
       "      <td>+47.4851508</td>\n",
       "      <td>-121.9657840</td>\n",
       "      <td>POLYGON ((-122.033667 47.47679999998297, -122....</td>\n",
       "      <td>[-122.03366700000001, -122.03441200000003, -12...</td>\n",
       "      <td>[47.476799999982966, 47.47755999998296, 47.478...</td>\n",
       "      <td>353</td>\n",
       "      <td>321.02</td>\n",
       "      <td>6.20</td>\n",
       "      <td>6</td>\n",
       "    </tr>\n",
       "  </tbody>\n",
       "</table>\n",
       "</div>"
      ],
      "text/plain": [
       "  STATEFP10 COUNTYFP10 TRACTCE10      GEOID10  NAME10           NAMELSAD10  \\\n",
       "0        53        033    022006  53033022006  220.06  Census Tract 220.06   \n",
       "1        53        033    032320  53033032320  323.20  Census Tract 323.20   \n",
       "2        53        033    031703  53033031703  317.03  Census Tract 317.03   \n",
       "3        53        033    031206  53033031206  312.06  Census Tract 312.06   \n",
       "4        53        033    032102  53033032102  321.02  Census Tract 321.02   \n",
       "\n",
       "  MTFCC10 FUNCSTAT10   ALAND10  AWATER10   INTPTLAT10    INTPTLON10  \\\n",
       "0   G5020          S   1408907         0  +47.7043393  -122.1992667   \n",
       "1   G5020          S   9554873     38494  +47.7564769  -122.1244452   \n",
       "2   G5020          S   7139218    643846  +47.3716888  -122.1484314   \n",
       "3   G5020          S   3668962     60430  +47.3135621  -122.1835380   \n",
       "4   G5020          S  79040166     84391  +47.4851508  -121.9657840   \n",
       "\n",
       "                                            geometry  \\\n",
       "0  POLYGON ((-122.210483 47.70591899998356, -122....   \n",
       "1  POLYGON ((-122.131819 47.77569299998373, -122....   \n",
       "2  POLYGON ((-122.165413 47.37570299998269, -122....   \n",
       "3  POLYGON ((-122.170459 47.31165399998253, -122....   \n",
       "4  POLYGON ((-122.033667 47.47679999998297, -122....   \n",
       "\n",
       "                                                   x  \\\n",
       "0  [-122.21048300000004, -122.21052900000001, -12...   \n",
       "1  [-122.13181900000002, -122.131994, -122.131829...   \n",
       "2  [-122.16541300000004, -122.16541200000003, -12...   \n",
       "3  [-122.17045900000002, -122.17137600000002, -12...   \n",
       "4  [-122.03366700000001, -122.03441200000003, -12...   \n",
       "\n",
       "                                                   y  Unnamed: 0  htract  \\\n",
       "0  [47.70591899998356, 47.707340999983565, 47.707...         160  220.06   \n",
       "1  [47.77569299998373, 47.77579799998373, 47.7757...         374  323.20   \n",
       "2  [47.37570299998269, 47.3763489999827, 47.37699...         335  317.03   \n",
       "3  [47.31165399998253, 47.30995899998253, 47.3095...         326  312.06   \n",
       "4  [47.476799999982966, 47.47755999998296, 47.478...         353  321.02   \n",
       "\n",
       "   hh_income_detailed  income  \n",
       "0                6.75       6  \n",
       "1                6.00       5  \n",
       "2                7.50       7  \n",
       "3                2.00       1  \n",
       "4                6.20       6  "
      ]
     },
     "execution_count": 79,
     "metadata": {},
     "output_type": "execute_result"
    }
   ],
   "source": [
    "grid.head()"
   ]
  },
  {
   "cell_type": "code",
   "execution_count": 107,
   "metadata": {},
   "outputs": [],
   "source": [
    "breaks = [x for x in range(1, 11, 2)]\n",
    "\n",
    "# Initialize the classifier and apply it\n",
    "classifier = ps.User_Defined.make(bins=breaks)\n",
    "pt_classif = grid[['hh_income_detailed']].apply(classifier)\n",
    "\n",
    "# Rename the classified column\n",
    "pt_classif.columns = ['income2']\n",
    "\n",
    "# Join it back to the grid layer\n",
    "grid = grid.join(pt_classif)"
   ]
  },
  {
   "cell_type": "code",
   "execution_count": 116,
   "metadata": {},
   "outputs": [
    {
     "name": "stderr",
     "output_type": "stream",
     "text": [
      "C:\\Users\\ASUS\\Anaconda3\\lib\\site-packages\\bokeh\\io.py:527: UserWarning: save() called but no resources were supplied and output_file(...) was never called, defaulting to resources.CDN\n",
      "  warnings.warn(\"save() called but no resources were supplied and output_file(...) was never called, defaulting to resources.CDN\")\n",
      "C:\\Users\\ASUS\\Anaconda3\\lib\\site-packages\\bokeh\\io.py:537: UserWarning: save() called but no title was supplied and output_file(...) was never called, using default title 'Bokeh Plot'\n",
      "  warnings.warn(\"save() called but no title was supplied and output_file(...) was never called, using default title 'Bokeh Plot'\")\n"
     ]
    },
    {
     "data": {
      "text/plain": [
       "'C:\\\\Users\\\\ASUS\\\\Desktop\\\\uwsed\\\\uwseds-group-transit-and-social-science\\\\Docs\\\\map.html'"
      ]
     },
     "execution_count": 116,
     "metadata": {},
     "output_type": "execute_result"
    }
   ],
   "source": [
    "from bokeh.palettes import RdYlGn10 as palette\n",
    "from bokeh.models import LogColorMapper\n",
    "\n",
    "# Create the color mapper\n",
    "\n",
    "color_mapper = LogColorMapper(palette=palette)\n",
    "\n",
    "p = figure(title=\"PSRC Income\")\n",
    "\n",
    "# Plot grid\n",
    "grid2 = p.patches('x', 'y', source=gsource,\n",
    "         fill_color={'field': 'income2', 'transform': color_mapper},\n",
    "         fill_alpha=1.0, line_color=\"black\", line_width=0.05, legend=\"income2\")\n",
    "\n",
    "p.legend.location = \"top_right\"\n",
    "p.legend.orientation = \"vertical\"\n",
    "\n",
    "#p.multi_line('x', 'y', source=nsource, color=\"red\", line_width=0.5)\n",
    "\n",
    "ghover = HoverTool(renderers=[grid2])\n",
    "ghover.tooltips=[(\"Income Category\", \"@income2\")]\n",
    "              \n",
    "\n",
    "p.add_tools(ghover)\n",
    "\n",
    "outfp = r\"C:/Users/ASUS/Desktop/uwsed/uwseds-group-transit-and-social-science/Docs/map.html\"\n",
    "save(p, outfp)\n",
    "\n"
   ]
  },
  {
   "cell_type": "code",
   "execution_count": null,
   "metadata": {
    "collapsed": true
   },
   "outputs": [],
   "source": []
  }
 ],
 "metadata": {
  "kernelspec": {
   "display_name": "Python 3",
   "language": "python",
   "name": "python3"
  },
  "language_info": {
   "codemirror_mode": {
    "name": "ipython",
    "version": 3
   },
   "file_extension": ".py",
   "mimetype": "text/x-python",
   "name": "python",
   "nbconvert_exporter": "python",
   "pygments_lexer": "ipython3",
   "version": "3.6.2"
  }
 },
 "nbformat": 4,
 "nbformat_minor": 2
}
