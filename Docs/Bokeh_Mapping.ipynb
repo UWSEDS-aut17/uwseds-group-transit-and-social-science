{
 "cells": [
  {
   "cell_type": "code",
   "execution_count": null,
   "metadata": {
    "collapsed": true
   },
   "outputs": [],
   "source": [
    "from bokeh.plotting import figure, save\n",
    "from bokeh.io import output_file, show\n",
    "from bokeh.models import ColumnDataSource, HoverTool, LogColorMapper, GMapPlot, GMapOptions, ColumnDataSource, Circle, DataRange1d, PanTool, WheelZoomTool, BoxSelectTool\n",
    "from bokeh.io import show, output_notebook\n",
    "from bokeh.models import GeoJSONDataSource, LinearColorMapper\n",
    "import geopandas as gpd\n",
    "from bokeh.palettes import Viridis6 as palette\n",
    "import geopandas as gpd\n",
    "import pysal as ps\n",
    "import pandas as pd\n",
    "import numpy as np\n",
    "import math\n",
    "\n"
   ]
  },
  {
   "cell_type": "code",
   "execution_count": null,
   "metadata": {
    "collapsed": true
   },
   "outputs": [],
   "source": [
    "grid_fp = r\"C:/Users/jabbari/Desktop/uwseds-group-transit-and-social-science/zips/tl_2015_us_zcta510.shp\"\n",
    "network_fp = r\"C:/Users/jabbari/Desktop/uwseds-group-transit-and-social-science/Transit Routes/Transit_Routes_for_King_County_Metro__transitroute_line.shp\"\n"
   ]
  },
  {
   "cell_type": "code",
   "execution_count": null,
   "metadata": {},
   "outputs": [],
   "source": [
    "grid = gpd.read_file(grid_fp)\n",
    "network = gpd.read_file(network_fp)\n",
    "grid = grid.loc[grid['ZCTA5CE10'].astype(float) >= 98001]\n",
    "grid = grid.loc[grid['ZCTA5CE10'].astype(float) <= 98198]\n",
    "grid = grid.loc[grid['ZCTA5CE10'].astype(float) != 98110]\n",
    "grid = grid.loc[grid['ZCTA5CE10'].astype(float) != 98068]\n",
    "grid = grid.loc[grid['ZCTA5CE10'].astype(float) != 98045]\n",
    "grid = grid.loc[grid['ZCTA5CE10'].astype(float) != 98022]\n",
    "grid = grid.loc[grid['ZCTA5CE10'].astype(float) != 98051]\n",
    "\n",
    "\n",
    "network = network.loc[network['ROUTE_NUM'].astype(str) != 'None']\n",
    "network = network.loc[network['ROUTE_NUM'].astype(str) != '???']"
   ]
  },
  {
   "cell_type": "code",
   "execution_count": null,
   "metadata": {},
   "outputs": [],
   "source": [
    "def getXYCoords(geometry, coord_type):\n",
    "    \"\"\" Returns either x or y coordinates from  geometry coordinate sequence. Used with LineString and Polygon geometries.\"\"\"\n",
    "    if coord_type == 'x':\n",
    "        return geometry.coords.xy[0]\n",
    "    elif coord_type == 'y':\n",
    "        return geometry.coords.xy[1]\n",
    "    \n",
    "def getLineCoords(geometry, coord_type):\n",
    "    \"\"\" Returns Coordinates of Linestring object.\"\"\"\n",
    "    return getXYCoords(geometry, coord_type)\n",
    "\n",
    "def getPolyCoords(geometry, coord_type):\n",
    "    \"\"\" Returns Coordinates of Polygon using the Exterior of the Polygon.\"\"\"\n",
    "    ext = geometry.exterior\n",
    "    return getXYCoords(ext, coord_type)\n",
    "\n",
    "def getCoords(row, geom_col, coord_type):\n",
    "    \"\"\"\n",
    "    Returns coordinates ('x' or 'y') of a geometry (Point, LineString or Polygon) as a list (if geometry is LineString or Polygon). \n",
    "    Can handle also MultiGeometries.\n",
    "    \"\"\"\n",
    "    # Get geometry\n",
    "    geom = row[geom_col]\n",
    "    \n",
    "    # Check the geometry type\n",
    "    gtype = geom.geom_type\n",
    "    \n",
    "    # \"Normal\" geometries\n",
    "    # -------------------\n",
    "    \n",
    "    if gtype == \"Point\":\n",
    "        return getPointCoords(geom, coord_type)\n",
    "    elif gtype == \"LineString\":\n",
    "        return list( getLineCoords(geom, coord_type) )\n",
    "    elif gtype == \"Polygon\":\n",
    "        return list( getPolyCoords(geom, coord_type) )\n",
    "\n",
    "\n",
    "grid['x'] = grid.apply(getCoords, geom_col=\"geometry\", coord_type=\"x\", axis=1)\n",
    "grid['y'] = grid.apply(getCoords, geom_col=\"geometry\", coord_type=\"y\", axis=1)\n"
   ]
  },
  {
   "cell_type": "code",
   "execution_count": null,
   "metadata": {
    "collapsed": true
   },
   "outputs": [],
   "source": [
    "network_source = GeoJSONDataSource(geojson=network.to_json())\n",
    "g_df = grid.drop('geometry', axis=1).copy()\n",
    "gsource = ColumnDataSource(g_df)"
   ]
  },
  {
   "cell_type": "code",
   "execution_count": null,
   "metadata": {
    "collapsed": true
   },
   "outputs": [],
   "source": [
    "#breaks = [x for x in range(1, 11, 2)]\n",
    "\n",
    "# Initialize the classifier and apply it\n",
    "#classifier = ps.User_Defined.make(bins=breaks)\n",
    "#pt_classif = grid[['hh_income_detailed']].apply(classifier)\n",
    "\n",
    "# Rename the classified column\n",
    "#pt_classif.columns = ['income2']\n",
    "\n",
    "# Join it back to the grid layer\n",
    "#grid = grid.join(pt_classif)"
   ]
  },
  {
   "cell_type": "code",
   "execution_count": null,
   "metadata": {},
   "outputs": [],
   "source": [
    "from bokeh.palettes import RdYlGn10 as palette\n",
    "from bokeh.models import LogColorMapper\n",
    "from bokeh.plotting import figure, curdoc\n",
    "from bokeh.layouts import column\n",
    "from bokeh.models import ColumnDataSource, CustomJS \n",
    "from bokeh.plotting import figure, output_file, show \n",
    "from bokeh.events import Tap \n",
    "\n",
    "# Create the color mapper\n",
    "TOOLS = \"pan,wheel_zoom,reset,hover,poly_select,box_select,tap\"\n",
    "\n",
    "color_mapper = LogColorMapper(palette=palette)\n",
    "\n",
    "p = figure(title=\"PSRC Income\",tools=TOOLS)\n",
    "\n",
    "# Plot grid\n",
    "grid2 = p.patches('x', 'y', source=gsource,\n",
    "         fill_color='white',\n",
    "         fill_alpha=0.10, line_color=\"black\", line_width=1, legend=\"income2\")\n",
    "\n",
    "\n",
    "#p.legend.location = \"top_right\"\n",
    "#p.legend.orientation = \"vertical\"\n",
    "\n",
    "r=p.multi_line('xs', 'ys', source=network_source, color=\"red\", line_width=0.5)\n",
    "\n",
    "ghover = HoverTool(renderers=[r])\n",
    "ghover.tooltips=[(\"Bus Number\", \"@ROUTE_NUM\")]\n",
    "\n",
    "def callback(attr, old, new):\n",
    "\n",
    "    # The index of the selected glyph is : new['1d']['indices'][0]\n",
    "    patch_name =  gsource.data['ZCTA5CE10'][new['1d']['indices'][0]]\n",
    "    print(\"TapTool callback executed on Patch {}\".format(patch_name))\n",
    "\n",
    "grid2.data_source.on_change('selected',callback)\n",
    "\n",
    "curdoc().add_root(column(p))\n",
    "\n",
    "p.add_tools(ghover)\n",
    "\n",
    "#outfp = r\"C:/Users/jabbari/Desktop/uwseds-group-transit-and-social-science/Docs/map.html\"\n",
    "#save(p, outfp)\n",
    "\n",
    "show(p)"
   ]
  }
 ],
 "metadata": {
  "kernelspec": {
   "display_name": "Python 3",
   "language": "python",
   "name": "python3"
  },
  "language_info": {
   "codemirror_mode": {
    "name": "ipython",
    "version": 3
   },
   "file_extension": ".py",
   "mimetype": "text/x-python",
   "name": "python",
   "nbconvert_exporter": "python",
   "pygments_lexer": "ipython3",
   "version": "3.6.2"
  }
 },
 "nbformat": 4,
 "nbformat_minor": 2
}
