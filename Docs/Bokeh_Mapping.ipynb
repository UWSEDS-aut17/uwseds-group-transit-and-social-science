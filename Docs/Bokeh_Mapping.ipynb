{
 "cells": [
  {
   "cell_type": "code",
   "execution_count": 1,
   "metadata": {
    "collapsed": true
   },
   "outputs": [],
   "source": [
    "from bokeh.plotting import figure, save, curdoc, output_file, show\n",
    "from bokeh.io import output_file, show\n",
    "from bokeh.models import ColumnDataSource, CustomJS, HoverTool, LogColorMapper, GMapPlot, GMapOptions, ColumnDataSource, Circle, DataRange1d, PanTool, WheelZoomTool, BoxSelectTool\n",
    "from bokeh.io import show, output_notebook\n",
    "from bokeh.models import GeoJSONDataSource, LinearColorMapper\n",
    "from bokeh.events import Tap \n",
    "from bokeh.layouts import widgetbox, column, row,gridplot\n",
    "from bokeh.models.widgets import Button,CheckboxGroup\n",
    "import geopandas as gpd\n",
    "import pysal as ps\n",
    "import pandas as pd\n",
    "import numpy as np\n",
    "import math\n"
   ]
  },
  {
   "cell_type": "code",
   "execution_count": 2,
   "metadata": {},
   "outputs": [],
   "source": [
    "# shapefile of Seattle zip codes\n",
    "grid_fp = r\"C:/Users/jabbari/Desktop/uwseds-group-transit-and-social-science/Data/zips_sea/shp.shp\" \n",
    "\n",
    "#Shapefile of bus routes of Seattle\n",
    "network_fp = r\"C:/Users/jabbari/Desktop/uwseds-group-transit-and-social-science/Data/bus_seattle/network.shp\"\n",
    "\n",
    "#CSV file of zip codes and number of routes passing through them\n",
    "zips_sea =pd.read_csv('C:/Users/jabbari/Desktop/uwseds-group-transit-and-social-science/Data/zips_seattle.csv')\n",
    "\n",
    "#CSV file of route numbers that passing through each zip code\n",
    "zip_route =pd.read_csv('C:/Users/jabbari/Desktop/uwseds-group-transit-and-social-science/Data/routes_zipcode.csv')"
   ]
  },
  {
   "cell_type": "code",
   "execution_count": null,
   "metadata": {},
   "outputs": [],
   "source": [
    "zip_route\n"
   ]
  },
  {
   "cell_type": "code",
   "execution_count": 3,
   "metadata": {
    "collapsed": true
   },
   "outputs": [],
   "source": [
    "# Reading shapefiles\n",
    "grid = gpd.read_file(grid_fp)\n",
    "network = gpd.read_file(network_fp)"
   ]
  },
  {
   "cell_type": "code",
   "execution_count": null,
   "metadata": {},
   "outputs": [],
   "source": [
    "grid"
   ]
  },
  {
   "cell_type": "code",
   "execution_count": null,
   "metadata": {},
   "outputs": [],
   "source": [
    "# Creating routes list to store bus number for each zip code\n",
    "zip_route = zip_route.dropna(axis= 0, how='any')\n",
    "\n",
    "routes = {}\n",
    "name = ()\n",
    "f = 0\n",
    "for c in range(0,30):\n",
    "    name = zips_sea.zip[c].astype(str)\n",
    "    #print(name)\n",
    "    routes[c] = zip_route['x'][f:(zips_sea['count'][c].astype(int))+f].astype(int).astype(str)\n",
    "    f = f + zips_sea['count'][c].astype(int)            "
   ]
  },
  {
   "cell_type": "code",
   "execution_count": null,
   "metadata": {},
   "outputs": [],
   "source": [
    "routes[23]"
   ]
  },
  {
   "cell_type": "code",
   "execution_count": null,
   "metadata": {
    "collapsed": true
   },
   "outputs": [],
   "source": [
    "# Extract x and y from geometry and have them as separate columns\n",
    "\n",
    "def getXYCoords(geometry, coord_type):\n",
    "    \"\"\" Returns either x or y coordinates from  geometry coordinate sequence. Used with LineString and Polygon geometries.\"\"\"\n",
    "    if coord_type == 'x':\n",
    "        return geometry.coords.xy[0]\n",
    "    elif coord_type == 'y':\n",
    "        return geometry.coords.xy[1]\n",
    "    \n",
    "def getLineCoords(geometry, coord_type):\n",
    "    \"\"\" Returns Coordinates of Linestring object.\"\"\"\n",
    "    return getXYCoords(geometry, coord_type)\n",
    "\n",
    "def getPolyCoords(geometry, coord_type):\n",
    "    \"\"\" Returns Coordinates of Polygon using the Exterior of the Polygon.\"\"\"\n",
    "    ext = geometry.exterior\n",
    "    return getXYCoords(ext, coord_type)\n",
    "\n",
    "def getCoords(row, geom_col, coord_type):\n",
    "    \"\"\"\n",
    "    Returns coordinates ('x' or 'y') of a geometry (Point, LineString or Polygon) as a list (if geometry is LineString or Polygon). \n",
    "    Can handle also MultiGeometries.\n",
    "    \"\"\"\n",
    "    # Get geometry\n",
    "    geom = row[geom_col]\n",
    "    \n",
    "    # Check the geometry type\n",
    "    gtype = geom.geom_type\n",
    "    \n",
    "    # \"Normal\" geometries\n",
    "    # -------------------\n",
    "    \n",
    "    if gtype == \"Point\":\n",
    "        return getPointCoords(geom, coord_type)\n",
    "    elif gtype == \"LineString\":\n",
    "        return list( getLineCoords(geom, coord_type) )\n",
    "    elif gtype == \"Polygon\":\n",
    "        return list( getPolyCoords(geom, coord_type) )\n",
    "\n",
    "\n",
    "grid['x'] = grid.apply(getCoords, geom_col=\"geometry\", coord_type=\"x\", axis=1)\n",
    "grid['y'] = grid.apply(getCoords, geom_col=\"geometry\", coord_type=\"y\", axis=1)\n"
   ]
  },
  {
   "cell_type": "code",
   "execution_count": null,
   "metadata": {},
   "outputs": [],
   "source": [
    "#extracting bus routes for each zip code \n",
    "\n",
    "network0 = network.loc[network.OBJECTID.isin(routes[0]) , :]\n",
    "network0['zip'] = zips_sea.zip[0]\n",
    "ns0 = GeoJSONDataSource(geojson=network0.to_json())\n",
    "\n",
    "network1 = network.loc[network.OBJECTID.isin(routes[1]) , :]\n",
    "network1['zip'] = zips_sea.zip[1]\n",
    "ns1 = GeoJSONDataSource(geojson=network1.to_json())\n",
    "\n",
    "network2 = network.loc[network.OBJECTID.isin(routes[2]) , :]\n",
    "network2['zip'] = zips_sea.zip[2]\n",
    "ns2 = GeoJSONDataSource(geojson=network2.to_json())\n",
    "\n",
    "network3 = network.loc[network.OBJECTID.isin(routes[3]) , :]\n",
    "network3['zip'] = zips_sea.zip[3]\n",
    "ns3 = GeoJSONDataSource(geojson=network3.to_json())\n",
    "\n",
    "network4 = network.loc[network.OBJECTID.isin(routes[4]) , :]\n",
    "network4['zip'] = zips_sea.zip[4]\n",
    "ns4 = GeoJSONDataSource(geojson=network4.to_json())\n",
    "\n",
    "network5 = network.loc[network.OBJECTID.isin(routes[5]) , :]\n",
    "network5['zip'] = zips_sea.zip[5]\n",
    "ns5 = GeoJSONDataSource(geojson=network5.to_json())\n",
    "\n",
    "network6 = network.loc[network.OBJECTID.isin(routes[6]) , :]\n",
    "network6['zip'] = zips_sea.zip[6]\n",
    "ns6 = GeoJSONDataSource(geojson=network6.to_json())\n",
    "\n",
    "network7 = network.loc[network.OBJECTID.isin(routes[7]) , :]\n",
    "network7['zip'] = zips_sea.zip[7]\n",
    "ns7 = GeoJSONDataSource(geojson=network7.to_json())\n",
    "\n",
    "network8 = network.loc[network.OBJECTID.isin(routes[8]) , :]\n",
    "network8['zip'] = zips_sea.zip[8]\n",
    "ns8 = GeoJSONDataSource(geojson=network8.to_json())\n",
    "\n",
    "network9 = network.loc[network.OBJECTID.isin(routes[9]) , :]\n",
    "network9['zip'] = zips_sea.zip[9]\n",
    "ns9 = GeoJSONDataSource(geojson=network9.to_json())\n",
    "\n",
    "network10 = network.loc[network.OBJECTID.isin(routes[10]) , :]\n",
    "network10['zip'] = zips_sea.zip[10]\n",
    "ns10 = GeoJSONDataSource(geojson=network10.to_json())\n",
    "\n",
    "network11 = network.loc[network.OBJECTID.isin(routes[11]) , :]\n",
    "network11['zip'] = zips_sea.zip[11]\n",
    "ns11 = GeoJSONDataSource(geojson=network11.to_json())\n",
    "\n",
    "network12 = network.loc[network.OBJECTID.isin(routes[12]) , :]\n",
    "network12['zip'] = zips_sea.zip[12]\n",
    "ns12 = GeoJSONDataSource(geojson=network12.to_json())\n",
    "\n",
    "network13 = network.loc[network.OBJECTID.isin(routes[13]) , :]\n",
    "network13['zip'] = zips_sea.zip[13]\n",
    "ns13 = GeoJSONDataSource(geojson=network13.to_json())\n",
    "\n",
    "network14 = network.loc[network.OBJECTID.isin(routes[14]) , :]\n",
    "network14['zip'] = zips_sea.zip[14]\n",
    "ns14 = GeoJSONDataSource(geojson=network14.to_json())\n",
    "\n",
    "network15 = network.loc[network.OBJECTID.isin(routes[15]) , :]\n",
    "network15['zip'] = zips_sea.zip[15]\n",
    "ns15 = GeoJSONDataSource(geojson=network15.to_json())\n",
    "\n",
    "network16 = network.loc[network.OBJECTID.isin(routes[16]) , :]\n",
    "network16['zip'] = zips_sea.zip[16]\n",
    "ns16 = GeoJSONDataSource(geojson=network16.to_json())\n",
    "\n",
    "network17 = network.loc[network.OBJECTID.isin(routes[17]) , :]\n",
    "network17['zip'] = zips_sea.zip[17]\n",
    "ns17 = GeoJSONDataSource(geojson=network17.to_json())\n",
    "\n",
    "network18 = network.loc[network.OBJECTID.isin(routes[18]) , :]\n",
    "network18['zip'] = zips_sea.zip[18]\n",
    "ns18 = GeoJSONDataSource(geojson=network18.to_json())\n",
    "\n",
    "network19 = network.loc[network.OBJECTID.isin(routes[19]) , :]\n",
    "network19['zip'] = zips_sea.zip[19]\n",
    "ns19 = GeoJSONDataSource(geojson=network19.to_json())\n",
    "\n",
    "network20 = network.loc[network.OBJECTID.isin(routes[20]) , :]\n",
    "network20['zip'] = zips_sea.zip[20]\n",
    "ns20 = GeoJSONDataSource(geojson=network20.to_json())\n",
    "\n",
    "network21 = network.loc[network.OBJECTID.isin(routes[21]) , :]\n",
    "network21['zip'] = zips_sea.zip[21]\n",
    "ns21 = GeoJSONDataSource(geojson=network21.to_json())\n",
    "\n",
    "network22 = network.loc[network.OBJECTID.isin(routes[22]) , :]\n",
    "network22['zip'] = zips_sea.zip[22]\n",
    "ns22 = GeoJSONDataSource(geojson=network20.to_json())\n",
    "\n",
    "network23 = network.loc[network.OBJECTID.isin(routes[23]) , :]\n",
    "network23['zip'] = zips_sea.zip[23]\n",
    "ns23 = GeoJSONDataSource(geojson=network23.to_json())\n",
    "\n",
    "network24 = network.loc[network.OBJECTID.isin(routes[24]) , :]\n",
    "network24['zip'] = zips_sea.zip[24]\n",
    "ns24 = GeoJSONDataSource(geojson=network24.to_json())\n",
    "\n",
    "network25 = network.loc[network.OBJECTID.isin(routes[25]) , :]\n",
    "network25['zip'] = zips_sea.zip[25]\n",
    "ns25 = GeoJSONDataSource(geojson=network25.to_json())\n",
    "\n",
    "network26 = network.loc[network.OBJECTID.isin(routes[26]) , :]\n",
    "network26['zip'] = zips_sea.zip[26]\n",
    "ns26 = GeoJSONDataSource(geojson=network26.to_json())\n",
    "\n",
    "network27 = network.loc[network.OBJECTID.isin(routes[27]) , :]\n",
    "network27['zip'] = zips_sea.zip[27]\n",
    "ns27 = GeoJSONDataSource(geojson=network27.to_json())\n",
    "\n",
    "network28 = network.loc[network.OBJECTID.isin(routes[28]) , :]\n",
    "network28['zip'] = zips_sea.zip[28]\n",
    "ns28 = GeoJSONDataSource(geojson=network28.to_json())\n",
    "\n",
    "network29 = network.loc[network.OBJECTID.isin(routes[29]) , :]\n",
    "network29['zip'] = zips_sea.zip[29]\n",
    "ns29 = GeoJSONDataSource(geojson=network29.to_json())\n",
    "\n"
   ]
  },
  {
   "cell_type": "code",
   "execution_count": null,
   "metadata": {},
   "outputs": [],
   "source": [
    "network10\n",
    "\n"
   ]
  },
  {
   "cell_type": "code",
   "execution_count": 4,
   "metadata": {},
   "outputs": [
    {
     "name": "stderr",
     "output_type": "stream",
     "text": [
      "C:\\Users\\jabbari\\Anaconda3\\lib\\site-packages\\pysal\\esda\\mapclassify.py:267: RuntimeWarning: invalid value encountered in greater\n",
      "  binIds += (x > l) * (x <= r) * k\n",
      "C:\\Users\\jabbari\\Anaconda3\\lib\\site-packages\\pysal\\esda\\mapclassify.py:267: RuntimeWarning: invalid value encountered in less_equal\n",
      "  binIds += (x > l) * (x <= r) * k\n",
      "C:\\Users\\jabbari\\Anaconda3\\lib\\site-packages\\numpy\\lib\\function_base.py:4011: RuntimeWarning: Invalid value encountered in median\n",
      "  r = func(a, **kwargs)\n"
     ]
    }
   ],
   "source": [
    "def income_classifier(grid):\n",
    "    #Defining thresholds for income\n",
    "    breaks = [x for x in range(55000, 110000, 5000)]\n",
    "\n",
    "    #Initialize the classifier and apply it\n",
    "    classifier = ps.User_Defined.make(bins=breaks)\n",
    "    pt_classif = grid[['income']].apply(classifier)\n",
    "    # Rename the classified column\n",
    "    pt_classif.columns = ['incomeb']\n",
    "\n",
    "    # Join it back to the grid layer\n",
    "    grid = grid.join(pt_classif)\n",
    "    # Adding new column with bin names to be used in legend\n",
    "    grid['bin']= pd.np.where(grid.incomeb.astype(str) == '1', \"[55000-60000]\",pd.np.where(grid.incomeb.astype(str) == '2', \"[60000-65000]\",\n",
    "                                                                                      pd.np.where(grid.incomeb.astype(str) == '3', \"[65000-70000]\",\n",
    "                                                                                                 pd.np.where(grid.incomeb.astype(str) == '4', \"[70000-75000]\",\n",
    "                                                                                                            pd.np.where(grid.incomeb.astype(str) == '5', \"[75000-80000]\",\n",
    "                                                                                                                       pd.np.where(grid.incomeb.astype(str) == '6', \"[80000-85000]\",\n",
    "                                                                                                                                  pd.np.where(grid.incomeb.astype(str) == '7', \"[85000-90000]\",\n",
    "                                                                                                                                             pd.np.where(grid.incomeb.astype(str) == '8', \"[90000-95000]\",\n",
    "                                                                                                                                             pd.np.where(grid.incomeb.astype(str) == '9', \"[95000-100000]\",\n",
    "                                                                                                                                             pd.np.where(grid.incomeb.astype(str) == '10', \"[100000-105000]\",\n",
    "                                                                                                                                             pd.np.where(grid.incomeb.astype(str) == '11', \"[105000-110000]\",'NA')\n",
    "                        ))))))))))\n",
    "    return(grid)\n",
    "    \n",
    "grid = income_classifier(grid)"
   ]
  },
  {
   "cell_type": "code",
   "execution_count": 5,
   "metadata": {},
   "outputs": [
    {
     "data": {
      "text/plain": [
       "'bin'"
      ]
     },
     "execution_count": 5,
     "metadata": {},
     "output_type": "execute_result"
    }
   ],
   "source": [
    "list(grid)[-1]"
   ]
  },
  {
   "cell_type": "code",
   "execution_count": null,
   "metadata": {
    "collapsed": true
   },
   "outputs": [],
   "source": [
    "# Adding new column with bin names to be used in legend\n",
    "grid['bin']= pd.np.where(grid.incomeb.astype(str) == '1', \"[55000-60000]\",pd.np.where(grid.incomeb.astype(str) == '2', \"[60000-65000]\",\n",
    "                                                                                      pd.np.where(grid.incomeb.astype(str) == '3', \"[65000-70000]\",\n",
    "                                                                                                 pd.np.where(grid.incomeb.astype(str) == '4', \"[70000-75000]\",\n",
    "                                                                                                            pd.np.where(grid.incomeb.astype(str) == '5', \"[75000-80000]\",\n",
    "                                                                                                                       pd.np.where(grid.incomeb.astype(str) == '6', \"[80000-85000]\",\n",
    "                                                                                                                                  pd.np.where(grid.incomeb.astype(str) == '7', \"[85000-90000]\",\n",
    "                                                                                                                                             pd.np.where(grid.incomeb.astype(str) == '8', \"[90000-95000]\",\n",
    "                                                                                                                                             pd.np.where(grid.incomeb.astype(str) == '9', \"[95000-100000]\",\n",
    "                                                                                                                                             pd.np.where(grid.incomeb.astype(str) == '10', \"[100000-105000]\",\n",
    "                                                                                                                                             pd.np.where(grid.incomeb.astype(str) == '11', \"[105000-110000]\",'NA')\n",
    "                        ))))))))))"
   ]
  },
  {
   "cell_type": "code",
   "execution_count": null,
   "metadata": {
    "collapsed": true
   },
   "outputs": [],
   "source": [
    "#Sort shapefile based on income so have the legend in acsending order\n",
    "grid = grid.sort_values(['income'])"
   ]
  },
  {
   "cell_type": "code",
   "execution_count": null,
   "metadata": {
    "collapsed": true
   },
   "outputs": [],
   "source": [
    "#Drop the geometry from shapefile and create ColumnDataSource\n",
    "\n",
    "g_df = grid.drop('geometry', axis=1).copy()\n",
    "gsource = ColumnDataSource(g_df)"
   ]
  },
  {
   "cell_type": "code",
   "execution_count": null,
   "metadata": {
    "collapsed": true
   },
   "outputs": [],
   "source": [
    "N_plots = range(len(zips_sea))\n",
    "def js_code (N_plots):\n",
    "    part1 = ''.join(['\\n l'+str(i)+'.visible = '+'false;' for i in N_plots])\n",
    "    part2 = ''.join(['\\n if (cb_obj.active[i] == '+str(i)+')'+'{l'+str(i)+'.visible = '+'true;' +  '} else ' for i in N_plots])\n",
    "    if part2.endswith('else '):\n",
    "        part2 = part2[:-5]\n",
    "    checkbox_code = '//console.log(cb_obj.active); '+ part1 + \"\"\"for (i in cb_obj.active) {//console.log(cb_obj.active[i]);\"\"\" + part2 + \"\"\"}\"\"\" \n",
    "    return (checkbox_code)\n",
    "\n",
    "checkbox_code = js_code (N_plots)"
   ]
  },
  {
   "cell_type": "code",
   "execution_count": null,
   "metadata": {},
   "outputs": [],
   "source": [
    "len(checkbox_code)"
   ]
  },
  {
   "cell_type": "code",
   "execution_count": null,
   "metadata": {
    "collapsed": true,
    "scrolled": true
   },
   "outputs": [],
   "source": [
    "#Importing desire palettes \n",
    "from bokeh.palettes import Viridis11 as palette\n",
    "from bokeh.palettes import Magma4 as palette1\n",
    "\n",
    "#Desired tools for Bokeh map\n",
    "TOOLS = \"pan,wheel_zoom,reset,poly_select,box_select,tap,box_zoom\"\n",
    "\n",
    "#Generating colors for identifying income on map\n",
    "color_mapper = LogColorMapper(palette=palette)\n",
    "\n",
    "#Defining the figure\n",
    "p = figure(title=\"Seattle Bus Routes\",tools=TOOLS,x_range=(-122.5, -122.1),y_range=(47.46, 47.8))\n",
    "\n",
    "# Plot grid with income as base colors\n",
    "grid2 = p.patches('x', 'y', source=gsource,\n",
    "        fill_color={'field': 'incomeb', 'transform' : color_mapper},\n",
    "         fill_alpha=1, line_color=\"black\", line_width=.4,legend = 'bin')\n",
    "\n",
    "#Color and line width for routes\n",
    "col = palette1[2]\n",
    "wd = 0.5\n",
    "\n",
    "#ploting routes\n",
    "r0=p.multi_line('xs', 'ys', source=ns0, color= col, line_width= wd)\n",
    "r1=p.multi_line('xs', 'ys', source=ns1, color= col, line_width= wd)\n",
    "r2=p.multi_line('xs', 'ys', source=ns2, color= col, line_width= wd)\n",
    "r3=p.multi_line('xs', 'ys', source=ns3, color= col, line_width= wd)\n",
    "r4=p.multi_line('xs', 'ys', source=ns4, color= col, line_width= wd)\n",
    "r5=p.multi_line('xs', 'ys', source=ns5, color= col, line_width= wd)\n",
    "r6=p.multi_line('xs', 'ys', source=ns6, color= col, line_width= wd)\n",
    "r7=p.multi_line('xs', 'ys', source=ns7, color= col, line_width= wd)\n",
    "r8=p.multi_line('xs', 'ys', source=ns8, color= col, line_width= wd)\n",
    "r9=p.multi_line('xs', 'ys', source=ns9, color= col, line_width= wd)\n",
    "r10=p.multi_line('xs', 'ys', source=ns10, color= col, line_width= wd)\n",
    "r11=p.multi_line('xs', 'ys', source=ns11, color= col, line_width= wd)\n",
    "r12=p.multi_line('xs', 'ys', source=ns12, color= col, line_width= wd)\n",
    "r13=p.multi_line('xs', 'ys', source=ns13, color= col, line_width= wd)\n",
    "r14=p.multi_line('xs', 'ys', source=ns14, color= col, line_width= wd)\n",
    "r15=p.multi_line('xs', 'ys', source=ns15, color= col, line_width= wd)\n",
    "r16=p.multi_line('xs', 'ys', source=ns16, color= col, line_width= wd)\n",
    "r17=p.multi_line('xs', 'ys', source=ns17, color= col, line_width= wd)\n",
    "r18=p.multi_line('xs', 'ys', source=ns18, color= col, line_width= wd)\n",
    "r19=p.multi_line('xs', 'ys', source=ns19, color= col, line_width= wd)\n",
    "r20=p.multi_line('xs', 'ys', source=ns20, color= col, line_width= wd)\n",
    "r21=p.multi_line('xs', 'ys', source=ns21, color= col, line_width= wd)\n",
    "r22=p.multi_line('xs', 'ys', source=ns22, color= col, line_width= wd)\n",
    "r23=p.multi_line('xs', 'ys', source=ns23, color= col, line_width= wd)\n",
    "r24=p.multi_line('xs', 'ys', source=ns24, color= col, line_width= wd)\n",
    "r25=p.multi_line('xs', 'ys', source=ns25, color= col, line_width= wd)\n",
    "r26=p.multi_line('xs', 'ys', source=ns26, color= col, line_width= wd)\n",
    "r27=p.multi_line('xs', 'ys', source=ns27, color= col, line_width= wd)\n",
    "r28=p.multi_line('xs', 'ys', source=ns28, color= col, line_width= wd)\n",
    "r29=p.multi_line('xs', 'ys', source=ns29, color= col, line_width= wd)\n",
    "\n",
    "#Defining hover tool\n",
    "ghover = HoverTool(renderers=[grid2])\n",
    "ghover.tooltips=[(\"zip code\", \"@GEOID10\")]\n",
    "p.add_tools(ghover)\n",
    "\n",
    "#Defining checkbox\n",
    "checkbox = CheckboxGroup(labels=list(zips_sea['zip'][0:30].astype(str)), active= [])\n",
    "checkbox.callback = CustomJS(args=dict(l0=r0, l1=r1, l2=r2, l3=r3,l4=r4, l5=r5, l6=r6, l7=r7, l8=r8,l9=r9,l10=r10,l11=r11,\n",
    "                               l12=r12,l13=r13,l14=r14,l15=r15,l16=r16,l17=r17,l18=r18,l19=r19,l20=r20,l21=r21,\n",
    "                                      l22=r22,l23=r23,l24=r24,l25=r25,l26=r26,l27=r27,l28=r28,l29=r29,l30=r30), \n",
    "                             code=code )\n",
    "\n",
    "group = widgetbox(checkbox)\n",
    "\n",
    "layout = gridplot([[p,group]])\n",
    "\n",
    "outfp = r\"C:/Users/jabbari/Desktop/uwseds-group-transit-and-social-science/examples/map.html\"\n",
    "output_file(outfp , title='Bokeh Plot', mode='cdn', root_dir=None)\n",
    "show(layout)\n"
   ]
  },
  {
   "cell_type": "code",
   "execution_count": null,
   "metadata": {},
   "outputs": [],
   "source": [
    "str(type(p))\n"
   ]
  },
  {
   "cell_type": "code",
   "execution_count": null,
   "metadata": {
    "collapsed": true
   },
   "outputs": [],
   "source": []
  }
 ],
 "metadata": {
  "kernelspec": {
   "display_name": "Python 3",
   "language": "python",
   "name": "python3"
  },
  "language_info": {
   "codemirror_mode": {
    "name": "ipython",
    "version": 3
   },
   "file_extension": ".py",
   "mimetype": "text/x-python",
   "name": "python",
   "nbconvert_exporter": "python",
   "pygments_lexer": "ipython3",
   "version": "3.6.2"
  }
 },
 "nbformat": 4,
 "nbformat_minor": 2
}
