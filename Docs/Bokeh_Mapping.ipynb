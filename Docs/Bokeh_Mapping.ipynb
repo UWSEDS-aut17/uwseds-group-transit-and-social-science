{
 "cells": [
  {
   "cell_type": "code",
   "execution_count": 12,
   "metadata": {
    "collapsed": true
   },
   "outputs": [],
   "source": [
    "from bokeh.plotting import figure, save\n",
    "from bokeh.io import output_file, show\n",
    "from bokeh.models import ColumnDataSource, HoverTool, LogColorMapper, GMapPlot, GMapOptions, ColumnDataSource, Circle, DataRange1d, PanTool, WheelZoomTool, BoxSelectTool\n",
    "from bokeh.io import show, output_notebook\n",
    "from bokeh.models import GeoJSONDataSource, LinearColorMapper\n",
    "import geopandas as gpd\n",
    "from bokeh.palettes import Viridis6 as palette\n",
    "import geopandas as gpd\n",
    "import pysal as ps\n",
    "import pandas as pd\n",
    "import numpy as np\n",
    "import math\n",
    "\n"
   ]
  },
  {
   "cell_type": "code",
   "execution_count": 18,
   "metadata": {
    "collapsed": true
   },
   "outputs": [],
   "source": [
    "grid_fp = r\"C:/Users/jabbari/Desktop/uwseds-group-transit-and-social-science/zips/tl_2015_us_zcta510.shp\"\n",
    "network_fp = r\"C:/Users/jabbari/Desktop/uwseds-group-transit-and-social-science/Transit Routes/Transit_Routes_for_King_County_Metro__transitroute_line.shp\"\n",
    "stops =pd.read_csv('C:/Users/jabbari/Desktop/uwseds-group-transit-and-social-science/Data/stops-zip.csv')"
   ]
  },
  {
   "cell_type": "code",
   "execution_count": 19,
   "metadata": {},
   "outputs": [
    {
     "data": {
      "text/html": [
       "<div>\n",
       "<style>\n",
       "    .dataframe thead tr:only-child th {\n",
       "        text-align: right;\n",
       "    }\n",
       "\n",
       "    .dataframe thead th {\n",
       "        text-align: left;\n",
       "    }\n",
       "\n",
       "    .dataframe tbody tr th {\n",
       "        vertical-align: top;\n",
       "    }\n",
       "</style>\n",
       "<table border=\"1\" class=\"dataframe\">\n",
       "  <thead>\n",
       "    <tr style=\"text-align: right;\">\n",
       "      <th></th>\n",
       "      <th>Unnamed: 0</th>\n",
       "      <th>X</th>\n",
       "      <th>stop_id</th>\n",
       "      <th>stop_name</th>\n",
       "      <th>stop_lat</th>\n",
       "      <th>stop_lon</th>\n",
       "      <th>zone_id</th>\n",
       "      <th>stop_timezone</th>\n",
       "      <th>census_tract_id</th>\n",
       "      <th>zip</th>\n",
       "    </tr>\n",
       "  </thead>\n",
       "  <tbody>\n",
       "    <tr>\n",
       "      <th>0</th>\n",
       "      <td>1</td>\n",
       "      <td>1</td>\n",
       "      <td>1000</td>\n",
       "      <td>Pine St &amp; 9th Ave</td>\n",
       "      <td>47.613415</td>\n",
       "      <td>-122.332138</td>\n",
       "      <td>21</td>\n",
       "      <td>America/Los_Angeles</td>\n",
       "      <td>82.0</td>\n",
       "      <td>98101.0</td>\n",
       "    </tr>\n",
       "    <tr>\n",
       "      <th>1</th>\n",
       "      <td>2</td>\n",
       "      <td>2</td>\n",
       "      <td>10000</td>\n",
       "      <td>NE 55th St &amp; 43rd Ave NE</td>\n",
       "      <td>47.668575</td>\n",
       "      <td>-122.283653</td>\n",
       "      <td>1</td>\n",
       "      <td>America/Los_Angeles</td>\n",
       "      <td>42.0</td>\n",
       "      <td>98105.0</td>\n",
       "    </tr>\n",
       "    <tr>\n",
       "      <th>2</th>\n",
       "      <td>3</td>\n",
       "      <td>3</td>\n",
       "      <td>10005</td>\n",
       "      <td>40th Ave NE &amp; NE 51st St</td>\n",
       "      <td>47.665886</td>\n",
       "      <td>-122.284897</td>\n",
       "      <td>1</td>\n",
       "      <td>America/Los_Angeles</td>\n",
       "      <td>42.0</td>\n",
       "      <td>98105.0</td>\n",
       "    </tr>\n",
       "    <tr>\n",
       "      <th>3</th>\n",
       "      <td>4</td>\n",
       "      <td>4</td>\n",
       "      <td>10010</td>\n",
       "      <td>NE 55th St &amp; 39th Ave NE</td>\n",
       "      <td>47.668579</td>\n",
       "      <td>-122.285667</td>\n",
       "      <td>1</td>\n",
       "      <td>America/Los_Angeles</td>\n",
       "      <td>42.0</td>\n",
       "      <td>98105.0</td>\n",
       "    </tr>\n",
       "    <tr>\n",
       "      <th>4</th>\n",
       "      <td>5</td>\n",
       "      <td>5</td>\n",
       "      <td>10020</td>\n",
       "      <td>NE 55th St &amp; 37th Ave NE</td>\n",
       "      <td>47.668579</td>\n",
       "      <td>-122.288300</td>\n",
       "      <td>1</td>\n",
       "      <td>America/Los_Angeles</td>\n",
       "      <td>42.0</td>\n",
       "      <td>98105.0</td>\n",
       "    </tr>\n",
       "  </tbody>\n",
       "</table>\n",
       "</div>"
      ],
      "text/plain": [
       "   Unnamed: 0  X  stop_id                 stop_name   stop_lat    stop_lon  \\\n",
       "0           1  1     1000         Pine St & 9th Ave  47.613415 -122.332138   \n",
       "1           2  2    10000  NE 55th St & 43rd Ave NE  47.668575 -122.283653   \n",
       "2           3  3    10005  40th Ave NE & NE 51st St  47.665886 -122.284897   \n",
       "3           4  4    10010  NE 55th St & 39th Ave NE  47.668579 -122.285667   \n",
       "4           5  5    10020  NE 55th St & 37th Ave NE  47.668579 -122.288300   \n",
       "\n",
       "   zone_id        stop_timezone  census_tract_id      zip  \n",
       "0       21  America/Los_Angeles             82.0  98101.0  \n",
       "1        1  America/Los_Angeles             42.0  98105.0  \n",
       "2        1  America/Los_Angeles             42.0  98105.0  \n",
       "3        1  America/Los_Angeles             42.0  98105.0  \n",
       "4        1  America/Los_Angeles             42.0  98105.0  "
      ]
     },
     "execution_count": 19,
     "metadata": {},
     "output_type": "execute_result"
    }
   ],
   "source": [
    "stops.head()"
   ]
  },
  {
   "cell_type": "code",
   "execution_count": 14,
   "metadata": {
    "collapsed": true
   },
   "outputs": [],
   "source": [
    "grid = gpd.read_file(grid_fp)\n",
    "network = gpd.read_file(network_fp)\n",
    "grid = grid.loc[grid['ZCTA5CE10'].astype(float) >= 98001]\n",
    "grid = grid.loc[grid['ZCTA5CE10'].astype(float) <= 98198]\n",
    "grid = grid.loc[grid['ZCTA5CE10'].astype(float) != 98110]\n",
    "grid = grid.loc[grid['ZCTA5CE10'].astype(float) != 98068]\n",
    "grid = grid.loc[grid['ZCTA5CE10'].astype(float) != 98045]\n",
    "grid = grid.loc[grid['ZCTA5CE10'].astype(float) != 98022]\n",
    "grid = grid.loc[grid['ZCTA5CE10'].astype(float) != 98051]\n",
    "\n",
    "\n",
    "network = network.loc[network['ROUTE_NUM'].astype(str) != 'None']\n",
    "network = network.loc[network['ROUTE_NUM'].astype(str) != '???']"
   ]
  },
  {
   "cell_type": "code",
   "execution_count": 15,
   "metadata": {
    "collapsed": true
   },
   "outputs": [],
   "source": [
    "def getXYCoords(geometry, coord_type):\n",
    "    \"\"\" Returns either x or y coordinates from  geometry coordinate sequence. Used with LineString and Polygon geometries.\"\"\"\n",
    "    if coord_type == 'x':\n",
    "        return geometry.coords.xy[0]\n",
    "    elif coord_type == 'y':\n",
    "        return geometry.coords.xy[1]\n",
    "    \n",
    "def getLineCoords(geometry, coord_type):\n",
    "    \"\"\" Returns Coordinates of Linestring object.\"\"\"\n",
    "    return getXYCoords(geometry, coord_type)\n",
    "\n",
    "def getPolyCoords(geometry, coord_type):\n",
    "    \"\"\" Returns Coordinates of Polygon using the Exterior of the Polygon.\"\"\"\n",
    "    ext = geometry.exterior\n",
    "    return getXYCoords(ext, coord_type)\n",
    "\n",
    "def getCoords(row, geom_col, coord_type):\n",
    "    \"\"\"\n",
    "    Returns coordinates ('x' or 'y') of a geometry (Point, LineString or Polygon) as a list (if geometry is LineString or Polygon). \n",
    "    Can handle also MultiGeometries.\n",
    "    \"\"\"\n",
    "    # Get geometry\n",
    "    geom = row[geom_col]\n",
    "    \n",
    "    # Check the geometry type\n",
    "    gtype = geom.geom_type\n",
    "    \n",
    "    # \"Normal\" geometries\n",
    "    # -------------------\n",
    "    \n",
    "    if gtype == \"Point\":\n",
    "        return getPointCoords(geom, coord_type)\n",
    "    elif gtype == \"LineString\":\n",
    "        return list( getLineCoords(geom, coord_type) )\n",
    "    elif gtype == \"Polygon\":\n",
    "        return list( getPolyCoords(geom, coord_type) )\n",
    "\n",
    "\n",
    "grid['x'] = grid.apply(getCoords, geom_col=\"geometry\", coord_type=\"x\", axis=1)\n",
    "grid['y'] = grid.apply(getCoords, geom_col=\"geometry\", coord_type=\"y\", axis=1)\n"
   ]
  },
  {
   "cell_type": "code",
   "execution_count": 16,
   "metadata": {
    "collapsed": true
   },
   "outputs": [],
   "source": [
    "network_source = GeoJSONDataSource(geojson=network.to_json())\n",
    "g_df = grid.drop('geometry', axis=1).copy()\n",
    "gsource = ColumnDataSource(g_df)"
   ]
  },
  {
   "cell_type": "code",
   "execution_count": null,
   "metadata": {
    "collapsed": true
   },
   "outputs": [],
   "source": [
    "#breaks = [x for x in range(1, 11, 2)]\n",
    "\n",
    "# Initialize the classifier and apply it\n",
    "#classifier = ps.User_Defined.make(bins=breaks)\n",
    "#pt_classif = grid[['hh_income_detailed']].apply(classifier)\n",
    "\n",
    "# Rename the classified column\n",
    "#pt_classif.columns = ['income2']\n",
    "\n",
    "# Join it back to the grid layer\n",
    "#grid = grid.join(pt_classif)"
   ]
  },
  {
   "cell_type": "code",
   "execution_count": 22,
   "metadata": {},
   "outputs": [
    {
     "name": "stderr",
     "output_type": "stream",
     "text": [
      "E-1001 (BAD_COLUMN_NAME): Glyph refers to nonexistent column name:  [renderer: GlyphRenderer(id='f69f3f53-a5ad-4bbd-9f47-28f628ead95c', ...)]\n",
      "W-1004 (BOTH_CHILD_AND_ROOT): Models should not be a document root if they are in a layout box: Figure(id='23a04cf7-3374-41f5-9d2c-cf7ef5300ba4', ...)\n",
      "E-1001 (BAD_COLUMN_NAME): Glyph refers to nonexistent column name:  [renderer: GlyphRenderer(id='f69f3f53-a5ad-4bbd-9f47-28f628ead95c', ...)]\n",
      "E-1001 (BAD_COLUMN_NAME): Glyph refers to nonexistent column name:  [renderer: GlyphRenderer(id='80268d84-9b70-4988-ae6e-100c1504ae33', ...)]\n",
      "W-1004 (BOTH_CHILD_AND_ROOT): Models should not be a document root if they are in a layout box: Figure(id='817e5a72-a546-4242-85ec-22e54dee473e', ...)\n",
      "E-1001 (BAD_COLUMN_NAME): Glyph refers to nonexistent column name:  [renderer: GlyphRenderer(id='80268d84-9b70-4988-ae6e-100c1504ae33', ...)]\n",
      "E-1001 (BAD_COLUMN_NAME): Glyph refers to nonexistent column name:  [renderer: GlyphRenderer(id='21baa38c-bd82-4cf4-af67-c9d6fa1e9792', ...)]\n",
      "W-1004 (BOTH_CHILD_AND_ROOT): Models should not be a document root if they are in a layout box: Figure(id='2eacfc11-d52b-4439-9cb8-d44c14bde9b2', ...)\n",
      "E-1001 (BAD_COLUMN_NAME): Glyph refers to nonexistent column name:  [renderer: GlyphRenderer(id='21baa38c-bd82-4cf4-af67-c9d6fa1e9792', ...)]\n",
      "W-1004 (BOTH_CHILD_AND_ROOT): Models should not be a document root if they are in a layout box: Figure(id='ff109f6a-1406-4438-9a3f-3eb92e74e7e2', ...)\n",
      "W-1004 (BOTH_CHILD_AND_ROOT): Models should not be a document root if they are in a layout box: Figure(id='43bbf0e7-d9be-4309-800a-94bbe443aeb9', ...)\n",
      "W-1004 (BOTH_CHILD_AND_ROOT): Models should not be a document root if they are in a layout box: Figure(id='cb28f596-364e-4a12-aa35-a3877ae72245', ...)\n"
     ]
    }
   ],
   "source": [
    "from bokeh.palettes import RdYlGn10 as palette\n",
    "from bokeh.models import LogColorMapper\n",
    "from bokeh.plotting import figure, curdoc\n",
    "from bokeh.layouts import column\n",
    "from bokeh.models import ColumnDataSource, CustomJS \n",
    "from bokeh.plotting import figure, output_file, show \n",
    "from bokeh.events import Tap \n",
    "\n",
    "# Create the color mapper\n",
    "TOOLS = \"pan,wheel_zoom,reset,hover,poly_select,box_select,tap\"\n",
    "\n",
    "color_mapper = LogColorMapper(palette=palette)\n",
    "\n",
    "p = figure(title=\"PSRC Income\",tools=TOOLS)\n",
    "\n",
    "# Plot grid\n",
    "grid2 = p.patches('x', 'y', source=gsource,\n",
    "         fill_color='white',\n",
    "         fill_alpha=0.10, line_color=\"black\", line_width=1, legend=\"income2\")\n",
    "\n",
    "\n",
    "#p.legend.location = \"top_right\"\n",
    "#p.legend.orientation = \"vertical\"\n",
    "\n",
    "r=p.multi_line('xs', 'ys', source=network_source, color=\"red\", line_width=0.5)\n",
    "\n",
    "ghover = HoverTool(renderers=[r])\n",
    "ghover.tooltips=[(\"Bus Number\", \"@ROUTE_NUM\")]\n",
    "\n",
    "p.circle(x='stop_lon', y='stop_lat', size=1, color=\"green\",source=stops)\n",
    "\n",
    "def callback(attr, old, new):\n",
    "\n",
    "    # The index of the selected glyph is : new['1d']['indices'][0]\n",
    "    patch_name =  gsource.data['ZCTA5CE10'][new['1d']['indices'][0]]\n",
    "    print(\"TapTool callback executed on Patch {}\".format(patch_name))\n",
    "\n",
    "grid2.data_source.on_change('selected',callback)\n",
    "\n",
    "curdoc().add_root(column(p))\n",
    "\n",
    "p.add_tools(ghover)\n",
    "\n",
    "#outfp = r\"C:/Users/jabbari/Desktop/uwseds-group-transit-and-social-science/Docs/map.html\"\n",
    "#save(p, outfp)\n",
    "\n",
    "show(p)"
   ]
  },
  {
   "cell_type": "code",
   "execution_count": null,
   "metadata": {
    "collapsed": true
   },
   "outputs": [],
   "source": []
  }
 ],
 "metadata": {
  "kernelspec": {
   "display_name": "Python 3",
   "language": "python",
   "name": "python3"
  },
  "language_info": {
   "codemirror_mode": {
    "name": "ipython",
    "version": 3
   },
   "file_extension": ".py",
   "mimetype": "text/x-python",
   "name": "python",
   "nbconvert_exporter": "python",
   "pygments_lexer": "ipython3",
   "version": "3.6.1"
  }
 },
 "nbformat": 4,
 "nbformat_minor": 2
}
